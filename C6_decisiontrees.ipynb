{
 "cells": [
  {
   "cell_type": "markdown",
   "id": "0afbfe00-19bc-46ff-a2e7-248d3542cc45",
   "metadata": {},
   "source": [
    "# Decision Trees\n",
    "This is a versatile ML algorithms that can perform both classification and regression tasks, and even multioutput tasks.\n",
    "## 1. Training and Visualization"
   ]
  },
  {
   "cell_type": "code",
   "execution_count": 1,
   "id": "d263772d-0418-44f0-9952-7fb188b9163a",
   "metadata": {},
   "outputs": [],
   "source": [
    "import numpy as np\n",
    "import matplotlib as mpl\n",
    "import pandas as pd\n",
    "from pathlib import Path\n",
    "import matplotlib.pyplot as plt\n",
    "import warnings\n",
    "\n",
    "warnings.filterwarnings('ignore')"
   ]
  },
  {
   "cell_type": "code",
   "execution_count": 2,
   "id": "f2845437-85cb-424b-ad1e-7120b59c0eaa",
   "metadata": {},
   "outputs": [],
   "source": [
    "IMAGE_PATH = Path() / 'images' / 'c6_decision_tree'\n",
    "IMAGE_PATH.mkdir(parents=True, exist_ok=True)\n",
    "def save_fig(fig_id, tigh_layout=True, fig_extension='png', resolution=300):\n",
    "    #IMAGE_PATH.mkdir(parents=True, exist_ok=True)\n",
    "    path = IMAGE_PATH / f'{fig_id}.{fig_extension}'\n",
    "    if tigh_layout:\n",
    "        plt.tigh_layout()\n",
    "    plt.savefig(path, format=fig_extension, dpi=resolution)"
   ]
  },
  {
   "cell_type": "code",
   "execution_count": 3,
   "id": "6fc3a891-22dc-4350-a5ee-fcfad6b1561f",
   "metadata": {},
   "outputs": [],
   "source": [
    "from sklearn.datasets import load_iris\n",
    "from sklearn.tree import DecisionTreeClassifier\n",
    "\n",
    "iris = load_iris(as_frame=True)\n",
    "X = iris.data[['petal length (cm)', 'petal width (cm)']].values\n",
    "y = iris.target"
   ]
  },
  {
   "cell_type": "code",
   "execution_count": 4,
   "id": "150a4f46-1fe1-42b2-9b4f-c3fc3f712668",
   "metadata": {},
   "outputs": [
    {
     "data": {
      "text/html": [
       "<style>#sk-container-id-1 {color: black;background-color: white;}#sk-container-id-1 pre{padding: 0;}#sk-container-id-1 div.sk-toggleable {background-color: white;}#sk-container-id-1 label.sk-toggleable__label {cursor: pointer;display: block;width: 100%;margin-bottom: 0;padding: 0.3em;box-sizing: border-box;text-align: center;}#sk-container-id-1 label.sk-toggleable__label-arrow:before {content: \"▸\";float: left;margin-right: 0.25em;color: #696969;}#sk-container-id-1 label.sk-toggleable__label-arrow:hover:before {color: black;}#sk-container-id-1 div.sk-estimator:hover label.sk-toggleable__label-arrow:before {color: black;}#sk-container-id-1 div.sk-toggleable__content {max-height: 0;max-width: 0;overflow: hidden;text-align: left;background-color: #f0f8ff;}#sk-container-id-1 div.sk-toggleable__content pre {margin: 0.2em;color: black;border-radius: 0.25em;background-color: #f0f8ff;}#sk-container-id-1 input.sk-toggleable__control:checked~div.sk-toggleable__content {max-height: 200px;max-width: 100%;overflow: auto;}#sk-container-id-1 input.sk-toggleable__control:checked~label.sk-toggleable__label-arrow:before {content: \"▾\";}#sk-container-id-1 div.sk-estimator input.sk-toggleable__control:checked~label.sk-toggleable__label {background-color: #d4ebff;}#sk-container-id-1 div.sk-label input.sk-toggleable__control:checked~label.sk-toggleable__label {background-color: #d4ebff;}#sk-container-id-1 input.sk-hidden--visually {border: 0;clip: rect(1px 1px 1px 1px);clip: rect(1px, 1px, 1px, 1px);height: 1px;margin: -1px;overflow: hidden;padding: 0;position: absolute;width: 1px;}#sk-container-id-1 div.sk-estimator {font-family: monospace;background-color: #f0f8ff;border: 1px dotted black;border-radius: 0.25em;box-sizing: border-box;margin-bottom: 0.5em;}#sk-container-id-1 div.sk-estimator:hover {background-color: #d4ebff;}#sk-container-id-1 div.sk-parallel-item::after {content: \"\";width: 100%;border-bottom: 1px solid gray;flex-grow: 1;}#sk-container-id-1 div.sk-label:hover label.sk-toggleable__label {background-color: #d4ebff;}#sk-container-id-1 div.sk-serial::before {content: \"\";position: absolute;border-left: 1px solid gray;box-sizing: border-box;top: 0;bottom: 0;left: 50%;z-index: 0;}#sk-container-id-1 div.sk-serial {display: flex;flex-direction: column;align-items: center;background-color: white;padding-right: 0.2em;padding-left: 0.2em;position: relative;}#sk-container-id-1 div.sk-item {position: relative;z-index: 1;}#sk-container-id-1 div.sk-parallel {display: flex;align-items: stretch;justify-content: center;background-color: white;position: relative;}#sk-container-id-1 div.sk-item::before, #sk-container-id-1 div.sk-parallel-item::before {content: \"\";position: absolute;border-left: 1px solid gray;box-sizing: border-box;top: 0;bottom: 0;left: 50%;z-index: -1;}#sk-container-id-1 div.sk-parallel-item {display: flex;flex-direction: column;z-index: 1;position: relative;background-color: white;}#sk-container-id-1 div.sk-parallel-item:first-child::after {align-self: flex-end;width: 50%;}#sk-container-id-1 div.sk-parallel-item:last-child::after {align-self: flex-start;width: 50%;}#sk-container-id-1 div.sk-parallel-item:only-child::after {width: 0;}#sk-container-id-1 div.sk-dashed-wrapped {border: 1px dashed gray;margin: 0 0.4em 0.5em 0.4em;box-sizing: border-box;padding-bottom: 0.4em;background-color: white;}#sk-container-id-1 div.sk-label label {font-family: monospace;font-weight: bold;display: inline-block;line-height: 1.2em;}#sk-container-id-1 div.sk-label-container {text-align: center;}#sk-container-id-1 div.sk-container {/* jupyter's `normalize.less` sets `[hidden] { display: none; }` but bootstrap.min.css set `[hidden] { display: none !important; }` so we also need the `!important` here to be able to override the default hidden behavior on the sphinx rendered scikit-learn.org. See: https://github.com/scikit-learn/scikit-learn/issues/21755 */display: inline-block !important;position: relative;}#sk-container-id-1 div.sk-text-repr-fallback {display: none;}</style><div id=\"sk-container-id-1\" class=\"sk-top-container\"><div class=\"sk-text-repr-fallback\"><pre>DecisionTreeClassifier(max_depth=2, random_state=42)</pre><b>In a Jupyter environment, please rerun this cell to show the HTML representation or trust the notebook. <br />On GitHub, the HTML representation is unable to render, please try loading this page with nbviewer.org.</b></div><div class=\"sk-container\" hidden><div class=\"sk-item\"><div class=\"sk-estimator sk-toggleable\"><input class=\"sk-toggleable__control sk-hidden--visually\" id=\"sk-estimator-id-1\" type=\"checkbox\" checked><label for=\"sk-estimator-id-1\" class=\"sk-toggleable__label sk-toggleable__label-arrow\">DecisionTreeClassifier</label><div class=\"sk-toggleable__content\"><pre>DecisionTreeClassifier(max_depth=2, random_state=42)</pre></div></div></div></div></div>"
      ],
      "text/plain": [
       "DecisionTreeClassifier(max_depth=2, random_state=42)"
      ]
     },
     "execution_count": 4,
     "metadata": {},
     "output_type": "execute_result"
    }
   ],
   "source": [
    "## tree classifier model\n",
    "tree_clf = DecisionTreeClassifier(max_depth=2, random_state=42)\n",
    "tree_clf.fit(X, y)"
   ]
  },
  {
   "cell_type": "code",
   "execution_count": 5,
   "id": "78fe3e46-c216-4e87-b804-6fc93ca9cd63",
   "metadata": {},
   "outputs": [
    {
     "data": {
      "text/plain": [
       "(150, 2)"
      ]
     },
     "execution_count": 5,
     "metadata": {},
     "output_type": "execute_result"
    }
   ],
   "source": [
    "X.shape"
   ]
  },
  {
   "cell_type": "code",
   "execution_count": 6,
   "id": "d11254ce-069b-4e6a-94f8-c581875ba420",
   "metadata": {},
   "outputs": [
    {
     "data": {
      "text/plain": [
       "array([0, 1, 2])"
      ]
     },
     "execution_count": 6,
     "metadata": {},
     "output_type": "execute_result"
    }
   ],
   "source": [
    "tree_clf.classes_"
   ]
  },
  {
   "cell_type": "code",
   "execution_count": 7,
   "id": "abb66607-3e18-43e5-be0c-805c8059a411",
   "metadata": {},
   "outputs": [
    {
     "data": {
      "text/plain": [
       "<sklearn.tree._tree.Tree at 0x7f702c408650>"
      ]
     },
     "execution_count": 7,
     "metadata": {},
     "output_type": "execute_result"
    }
   ],
   "source": [
    "tree_clf.tree_"
   ]
  },
  {
   "cell_type": "code",
   "execution_count": 8,
   "id": "f5789207-4312-4727-8337-725aa917d9fa",
   "metadata": {},
   "outputs": [
    {
     "data": {
      "image/svg+xml": [
       "<?xml version=\"1.0\" encoding=\"UTF-8\" standalone=\"no\"?>\n",
       "<!DOCTYPE svg PUBLIC \"-//W3C//DTD SVG 1.1//EN\"\n",
       " \"http://www.w3.org/Graphics/SVG/1.1/DTD/svg11.dtd\">\n",
       "<!-- Generated by graphviz version 2.43.0 (0)\n",
       " -->\n",
       "<!-- Title: Tree Pages: 1 -->\n",
       "<svg width=\"351pt\" height=\"314pt\"\n",
       " viewBox=\"0.00 0.00 351.00 314.00\" xmlns=\"http://www.w3.org/2000/svg\" xmlns:xlink=\"http://www.w3.org/1999/xlink\">\n",
       "<g id=\"graph0\" class=\"graph\" transform=\"scale(1 1) rotate(0) translate(4 310)\">\n",
       "<title>Tree</title>\n",
       "<polygon fill=\"white\" stroke=\"transparent\" points=\"-4,4 -4,-310 347,-310 347,4 -4,4\"/>\n",
       "<!-- 0 -->\n",
       "<g id=\"node1\" class=\"node\">\n",
       "<title>0</title>\n",
       "<path fill=\"#ffffff\" stroke=\"black\" d=\"M209.5,-306C209.5,-306 65.5,-306 65.5,-306 59.5,-306 53.5,-300 53.5,-294 53.5,-294 53.5,-235 53.5,-235 53.5,-229 59.5,-223 65.5,-223 65.5,-223 209.5,-223 209.5,-223 215.5,-223 221.5,-229 221.5,-235 221.5,-235 221.5,-294 221.5,-294 221.5,-300 215.5,-306 209.5,-306\"/>\n",
       "<text text-anchor=\"middle\" x=\"137.5\" y=\"-290.8\" font-family=\"Helvetica,sans-Serif\" font-size=\"14.00\">petal length (cm) &lt;= 2.45</text>\n",
       "<text text-anchor=\"middle\" x=\"137.5\" y=\"-275.8\" font-family=\"Helvetica,sans-Serif\" font-size=\"14.00\">gini = 0.667</text>\n",
       "<text text-anchor=\"middle\" x=\"137.5\" y=\"-260.8\" font-family=\"Helvetica,sans-Serif\" font-size=\"14.00\">samples = 150</text>\n",
       "<text text-anchor=\"middle\" x=\"137.5\" y=\"-245.8\" font-family=\"Helvetica,sans-Serif\" font-size=\"14.00\">value = [50, 50, 50]</text>\n",
       "<text text-anchor=\"middle\" x=\"137.5\" y=\"-230.8\" font-family=\"Helvetica,sans-Serif\" font-size=\"14.00\">class = setosa</text>\n",
       "</g>\n",
       "<!-- 1 -->\n",
       "<g id=\"node2\" class=\"node\">\n",
       "<title>1</title>\n",
       "<path fill=\"#e58139\" stroke=\"black\" d=\"M105,-179.5C105,-179.5 12,-179.5 12,-179.5 6,-179.5 0,-173.5 0,-167.5 0,-167.5 0,-123.5 0,-123.5 0,-117.5 6,-111.5 12,-111.5 12,-111.5 105,-111.5 105,-111.5 111,-111.5 117,-117.5 117,-123.5 117,-123.5 117,-167.5 117,-167.5 117,-173.5 111,-179.5 105,-179.5\"/>\n",
       "<text text-anchor=\"middle\" x=\"58.5\" y=\"-164.3\" font-family=\"Helvetica,sans-Serif\" font-size=\"14.00\">gini = 0.0</text>\n",
       "<text text-anchor=\"middle\" x=\"58.5\" y=\"-149.3\" font-family=\"Helvetica,sans-Serif\" font-size=\"14.00\">samples = 50</text>\n",
       "<text text-anchor=\"middle\" x=\"58.5\" y=\"-134.3\" font-family=\"Helvetica,sans-Serif\" font-size=\"14.00\">value = [50, 0, 0]</text>\n",
       "<text text-anchor=\"middle\" x=\"58.5\" y=\"-119.3\" font-family=\"Helvetica,sans-Serif\" font-size=\"14.00\">class = setosa</text>\n",
       "</g>\n",
       "<!-- 0&#45;&gt;1 -->\n",
       "<g id=\"edge1\" class=\"edge\">\n",
       "<title>0&#45;&gt;1</title>\n",
       "<path fill=\"none\" stroke=\"black\" d=\"M110.09,-222.91C102.49,-211.65 94.23,-199.42 86.59,-188.11\"/>\n",
       "<polygon fill=\"black\" stroke=\"black\" points=\"89.39,-186 80.89,-179.67 83.59,-189.91 89.39,-186\"/>\n",
       "<text text-anchor=\"middle\" x=\"76.14\" y=\"-200.51\" font-family=\"Helvetica,sans-Serif\" font-size=\"14.00\">True</text>\n",
       "</g>\n",
       "<!-- 2 -->\n",
       "<g id=\"node3\" class=\"node\">\n",
       "<title>2</title>\n",
       "<path fill=\"#ffffff\" stroke=\"black\" d=\"M286,-187C286,-187 147,-187 147,-187 141,-187 135,-181 135,-175 135,-175 135,-116 135,-116 135,-110 141,-104 147,-104 147,-104 286,-104 286,-104 292,-104 298,-110 298,-116 298,-116 298,-175 298,-175 298,-181 292,-187 286,-187\"/>\n",
       "<text text-anchor=\"middle\" x=\"216.5\" y=\"-171.8\" font-family=\"Helvetica,sans-Serif\" font-size=\"14.00\">petal width (cm) &lt;= 1.75</text>\n",
       "<text text-anchor=\"middle\" x=\"216.5\" y=\"-156.8\" font-family=\"Helvetica,sans-Serif\" font-size=\"14.00\">gini = 0.5</text>\n",
       "<text text-anchor=\"middle\" x=\"216.5\" y=\"-141.8\" font-family=\"Helvetica,sans-Serif\" font-size=\"14.00\">samples = 100</text>\n",
       "<text text-anchor=\"middle\" x=\"216.5\" y=\"-126.8\" font-family=\"Helvetica,sans-Serif\" font-size=\"14.00\">value = [0, 50, 50]</text>\n",
       "<text text-anchor=\"middle\" x=\"216.5\" y=\"-111.8\" font-family=\"Helvetica,sans-Serif\" font-size=\"14.00\">class = versicolor</text>\n",
       "</g>\n",
       "<!-- 0&#45;&gt;2 -->\n",
       "<g id=\"edge2\" class=\"edge\">\n",
       "<title>0&#45;&gt;2</title>\n",
       "<path fill=\"none\" stroke=\"black\" d=\"M164.91,-222.91C170.91,-214.01 177.33,-204.51 183.53,-195.33\"/>\n",
       "<polygon fill=\"black\" stroke=\"black\" points=\"186.44,-197.27 189.14,-187.02 180.64,-193.35 186.44,-197.27\"/>\n",
       "<text text-anchor=\"middle\" x=\"193.9\" y=\"-207.86\" font-family=\"Helvetica,sans-Serif\" font-size=\"14.00\">False</text>\n",
       "</g>\n",
       "<!-- 3 -->\n",
       "<g id=\"node4\" class=\"node\">\n",
       "<title>3</title>\n",
       "<path fill=\"#4de88e\" stroke=\"black\" d=\"M196,-68C196,-68 99,-68 99,-68 93,-68 87,-62 87,-56 87,-56 87,-12 87,-12 87,-6 93,0 99,0 99,0 196,0 196,0 202,0 208,-6 208,-12 208,-12 208,-56 208,-56 208,-62 202,-68 196,-68\"/>\n",
       "<text text-anchor=\"middle\" x=\"147.5\" y=\"-52.8\" font-family=\"Helvetica,sans-Serif\" font-size=\"14.00\">gini = 0.168</text>\n",
       "<text text-anchor=\"middle\" x=\"147.5\" y=\"-37.8\" font-family=\"Helvetica,sans-Serif\" font-size=\"14.00\">samples = 54</text>\n",
       "<text text-anchor=\"middle\" x=\"147.5\" y=\"-22.8\" font-family=\"Helvetica,sans-Serif\" font-size=\"14.00\">value = [0, 49, 5]</text>\n",
       "<text text-anchor=\"middle\" x=\"147.5\" y=\"-7.8\" font-family=\"Helvetica,sans-Serif\" font-size=\"14.00\">class = versicolor</text>\n",
       "</g>\n",
       "<!-- 2&#45;&gt;3 -->\n",
       "<g id=\"edge3\" class=\"edge\">\n",
       "<title>2&#45;&gt;3</title>\n",
       "<path fill=\"none\" stroke=\"black\" d=\"M190.81,-103.73C185.29,-94.97 179.45,-85.7 173.91,-76.91\"/>\n",
       "<polygon fill=\"black\" stroke=\"black\" points=\"176.78,-74.89 168.48,-68.3 170.85,-78.63 176.78,-74.89\"/>\n",
       "</g>\n",
       "<!-- 4 -->\n",
       "<g id=\"node5\" class=\"node\">\n",
       "<title>4</title>\n",
       "<path fill=\"#843de6\" stroke=\"black\" d=\"M331,-68C331,-68 238,-68 238,-68 232,-68 226,-62 226,-56 226,-56 226,-12 226,-12 226,-6 232,0 238,0 238,0 331,0 331,0 337,0 343,-6 343,-12 343,-12 343,-56 343,-56 343,-62 337,-68 331,-68\"/>\n",
       "<text text-anchor=\"middle\" x=\"284.5\" y=\"-52.8\" font-family=\"Helvetica,sans-Serif\" font-size=\"14.00\">gini = 0.043</text>\n",
       "<text text-anchor=\"middle\" x=\"284.5\" y=\"-37.8\" font-family=\"Helvetica,sans-Serif\" font-size=\"14.00\">samples = 46</text>\n",
       "<text text-anchor=\"middle\" x=\"284.5\" y=\"-22.8\" font-family=\"Helvetica,sans-Serif\" font-size=\"14.00\">value = [0, 1, 45]</text>\n",
       "<text text-anchor=\"middle\" x=\"284.5\" y=\"-7.8\" font-family=\"Helvetica,sans-Serif\" font-size=\"14.00\">class = virginica</text>\n",
       "</g>\n",
       "<!-- 2&#45;&gt;4 -->\n",
       "<g id=\"edge4\" class=\"edge\">\n",
       "<title>2&#45;&gt;4</title>\n",
       "<path fill=\"none\" stroke=\"black\" d=\"M241.82,-103.73C247.26,-94.97 253.01,-85.7 258.48,-76.91\"/>\n",
       "<polygon fill=\"black\" stroke=\"black\" points=\"261.52,-78.64 263.82,-68.3 255.57,-74.95 261.52,-78.64\"/>\n",
       "</g>\n",
       "</g>\n",
       "</svg>\n"
      ],
      "text/plain": [
       "<graphviz.sources.Source at 0x7f702c42a640>"
      ]
     },
     "execution_count": 8,
     "metadata": {},
     "output_type": "execute_result"
    }
   ],
   "source": [
    "# visualize tree classifying paths \n",
    "from sklearn.tree import export_graphviz\n",
    "from graphviz import Source\n",
    "\n",
    "export_graphviz(tree_clf,\n",
    "                out_file=str(IMAGE_PATH / 'iris_tree.dot'),\n",
    "                feature_names=['petal length (cm)', 'petal width (cm)'],\n",
    "                class_names=iris.target_names,\n",
    "                rounded=True,\n",
    "                filled=True)\n",
    "\n",
    "Source.from_file(IMAGE_PATH / 'iris_tree.dot')"
   ]
  },
  {
   "cell_type": "markdown",
   "id": "de0ff608-f467-46cc-8fcd-facfa940b6c8",
   "metadata": {},
   "source": [
    "### 1.1 Makes predictions\n",
    "We start at *root node* (depth 0), model asks if the petal length is smaller than 2.45? \n",
    "- (depth 1) If true, the model makes classified the flower's class as setosa, and model stops prediction. If false, the model goes on the left node and asking again if the petal width is smaller than 1.75? \n",
    "- (depth 2) If true, the left node is classified as the versicolor class with 54 instances, but the node's class is not purity. If the petal width is greater than 1.75, the instances are likely the verginica class.\n",
    "\n",
    "Node's properties:\n",
    "- A node's `samples` attribute counts the number of instances that are meet the condition before.\n",
    "- The `value` attribute shows how many training instance of each class in this node applies to, for example, the last node: 0 setosa, 1 versicolor, 45 virginica.\n",
    "- The `gini` attribute measures its *Gini impurity* (G): G=0 is pure, the last node has impurity equal to 1 - (0/46)^2 - (1/46)^2 - (45/46)^2 = 0.043\n",
    "\n",
    "*Gini impurity:* $$\\displaystyle{\\mathcal{G}_i = 1 - \\sum^n_{k=1}p_{i,k}^2}$$\n",
    "- $p_{i,k}$ is the ratio of class k instances among the training instances in the i node.\n",
    "\n",
    "### 1.2. Estimating Class Probabilities\n",
    "Tree has method to estimate the probabilities for each *class k* that instance belong to.  "
   ]
  },
  {
   "cell_type": "code",
   "execution_count": 9,
   "id": "66c65da9-064f-4cc0-b12d-37835eee1c6a",
   "metadata": {},
   "outputs": [
    {
     "data": {
      "text/plain": [
       "array([[0.   , 0.907, 0.093]])"
      ]
     },
     "execution_count": 9,
     "metadata": {},
     "output_type": "execute_result"
    }
   ],
   "source": [
    "tree_clf.predict_proba([[5, 1.5]]).round(3)"
   ]
  },
  {
   "cell_type": "code",
   "execution_count": 10,
   "id": "cb87ac04-a390-4ecb-bf7a-d151f233571d",
   "metadata": {},
   "outputs": [
    {
     "data": {
      "text/plain": [
       "array([1])"
      ]
     },
     "execution_count": 10,
     "metadata": {},
     "output_type": "execute_result"
    }
   ],
   "source": [
    "tree_clf.predict([[5, 1.5]])"
   ]
  },
  {
   "cell_type": "markdown",
   "id": "3d95c195-835f-44d1-b3d5-446642b2be6e",
   "metadata": {},
   "source": [
    "### 1.3. CART Training Algorithm\n",
    "The *Classification And Regression Tree* (CART) algorithm to train the decision tree. It splits instances into a binary tree (two subsets) by using a single feature *k* and a threshold *$t_k$ (eg. petal length < 2.45). How does it choose *k* and *$t_k$? It searchs for the pair ($k,t_k$) that produces the **purest** subsets, weight by their size. The cost function that the algorithm tries to minimize:\n",
    "$$\\displaystyle{\\mathcal{J}(k,t_k) = \\frac{m_{left}}{m}G_{left} + \\frac{m_{right}}{m}G_{right} \\text{ where }\\begin{cases}\n",
    "G_{left/right} \\text{ measures the impurity of the left/right subset} \\\\\n",
    "m_{left/right} \\text{ is the number of instances in the left/right subset.}\n",
    "\\end{cases}\n",
    "}$$\n",
    "\n",
    "The algorithm will stop when reach the maximum depth (`max_depth` hyperparameter). Some hyperparameters control additional stopping conditions: `min_samples_split`, `min_samples_leaf`, `min_weight_fraction_leaf`, and `max_leaf_nodes`.\n",
    "### 1.4. Gini Impurity or Entropy?\n",
    "Default, the class uses the Gini impurity measurement, but we can set the hyperparameter `criterion='entropy'`. Entropy measures of molecular (phan tu) disorder, it approaches zero when molecules are still and well ordered. If a set's entropy is zero when it has only one class.\n",
    "\n",
    "**Entropy**\n",
    "$$\\displaystyle{H_i = -\\sum^n_{k=1}p_{i,k}log_2(p_{i,k})}$$\n",
    "\n",
    "So, Gini impurity or Entropy? they have no difference on the tree classification. Gini is slightly faster to compute. However, when they differ, Gini impurity tends to isolate the most frequent class in its own brand of the tree, while entropy tends to produce slightly more balanced trees.\n",
    "\n",
    "## 2. Regularization Hyperparameters\n",
    "DecisionTree makes a few assumptions about the training data (eg. linear models assume that data is linear). The tree structure will adapt itself to the training data, fitting it very closely - so, most likely overfitting it. Such a model is often called *Nonparametric model* (because some parameters don't need to modify in prior training). In contrast, a *parametric model* (such as linear model) has a predetermined number of parameters, so its degree of freedom is limited, reducing the risk of overfitting (but increasing the risk of underfitting).\n",
    "\n",
    "To avoid overfitting the training data, we need to restrict the DecisionTree's freedom during training. Which is called regularization. DecisionTree has a few hyperparameters that restrict the shape of the decision tree:\n",
    "- `max_depth`: reducing the depth of tree, thus reduce the risk of overfitting.\n",
    "- `max_features`: maximum number of features that are evaluated for splitting at each node.\n",
    "- `max_leaf_nodes`: maximum number of leaf nodes\n",
    "- `min_samples_split`: minimum number of samples a node must have before it can be split\n",
    "- `min_samples_leaf`: minimum number of samples a leaf node must have to be created.\n",
    "- `min_weight_fraction_leaf`: same as min_samples_leaf but expressed as a fraction of the total number of weighted instances\n",
    "- Increasing `min_*` or reducing `max_*` hyperparameter will regularize the model.\n",
    "\n",
    "**Note**: Other algorithms work by first training the DecisionTree without restrictions, then *pruning* (deleting) unnecessary nodes (a node whose children are all leaf nodes). Standard statistical tests (ie. $X^2 (Chi-squared) test) are used to estimate the probability (called *p-value*, is higher than a given threshold (>5%, controlled by hyperparameter), then the node is considered as unnecessary and its children are deleted."
   ]
  },
  {
   "cell_type": "code",
   "execution_count": 11,
   "id": "73eb28e5-2151-4214-9128-985916d2ec63",
   "metadata": {},
   "outputs": [
    {
     "data": {
      "text/html": [
       "<style>#sk-container-id-2 {color: black;background-color: white;}#sk-container-id-2 pre{padding: 0;}#sk-container-id-2 div.sk-toggleable {background-color: white;}#sk-container-id-2 label.sk-toggleable__label {cursor: pointer;display: block;width: 100%;margin-bottom: 0;padding: 0.3em;box-sizing: border-box;text-align: center;}#sk-container-id-2 label.sk-toggleable__label-arrow:before {content: \"▸\";float: left;margin-right: 0.25em;color: #696969;}#sk-container-id-2 label.sk-toggleable__label-arrow:hover:before {color: black;}#sk-container-id-2 div.sk-estimator:hover label.sk-toggleable__label-arrow:before {color: black;}#sk-container-id-2 div.sk-toggleable__content {max-height: 0;max-width: 0;overflow: hidden;text-align: left;background-color: #f0f8ff;}#sk-container-id-2 div.sk-toggleable__content pre {margin: 0.2em;color: black;border-radius: 0.25em;background-color: #f0f8ff;}#sk-container-id-2 input.sk-toggleable__control:checked~div.sk-toggleable__content {max-height: 200px;max-width: 100%;overflow: auto;}#sk-container-id-2 input.sk-toggleable__control:checked~label.sk-toggleable__label-arrow:before {content: \"▾\";}#sk-container-id-2 div.sk-estimator input.sk-toggleable__control:checked~label.sk-toggleable__label {background-color: #d4ebff;}#sk-container-id-2 div.sk-label input.sk-toggleable__control:checked~label.sk-toggleable__label {background-color: #d4ebff;}#sk-container-id-2 input.sk-hidden--visually {border: 0;clip: rect(1px 1px 1px 1px);clip: rect(1px, 1px, 1px, 1px);height: 1px;margin: -1px;overflow: hidden;padding: 0;position: absolute;width: 1px;}#sk-container-id-2 div.sk-estimator {font-family: monospace;background-color: #f0f8ff;border: 1px dotted black;border-radius: 0.25em;box-sizing: border-box;margin-bottom: 0.5em;}#sk-container-id-2 div.sk-estimator:hover {background-color: #d4ebff;}#sk-container-id-2 div.sk-parallel-item::after {content: \"\";width: 100%;border-bottom: 1px solid gray;flex-grow: 1;}#sk-container-id-2 div.sk-label:hover label.sk-toggleable__label {background-color: #d4ebff;}#sk-container-id-2 div.sk-serial::before {content: \"\";position: absolute;border-left: 1px solid gray;box-sizing: border-box;top: 0;bottom: 0;left: 50%;z-index: 0;}#sk-container-id-2 div.sk-serial {display: flex;flex-direction: column;align-items: center;background-color: white;padding-right: 0.2em;padding-left: 0.2em;position: relative;}#sk-container-id-2 div.sk-item {position: relative;z-index: 1;}#sk-container-id-2 div.sk-parallel {display: flex;align-items: stretch;justify-content: center;background-color: white;position: relative;}#sk-container-id-2 div.sk-item::before, #sk-container-id-2 div.sk-parallel-item::before {content: \"\";position: absolute;border-left: 1px solid gray;box-sizing: border-box;top: 0;bottom: 0;left: 50%;z-index: -1;}#sk-container-id-2 div.sk-parallel-item {display: flex;flex-direction: column;z-index: 1;position: relative;background-color: white;}#sk-container-id-2 div.sk-parallel-item:first-child::after {align-self: flex-end;width: 50%;}#sk-container-id-2 div.sk-parallel-item:last-child::after {align-self: flex-start;width: 50%;}#sk-container-id-2 div.sk-parallel-item:only-child::after {width: 0;}#sk-container-id-2 div.sk-dashed-wrapped {border: 1px dashed gray;margin: 0 0.4em 0.5em 0.4em;box-sizing: border-box;padding-bottom: 0.4em;background-color: white;}#sk-container-id-2 div.sk-label label {font-family: monospace;font-weight: bold;display: inline-block;line-height: 1.2em;}#sk-container-id-2 div.sk-label-container {text-align: center;}#sk-container-id-2 div.sk-container {/* jupyter's `normalize.less` sets `[hidden] { display: none; }` but bootstrap.min.css set `[hidden] { display: none !important; }` so we also need the `!important` here to be able to override the default hidden behavior on the sphinx rendered scikit-learn.org. See: https://github.com/scikit-learn/scikit-learn/issues/21755 */display: inline-block !important;position: relative;}#sk-container-id-2 div.sk-text-repr-fallback {display: none;}</style><div id=\"sk-container-id-2\" class=\"sk-top-container\"><div class=\"sk-text-repr-fallback\"><pre>DecisionTreeClassifier(min_samples_leaf=5, random_state=42)</pre><b>In a Jupyter environment, please rerun this cell to show the HTML representation or trust the notebook. <br />On GitHub, the HTML representation is unable to render, please try loading this page with nbviewer.org.</b></div><div class=\"sk-container\" hidden><div class=\"sk-item\"><div class=\"sk-estimator sk-toggleable\"><input class=\"sk-toggleable__control sk-hidden--visually\" id=\"sk-estimator-id-2\" type=\"checkbox\" checked><label for=\"sk-estimator-id-2\" class=\"sk-toggleable__label sk-toggleable__label-arrow\">DecisionTreeClassifier</label><div class=\"sk-toggleable__content\"><pre>DecisionTreeClassifier(min_samples_leaf=5, random_state=42)</pre></div></div></div></div></div>"
      ],
      "text/plain": [
       "DecisionTreeClassifier(min_samples_leaf=5, random_state=42)"
      ]
     },
     "execution_count": 11,
     "metadata": {},
     "output_type": "execute_result"
    }
   ],
   "source": [
    "from sklearn.datasets import make_moons\n",
    "\n",
    "X, y = make_moons(n_samples=150, noise=0.2, random_state=42)\n",
    "tree_clf1 = DecisionTreeClassifier(random_state=42)\n",
    "tree_clf2 = DecisionTreeClassifier(min_samples_leaf=5, random_state=42)\n",
    "tree_clf1.fit(X, y)\n",
    "tree_clf2.fit(X, y)"
   ]
  },
  {
   "cell_type": "code",
   "execution_count": 12,
   "id": "4b0d2dbc-9ac9-4cd5-85ff-372c36bb6ec0",
   "metadata": {},
   "outputs": [
    {
     "data": {
      "image/png": "[encoded data removed]",
      "text/plain": [
       "<Figure size 1000x400 with 2 Axes>"
      ]
     },
     "metadata": {},
     "output_type": "display_data"
    }
   ],
   "source": [
    "def plot_decision_boundary(clf, X, y, axes, cmap):\n",
    "    x1, x2 = np.meshgrid(np.linspace(axes[0], axes[1], 100), \n",
    "                         np.linspace(axes[2], axes[3], 100))\n",
    "    X_new = np.c_[x1.ravel(), x2.ravel()]\n",
    "    y_pred = clf.predict(X_new).reshape(x1.shape)\n",
    "    \n",
    "    plt.contourf(x1, x2, y_pred, alpha=0.3, cmap=cmap)\n",
    "    plt.contour(x1, x2, y_pred, cmap='Greys', alpha=0.8)\n",
    "    colors = {'Wistia': ['#78785c', '#c47b27'], 'Pestel1': ['red', 'blue']}\n",
    "    markers = ('o', '^')\n",
    "    for idx in (0, 1):\n",
    "        plt.plot(X[:, 0][y==idx], X[:, 1][y==idx], \n",
    "                 color=colors[cmap][idx], marker=markers[idx], linestyle='none')\n",
    "    plt.axis(axes)\n",
    "    plt.xlabel('x1')\n",
    "    plt.ylabel('x2')\n",
    "    \n",
    "\n",
    "fig, axes = plt.subplots(ncols=2, figsize=(10, 4), sharey=True)\n",
    "plt.sca(axes[0])\n",
    "plot_decision_boundary(tree_clf1, X, y, axes=[-1.5, 2.4, -1, 1.5], cmap='Wistia')\n",
    "plt.title('No retrictions')\n",
    "\n",
    "plt.sca(axes[1])\n",
    "plot_decision_boundary(tree_clf2, X, y, axes=[-1.5, 2.4, -1, 1.5], cmap='Wistia')\n",
    "plt.title(f'min_samples_leaf= {tree_clf2.min_samples_leaf}')\n",
    "plt.ylabel('')\n",
    "plt.show()"
   ]
  },
  {
   "cell_type": "code",
   "execution_count": 13,
   "id": "e574bf6a-ba48-41f7-b928-ccb6ffa5f4ff",
   "metadata": {},
   "outputs": [
    {
     "data": {
      "image/svg+xml": [
       "<?xml version=\"1.0\" encoding=\"UTF-8\" standalone=\"no\"?>\n",
       "<!DOCTYPE svg PUBLIC \"-//W3C//DTD SVG 1.1//EN\"\n",
       " \"http://www.w3.org/Graphics/SVG/1.1/DTD/svg11.dtd\">\n",
       "<!-- Generated by graphviz version 2.43.0 (0)\n",
       " -->\n",
       "<!-- Title: Tree Pages: 1 -->\n",
       "<svg width=\"750pt\" height=\"790pt\"\n",
       " viewBox=\"0.00 0.00 749.50 790.00\" xmlns=\"http://www.w3.org/2000/svg\" xmlns:xlink=\"http://www.w3.org/1999/xlink\">\n",
       "<g id=\"graph0\" class=\"graph\" transform=\"scale(1 1) rotate(0) translate(4 786)\">\n",
       "<title>Tree</title>\n",
       "<polygon fill=\"white\" stroke=\"transparent\" points=\"-4,4 -4,-786 745.5,-786 745.5,4 -4,4\"/>\n",
       "<!-- 0 -->\n",
       "<g id=\"node1\" class=\"node\">\n",
       "<title>0</title>\n",
       "<path fill=\"#ffffff\" stroke=\"black\" d=\"M276,-782C276,-782 190,-782 190,-782 184,-782 178,-776 178,-770 178,-770 178,-711 178,-711 178,-705 184,-699 190,-699 190,-699 276,-699 276,-699 282,-699 288,-705 288,-711 288,-711 288,-770 288,-770 288,-776 282,-782 276,-782\"/>\n",
       "<text text-anchor=\"middle\" x=\"233\" y=\"-766.8\" font-family=\"Helvetica,sans-Serif\" font-size=\"14.00\">x2 &lt;= 0.148</text>\n",
       "<text text-anchor=\"middle\" x=\"233\" y=\"-751.8\" font-family=\"Helvetica,sans-Serif\" font-size=\"14.00\">gini = 0.5</text>\n",
       "<text text-anchor=\"middle\" x=\"233\" y=\"-736.8\" font-family=\"Helvetica,sans-Serif\" font-size=\"14.00\">samples = 150</text>\n",
       "<text text-anchor=\"middle\" x=\"233\" y=\"-721.8\" font-family=\"Helvetica,sans-Serif\" font-size=\"14.00\">value = [75, 75]</text>\n",
       "<text text-anchor=\"middle\" x=\"233\" y=\"-706.8\" font-family=\"Helvetica,sans-Serif\" font-size=\"14.00\">class = 0</text>\n",
       "</g>\n",
       "<!-- 1 -->\n",
       "<g id=\"node2\" class=\"node\">\n",
       "<title>1</title>\n",
       "<path fill=\"#4ea8e8\" stroke=\"black\" d=\"M210,-663C210,-663 132,-663 132,-663 126,-663 120,-657 120,-651 120,-651 120,-592 120,-592 120,-586 126,-580 132,-580 132,-580 210,-580 210,-580 216,-580 222,-586 222,-592 222,-592 222,-651 222,-651 222,-657 216,-663 210,-663\"/>\n",
       "<text text-anchor=\"middle\" x=\"171\" y=\"-647.8\" font-family=\"Helvetica,sans-Serif\" font-size=\"14.00\">x1 &lt;= &#45;0.039</text>\n",
       "<text text-anchor=\"middle\" x=\"171\" y=\"-632.8\" font-family=\"Helvetica,sans-Serif\" font-size=\"14.00\">gini = 0.175</text>\n",
       "<text text-anchor=\"middle\" x=\"171\" y=\"-617.8\" font-family=\"Helvetica,sans-Serif\" font-size=\"14.00\">samples = 62</text>\n",
       "<text text-anchor=\"middle\" x=\"171\" y=\"-602.8\" font-family=\"Helvetica,sans-Serif\" font-size=\"14.00\">value = [6, 56]</text>\n",
       "<text text-anchor=\"middle\" x=\"171\" y=\"-587.8\" font-family=\"Helvetica,sans-Serif\" font-size=\"14.00\">class = 1</text>\n",
       "</g>\n",
       "<!-- 0&#45;&gt;1 -->\n",
       "<g id=\"edge1\" class=\"edge\">\n",
       "<title>0&#45;&gt;1</title>\n",
       "<path fill=\"none\" stroke=\"black\" d=\"M211.49,-698.91C206.87,-690.2 201.95,-680.9 197.17,-671.89\"/>\n",
       "<polygon fill=\"black\" stroke=\"black\" points=\"200.25,-670.22 192.47,-663.02 194.06,-673.5 200.25,-670.22\"/>\n",
       "<text text-anchor=\"middle\" x=\"185.13\" y=\"-683.22\" font-family=\"Helvetica,sans-Serif\" font-size=\"14.00\">True</text>\n",
       "</g>\n",
       "<!-- 8 -->\n",
       "<g id=\"node9\" class=\"node\">\n",
       "<title>8</title>\n",
       "<path fill=\"#eca470\" stroke=\"black\" d=\"M393,-663C393,-663 307,-663 307,-663 301,-663 295,-657 295,-651 295,-651 295,-592 295,-592 295,-586 301,-580 307,-580 307,-580 393,-580 393,-580 399,-580 405,-586 405,-592 405,-592 405,-651 405,-651 405,-657 399,-663 393,-663\"/>\n",
       "<text text-anchor=\"middle\" x=\"350\" y=\"-647.8\" font-family=\"Helvetica,sans-Serif\" font-size=\"14.00\">x1 &lt;= 1.498</text>\n",
       "<text text-anchor=\"middle\" x=\"350\" y=\"-632.8\" font-family=\"Helvetica,sans-Serif\" font-size=\"14.00\">gini = 0.339</text>\n",
       "<text text-anchor=\"middle\" x=\"350\" y=\"-617.8\" font-family=\"Helvetica,sans-Serif\" font-size=\"14.00\">samples = 88</text>\n",
       "<text text-anchor=\"middle\" x=\"350\" y=\"-602.8\" font-family=\"Helvetica,sans-Serif\" font-size=\"14.00\">value = [69, 19]</text>\n",
       "<text text-anchor=\"middle\" x=\"350\" y=\"-587.8\" font-family=\"Helvetica,sans-Serif\" font-size=\"14.00\">class = 0</text>\n",
       "</g>\n",
       "<!-- 0&#45;&gt;8 -->\n",
       "<g id=\"edge8\" class=\"edge\">\n",
       "<title>0&#45;&gt;8</title>\n",
       "<path fill=\"none\" stroke=\"black\" d=\"M273.59,-698.91C282.85,-689.65 292.77,-679.73 302.29,-670.21\"/>\n",
       "<polygon fill=\"black\" stroke=\"black\" points=\"304.88,-672.57 309.48,-663.02 299.93,-667.62 304.88,-672.57\"/>\n",
       "<text text-anchor=\"middle\" x=\"309.48\" y=\"-684.32\" font-family=\"Helvetica,sans-Serif\" font-size=\"14.00\">False</text>\n",
       "</g>\n",
       "<!-- 2 -->\n",
       "<g id=\"node3\" class=\"node\">\n",
       "<title>2</title>\n",
       "<path fill=\"#f6d5bd\" stroke=\"black\" d=\"M89.5,-536.5C89.5,-536.5 18.5,-536.5 18.5,-536.5 12.5,-536.5 6.5,-530.5 6.5,-524.5 6.5,-524.5 6.5,-480.5 6.5,-480.5 6.5,-474.5 12.5,-468.5 18.5,-468.5 18.5,-468.5 89.5,-468.5 89.5,-468.5 95.5,-468.5 101.5,-474.5 101.5,-480.5 101.5,-480.5 101.5,-524.5 101.5,-524.5 101.5,-530.5 95.5,-536.5 89.5,-536.5\"/>\n",
       "<text text-anchor=\"middle\" x=\"54\" y=\"-521.3\" font-family=\"Helvetica,sans-Serif\" font-size=\"14.00\">gini = 0.48</text>\n",
       "<text text-anchor=\"middle\" x=\"54\" y=\"-506.3\" font-family=\"Helvetica,sans-Serif\" font-size=\"14.00\">samples = 5</text>\n",
       "<text text-anchor=\"middle\" x=\"54\" y=\"-491.3\" font-family=\"Helvetica,sans-Serif\" font-size=\"14.00\">value = [3, 2]</text>\n",
       "<text text-anchor=\"middle\" x=\"54\" y=\"-476.3\" font-family=\"Helvetica,sans-Serif\" font-size=\"14.00\">class = 0</text>\n",
       "</g>\n",
       "<!-- 1&#45;&gt;2 -->\n",
       "<g id=\"edge2\" class=\"edge\">\n",
       "<title>1&#45;&gt;2</title>\n",
       "<path fill=\"none\" stroke=\"black\" d=\"M130.41,-579.91C118.71,-568.21 105.96,-555.46 94.28,-543.78\"/>\n",
       "<polygon fill=\"black\" stroke=\"black\" points=\"96.71,-541.26 87.17,-536.67 91.76,-546.21 96.71,-541.26\"/>\n",
       "</g>\n",
       "<!-- 3 -->\n",
       "<g id=\"node4\" class=\"node\">\n",
       "<title>3</title>\n",
       "<path fill=\"#44a2e6\" stroke=\"black\" d=\"M210,-544C210,-544 132,-544 132,-544 126,-544 120,-538 120,-532 120,-532 120,-473 120,-473 120,-467 126,-461 132,-461 132,-461 210,-461 210,-461 216,-461 222,-467 222,-473 222,-473 222,-532 222,-532 222,-538 216,-544 210,-544\"/>\n",
       "<text text-anchor=\"middle\" x=\"171\" y=\"-528.8\" font-family=\"Helvetica,sans-Serif\" font-size=\"14.00\">x2 &lt;= &#45;0.045</text>\n",
       "<text text-anchor=\"middle\" x=\"171\" y=\"-513.8\" font-family=\"Helvetica,sans-Serif\" font-size=\"14.00\">gini = 0.1</text>\n",
       "<text text-anchor=\"middle\" x=\"171\" y=\"-498.8\" font-family=\"Helvetica,sans-Serif\" font-size=\"14.00\">samples = 57</text>\n",
       "<text text-anchor=\"middle\" x=\"171\" y=\"-483.8\" font-family=\"Helvetica,sans-Serif\" font-size=\"14.00\">value = [3, 54]</text>\n",
       "<text text-anchor=\"middle\" x=\"171\" y=\"-468.8\" font-family=\"Helvetica,sans-Serif\" font-size=\"14.00\">class = 1</text>\n",
       "</g>\n",
       "<!-- 1&#45;&gt;3 -->\n",
       "<g id=\"edge3\" class=\"edge\">\n",
       "<title>1&#45;&gt;3</title>\n",
       "<path fill=\"none\" stroke=\"black\" d=\"M171,-579.91C171,-571.65 171,-562.86 171,-554.3\"/>\n",
       "<polygon fill=\"black\" stroke=\"black\" points=\"174.5,-554.02 171,-544.02 167.5,-554.02 174.5,-554.02\"/>\n",
       "</g>\n",
       "<!-- 4 -->\n",
       "<g id=\"node5\" class=\"node\">\n",
       "<title>4</title>\n",
       "<path fill=\"#399de5\" stroke=\"black\" d=\"M90,-417.5C90,-417.5 12,-417.5 12,-417.5 6,-417.5 0,-411.5 0,-405.5 0,-405.5 0,-361.5 0,-361.5 0,-355.5 6,-349.5 12,-349.5 12,-349.5 90,-349.5 90,-349.5 96,-349.5 102,-355.5 102,-361.5 102,-361.5 102,-405.5 102,-405.5 102,-411.5 96,-417.5 90,-417.5\"/>\n",
       "<text text-anchor=\"middle\" x=\"51\" y=\"-402.3\" font-family=\"Helvetica,sans-Serif\" font-size=\"14.00\">gini = 0.0</text>\n",
       "<text text-anchor=\"middle\" x=\"51\" y=\"-387.3\" font-family=\"Helvetica,sans-Serif\" font-size=\"14.00\">samples = 39</text>\n",
       "<text text-anchor=\"middle\" x=\"51\" y=\"-372.3\" font-family=\"Helvetica,sans-Serif\" font-size=\"14.00\">value = [0, 39]</text>\n",
       "<text text-anchor=\"middle\" x=\"51\" y=\"-357.3\" font-family=\"Helvetica,sans-Serif\" font-size=\"14.00\">class = 1</text>\n",
       "</g>\n",
       "<!-- 3&#45;&gt;4 -->\n",
       "<g id=\"edge4\" class=\"edge\">\n",
       "<title>3&#45;&gt;4</title>\n",
       "<path fill=\"none\" stroke=\"black\" d=\"M129.37,-460.91C117.37,-449.21 104.29,-436.46 92.31,-424.78\"/>\n",
       "<polygon fill=\"black\" stroke=\"black\" points=\"94.62,-422.14 85.02,-417.67 89.73,-427.15 94.62,-422.14\"/>\n",
       "</g>\n",
       "<!-- 5 -->\n",
       "<g id=\"node6\" class=\"node\">\n",
       "<title>5</title>\n",
       "<path fill=\"#61b1ea\" stroke=\"black\" d=\"M210,-425C210,-425 132,-425 132,-425 126,-425 120,-419 120,-413 120,-413 120,-354 120,-354 120,-348 126,-342 132,-342 132,-342 210,-342 210,-342 216,-342 222,-348 222,-354 222,-354 222,-413 222,-413 222,-419 216,-425 210,-425\"/>\n",
       "<text text-anchor=\"middle\" x=\"171\" y=\"-409.8\" font-family=\"Helvetica,sans-Serif\" font-size=\"14.00\">x2 &lt;= 0.036</text>\n",
       "<text text-anchor=\"middle\" x=\"171\" y=\"-394.8\" font-family=\"Helvetica,sans-Serif\" font-size=\"14.00\">gini = 0.278</text>\n",
       "<text text-anchor=\"middle\" x=\"171\" y=\"-379.8\" font-family=\"Helvetica,sans-Serif\" font-size=\"14.00\">samples = 18</text>\n",
       "<text text-anchor=\"middle\" x=\"171\" y=\"-364.8\" font-family=\"Helvetica,sans-Serif\" font-size=\"14.00\">value = [3, 15]</text>\n",
       "<text text-anchor=\"middle\" x=\"171\" y=\"-349.8\" font-family=\"Helvetica,sans-Serif\" font-size=\"14.00\">class = 1</text>\n",
       "</g>\n",
       "<!-- 3&#45;&gt;5 -->\n",
       "<g id=\"edge5\" class=\"edge\">\n",
       "<title>3&#45;&gt;5</title>\n",
       "<path fill=\"none\" stroke=\"black\" d=\"M171,-460.91C171,-452.65 171,-443.86 171,-435.3\"/>\n",
       "<polygon fill=\"black\" stroke=\"black\" points=\"174.5,-435.02 171,-425.02 167.5,-435.02 174.5,-435.02\"/>\n",
       "</g>\n",
       "<!-- 6 -->\n",
       "<g id=\"node7\" class=\"node\">\n",
       "<title>6</title>\n",
       "<path fill=\"#b0d8f5\" stroke=\"black\" d=\"M89.5,-298.5C89.5,-298.5 18.5,-298.5 18.5,-298.5 12.5,-298.5 6.5,-292.5 6.5,-286.5 6.5,-286.5 6.5,-242.5 6.5,-242.5 6.5,-236.5 12.5,-230.5 18.5,-230.5 18.5,-230.5 89.5,-230.5 89.5,-230.5 95.5,-230.5 101.5,-236.5 101.5,-242.5 101.5,-242.5 101.5,-286.5 101.5,-286.5 101.5,-292.5 95.5,-298.5 89.5,-298.5\"/>\n",
       "<text text-anchor=\"middle\" x=\"54\" y=\"-283.3\" font-family=\"Helvetica,sans-Serif\" font-size=\"14.00\">gini = 0.469</text>\n",
       "<text text-anchor=\"middle\" x=\"54\" y=\"-268.3\" font-family=\"Helvetica,sans-Serif\" font-size=\"14.00\">samples = 8</text>\n",
       "<text text-anchor=\"middle\" x=\"54\" y=\"-253.3\" font-family=\"Helvetica,sans-Serif\" font-size=\"14.00\">value = [3, 5]</text>\n",
       "<text text-anchor=\"middle\" x=\"54\" y=\"-238.3\" font-family=\"Helvetica,sans-Serif\" font-size=\"14.00\">class = 1</text>\n",
       "</g>\n",
       "<!-- 5&#45;&gt;6 -->\n",
       "<g id=\"edge6\" class=\"edge\">\n",
       "<title>5&#45;&gt;6</title>\n",
       "<path fill=\"none\" stroke=\"black\" d=\"M130.41,-341.91C118.71,-330.21 105.96,-317.46 94.28,-305.78\"/>\n",
       "<polygon fill=\"black\" stroke=\"black\" points=\"96.71,-303.26 87.17,-298.67 91.76,-308.21 96.71,-303.26\"/>\n",
       "</g>\n",
       "<!-- 7 -->\n",
       "<g id=\"node8\" class=\"node\">\n",
       "<title>7</title>\n",
       "<path fill=\"#399de5\" stroke=\"black\" d=\"M210,-298.5C210,-298.5 132,-298.5 132,-298.5 126,-298.5 120,-292.5 120,-286.5 120,-286.5 120,-242.5 120,-242.5 120,-236.5 126,-230.5 132,-230.5 132,-230.5 210,-230.5 210,-230.5 216,-230.5 222,-236.5 222,-242.5 222,-242.5 222,-286.5 222,-286.5 222,-292.5 216,-298.5 210,-298.5\"/>\n",
       "<text text-anchor=\"middle\" x=\"171\" y=\"-283.3\" font-family=\"Helvetica,sans-Serif\" font-size=\"14.00\">gini = 0.0</text>\n",
       "<text text-anchor=\"middle\" x=\"171\" y=\"-268.3\" font-family=\"Helvetica,sans-Serif\" font-size=\"14.00\">samples = 10</text>\n",
       "<text text-anchor=\"middle\" x=\"171\" y=\"-253.3\" font-family=\"Helvetica,sans-Serif\" font-size=\"14.00\">value = [0, 10]</text>\n",
       "<text text-anchor=\"middle\" x=\"171\" y=\"-238.3\" font-family=\"Helvetica,sans-Serif\" font-size=\"14.00\">class = 1</text>\n",
       "</g>\n",
       "<!-- 5&#45;&gt;7 -->\n",
       "<g id=\"edge7\" class=\"edge\">\n",
       "<title>5&#45;&gt;7</title>\n",
       "<path fill=\"none\" stroke=\"black\" d=\"M171,-341.91C171,-331.2 171,-319.62 171,-308.78\"/>\n",
       "<polygon fill=\"black\" stroke=\"black\" points=\"174.5,-308.67 171,-298.67 167.5,-308.67 174.5,-308.67\"/>\n",
       "</g>\n",
       "<!-- 9 -->\n",
       "<g id=\"node10\" class=\"node\">\n",
       "<title>9</title>\n",
       "<path fill=\"#e99559\" stroke=\"black\" d=\"M392.5,-544C392.5,-544 307.5,-544 307.5,-544 301.5,-544 295.5,-538 295.5,-532 295.5,-532 295.5,-473 295.5,-473 295.5,-467 301.5,-461 307.5,-461 307.5,-461 392.5,-461 392.5,-461 398.5,-461 404.5,-467 404.5,-473 404.5,-473 404.5,-532 404.5,-532 404.5,-538 398.5,-544 392.5,-544\"/>\n",
       "<text text-anchor=\"middle\" x=\"350\" y=\"-528.8\" font-family=\"Helvetica,sans-Serif\" font-size=\"14.00\">x2 &lt;= 0.529</text>\n",
       "<text text-anchor=\"middle\" x=\"350\" y=\"-513.8\" font-family=\"Helvetica,sans-Serif\" font-size=\"14.00\">gini = 0.237</text>\n",
       "<text text-anchor=\"middle\" x=\"350\" y=\"-498.8\" font-family=\"Helvetica,sans-Serif\" font-size=\"14.00\">samples = 80</text>\n",
       "<text text-anchor=\"middle\" x=\"350\" y=\"-483.8\" font-family=\"Helvetica,sans-Serif\" font-size=\"14.00\">value = [69, 11]</text>\n",
       "<text text-anchor=\"middle\" x=\"350\" y=\"-468.8\" font-family=\"Helvetica,sans-Serif\" font-size=\"14.00\">class = 0</text>\n",
       "</g>\n",
       "<!-- 8&#45;&gt;9 -->\n",
       "<g id=\"edge9\" class=\"edge\">\n",
       "<title>8&#45;&gt;9</title>\n",
       "<path fill=\"none\" stroke=\"black\" d=\"M350,-579.91C350,-571.65 350,-562.86 350,-554.3\"/>\n",
       "<polygon fill=\"black\" stroke=\"black\" points=\"353.5,-554.02 350,-544.02 346.5,-554.02 353.5,-554.02\"/>\n",
       "</g>\n",
       "<!-- 24 -->\n",
       "<g id=\"node25\" class=\"node\">\n",
       "<title>24</title>\n",
       "<path fill=\"#399de5\" stroke=\"black\" d=\"M505.5,-536.5C505.5,-536.5 434.5,-536.5 434.5,-536.5 428.5,-536.5 422.5,-530.5 422.5,-524.5 422.5,-524.5 422.5,-480.5 422.5,-480.5 422.5,-474.5 428.5,-468.5 434.5,-468.5 434.5,-468.5 505.5,-468.5 505.5,-468.5 511.5,-468.5 517.5,-474.5 517.5,-480.5 517.5,-480.5 517.5,-524.5 517.5,-524.5 517.5,-530.5 511.5,-536.5 505.5,-536.5\"/>\n",
       "<text text-anchor=\"middle\" x=\"470\" y=\"-521.3\" font-family=\"Helvetica,sans-Serif\" font-size=\"14.00\">gini = 0.0</text>\n",
       "<text text-anchor=\"middle\" x=\"470\" y=\"-506.3\" font-family=\"Helvetica,sans-Serif\" font-size=\"14.00\">samples = 8</text>\n",
       "<text text-anchor=\"middle\" x=\"470\" y=\"-491.3\" font-family=\"Helvetica,sans-Serif\" font-size=\"14.00\">value = [0, 8]</text>\n",
       "<text text-anchor=\"middle\" x=\"470\" y=\"-476.3\" font-family=\"Helvetica,sans-Serif\" font-size=\"14.00\">class = 1</text>\n",
       "</g>\n",
       "<!-- 8&#45;&gt;24 -->\n",
       "<g id=\"edge24\" class=\"edge\">\n",
       "<title>8&#45;&gt;24</title>\n",
       "<path fill=\"none\" stroke=\"black\" d=\"M391.63,-579.91C403.63,-568.21 416.71,-555.46 428.69,-543.78\"/>\n",
       "<polygon fill=\"black\" stroke=\"black\" points=\"431.27,-546.15 435.98,-536.67 426.38,-541.14 431.27,-546.15\"/>\n",
       "</g>\n",
       "<!-- 10 -->\n",
       "<g id=\"node11\" class=\"node\">\n",
       "<title>10</title>\n",
       "<path fill=\"#f1bd97\" stroke=\"black\" d=\"M389,-425C389,-425 311,-425 311,-425 305,-425 299,-419 299,-413 299,-413 299,-354 299,-354 299,-348 305,-342 311,-342 311,-342 389,-342 389,-342 395,-342 401,-348 401,-354 401,-354 401,-413 401,-413 401,-419 395,-425 389,-425\"/>\n",
       "<text text-anchor=\"middle\" x=\"350\" y=\"-409.8\" font-family=\"Helvetica,sans-Serif\" font-size=\"14.00\">x1 &lt;= &#45;0.512</text>\n",
       "<text text-anchor=\"middle\" x=\"350\" y=\"-394.8\" font-family=\"Helvetica,sans-Serif\" font-size=\"14.00\">gini = 0.436</text>\n",
       "<text text-anchor=\"middle\" x=\"350\" y=\"-379.8\" font-family=\"Helvetica,sans-Serif\" font-size=\"14.00\">samples = 28</text>\n",
       "<text text-anchor=\"middle\" x=\"350\" y=\"-364.8\" font-family=\"Helvetica,sans-Serif\" font-size=\"14.00\">value = [19, 9]</text>\n",
       "<text text-anchor=\"middle\" x=\"350\" y=\"-349.8\" font-family=\"Helvetica,sans-Serif\" font-size=\"14.00\">class = 0</text>\n",
       "</g>\n",
       "<!-- 9&#45;&gt;10 -->\n",
       "<g id=\"edge10\" class=\"edge\">\n",
       "<title>9&#45;&gt;10</title>\n",
       "<path fill=\"none\" stroke=\"black\" d=\"M350,-460.91C350,-452.65 350,-443.86 350,-435.3\"/>\n",
       "<polygon fill=\"black\" stroke=\"black\" points=\"353.5,-435.02 350,-425.02 346.5,-435.02 353.5,-435.02\"/>\n",
       "</g>\n",
       "<!-- 17 -->\n",
       "<g id=\"node18\" class=\"node\">\n",
       "<title>17</title>\n",
       "<path fill=\"#e68641\" stroke=\"black\" d=\"M564,-425C564,-425 486,-425 486,-425 480,-425 474,-419 474,-413 474,-413 474,-354 474,-354 474,-348 480,-342 486,-342 486,-342 564,-342 564,-342 570,-342 576,-348 576,-354 576,-354 576,-413 576,-413 576,-419 570,-425 564,-425\"/>\n",
       "<text text-anchor=\"middle\" x=\"525\" y=\"-409.8\" font-family=\"Helvetica,sans-Serif\" font-size=\"14.00\">x2 &lt;= 0.767</text>\n",
       "<text text-anchor=\"middle\" x=\"525\" y=\"-394.8\" font-family=\"Helvetica,sans-Serif\" font-size=\"14.00\">gini = 0.074</text>\n",
       "<text text-anchor=\"middle\" x=\"525\" y=\"-379.8\" font-family=\"Helvetica,sans-Serif\" font-size=\"14.00\">samples = 52</text>\n",
       "<text text-anchor=\"middle\" x=\"525\" y=\"-364.8\" font-family=\"Helvetica,sans-Serif\" font-size=\"14.00\">value = [50, 2]</text>\n",
       "<text text-anchor=\"middle\" x=\"525\" y=\"-349.8\" font-family=\"Helvetica,sans-Serif\" font-size=\"14.00\">class = 0</text>\n",
       "</g>\n",
       "<!-- 9&#45;&gt;17 -->\n",
       "<g id=\"edge17\" class=\"edge\">\n",
       "<title>9&#45;&gt;17</title>\n",
       "<path fill=\"none\" stroke=\"black\" d=\"M404.89,-464.8C424.1,-451.96 445.76,-437.48 465.34,-424.39\"/>\n",
       "<polygon fill=\"black\" stroke=\"black\" points=\"467.51,-427.15 473.88,-418.68 463.62,-421.33 467.51,-427.15\"/>\n",
       "</g>\n",
       "<!-- 11 -->\n",
       "<g id=\"node12\" class=\"node\">\n",
       "<title>11</title>\n",
       "<path fill=\"#e58139\" stroke=\"black\" d=\"M323.5,-298.5C323.5,-298.5 252.5,-298.5 252.5,-298.5 246.5,-298.5 240.5,-292.5 240.5,-286.5 240.5,-286.5 240.5,-242.5 240.5,-242.5 240.5,-236.5 246.5,-230.5 252.5,-230.5 252.5,-230.5 323.5,-230.5 323.5,-230.5 329.5,-230.5 335.5,-236.5 335.5,-242.5 335.5,-242.5 335.5,-286.5 335.5,-286.5 335.5,-292.5 329.5,-298.5 323.5,-298.5\"/>\n",
       "<text text-anchor=\"middle\" x=\"288\" y=\"-283.3\" font-family=\"Helvetica,sans-Serif\" font-size=\"14.00\">gini = 0.0</text>\n",
       "<text text-anchor=\"middle\" x=\"288\" y=\"-268.3\" font-family=\"Helvetica,sans-Serif\" font-size=\"14.00\">samples = 9</text>\n",
       "<text text-anchor=\"middle\" x=\"288\" y=\"-253.3\" font-family=\"Helvetica,sans-Serif\" font-size=\"14.00\">value = [9, 0]</text>\n",
       "<text text-anchor=\"middle\" x=\"288\" y=\"-238.3\" font-family=\"Helvetica,sans-Serif\" font-size=\"14.00\">class = 0</text>\n",
       "</g>\n",
       "<!-- 10&#45;&gt;11 -->\n",
       "<g id=\"edge11\" class=\"edge\">\n",
       "<title>10&#45;&gt;11</title>\n",
       "<path fill=\"none\" stroke=\"black\" d=\"M328.49,-341.91C322.64,-330.87 316.3,-318.9 310.4,-307.77\"/>\n",
       "<polygon fill=\"black\" stroke=\"black\" points=\"313.35,-305.86 305.58,-298.67 307.17,-309.14 313.35,-305.86\"/>\n",
       "</g>\n",
       "<!-- 12 -->\n",
       "<g id=\"node13\" class=\"node\">\n",
       "<title>12</title>\n",
       "<path fill=\"#fcf2eb\" stroke=\"black\" d=\"M444,-306C444,-306 366,-306 366,-306 360,-306 354,-300 354,-294 354,-294 354,-235 354,-235 354,-229 360,-223 366,-223 366,-223 444,-223 444,-223 450,-223 456,-229 456,-235 456,-235 456,-294 456,-294 456,-300 450,-306 444,-306\"/>\n",
       "<text text-anchor=\"middle\" x=\"405\" y=\"-290.8\" font-family=\"Helvetica,sans-Serif\" font-size=\"14.00\">x1 &lt;= 0.758</text>\n",
       "<text text-anchor=\"middle\" x=\"405\" y=\"-275.8\" font-family=\"Helvetica,sans-Serif\" font-size=\"14.00\">gini = 0.499</text>\n",
       "<text text-anchor=\"middle\" x=\"405\" y=\"-260.8\" font-family=\"Helvetica,sans-Serif\" font-size=\"14.00\">samples = 19</text>\n",
       "<text text-anchor=\"middle\" x=\"405\" y=\"-245.8\" font-family=\"Helvetica,sans-Serif\" font-size=\"14.00\">value = [10, 9]</text>\n",
       "<text text-anchor=\"middle\" x=\"405\" y=\"-230.8\" font-family=\"Helvetica,sans-Serif\" font-size=\"14.00\">class = 0</text>\n",
       "</g>\n",
       "<!-- 10&#45;&gt;12 -->\n",
       "<g id=\"edge12\" class=\"edge\">\n",
       "<title>10&#45;&gt;12</title>\n",
       "<path fill=\"none\" stroke=\"black\" d=\"M369.08,-341.91C373.13,-333.29 377.46,-324.09 381.65,-315.17\"/>\n",
       "<polygon fill=\"black\" stroke=\"black\" points=\"384.86,-316.56 385.95,-306.02 378.53,-313.58 384.86,-316.56\"/>\n",
       "</g>\n",
       "<!-- 13 -->\n",
       "<g id=\"node14\" class=\"node\">\n",
       "<title>13</title>\n",
       "<path fill=\"#4fa8e8\" stroke=\"black\" d=\"M329,-187C329,-187 255,-187 255,-187 249,-187 243,-181 243,-175 243,-175 243,-116 243,-116 243,-110 249,-104 255,-104 255,-104 329,-104 329,-104 335,-104 341,-110 341,-116 341,-116 341,-175 341,-175 341,-181 335,-187 329,-187\"/>\n",
       "<text text-anchor=\"middle\" x=\"292\" y=\"-171.8\" font-family=\"Helvetica,sans-Serif\" font-size=\"14.00\">x2 &lt;= 0.338</text>\n",
       "<text text-anchor=\"middle\" x=\"292\" y=\"-156.8\" font-family=\"Helvetica,sans-Serif\" font-size=\"14.00\">gini = 0.18</text>\n",
       "<text text-anchor=\"middle\" x=\"292\" y=\"-141.8\" font-family=\"Helvetica,sans-Serif\" font-size=\"14.00\">samples = 10</text>\n",
       "<text text-anchor=\"middle\" x=\"292\" y=\"-126.8\" font-family=\"Helvetica,sans-Serif\" font-size=\"14.00\">value = [1, 9]</text>\n",
       "<text text-anchor=\"middle\" x=\"292\" y=\"-111.8\" font-family=\"Helvetica,sans-Serif\" font-size=\"14.00\">class = 1</text>\n",
       "</g>\n",
       "<!-- 12&#45;&gt;13 -->\n",
       "<g id=\"edge13\" class=\"edge\">\n",
       "<title>12&#45;&gt;13</title>\n",
       "<path fill=\"none\" stroke=\"black\" d=\"M365.8,-222.91C356.94,-213.74 347.46,-203.93 338.35,-194.49\"/>\n",
       "<polygon fill=\"black\" stroke=\"black\" points=\"340.6,-191.78 331.14,-187.02 335.57,-196.65 340.6,-191.78\"/>\n",
       "</g>\n",
       "<!-- 16 -->\n",
       "<g id=\"node17\" class=\"node\">\n",
       "<title>16</title>\n",
       "<path fill=\"#e58139\" stroke=\"black\" d=\"M442.5,-179.5C442.5,-179.5 371.5,-179.5 371.5,-179.5 365.5,-179.5 359.5,-173.5 359.5,-167.5 359.5,-167.5 359.5,-123.5 359.5,-123.5 359.5,-117.5 365.5,-111.5 371.5,-111.5 371.5,-111.5 442.5,-111.5 442.5,-111.5 448.5,-111.5 454.5,-117.5 454.5,-123.5 454.5,-123.5 454.5,-167.5 454.5,-167.5 454.5,-173.5 448.5,-179.5 442.5,-179.5\"/>\n",
       "<text text-anchor=\"middle\" x=\"407\" y=\"-164.3\" font-family=\"Helvetica,sans-Serif\" font-size=\"14.00\">gini = 0.0</text>\n",
       "<text text-anchor=\"middle\" x=\"407\" y=\"-149.3\" font-family=\"Helvetica,sans-Serif\" font-size=\"14.00\">samples = 9</text>\n",
       "<text text-anchor=\"middle\" x=\"407\" y=\"-134.3\" font-family=\"Helvetica,sans-Serif\" font-size=\"14.00\">value = [9, 0]</text>\n",
       "<text text-anchor=\"middle\" x=\"407\" y=\"-119.3\" font-family=\"Helvetica,sans-Serif\" font-size=\"14.00\">class = 0</text>\n",
       "</g>\n",
       "<!-- 12&#45;&gt;16 -->\n",
       "<g id=\"edge16\" class=\"edge\">\n",
       "<title>12&#45;&gt;16</title>\n",
       "<path fill=\"none\" stroke=\"black\" d=\"M405.69,-222.91C405.88,-212.2 406.07,-200.62 406.26,-189.78\"/>\n",
       "<polygon fill=\"black\" stroke=\"black\" points=\"409.76,-189.73 406.43,-179.67 402.76,-189.61 409.76,-189.73\"/>\n",
       "</g>\n",
       "<!-- 14 -->\n",
       "<g id=\"node15\" class=\"node\">\n",
       "<title>14</title>\n",
       "<path fill=\"#399de5\" stroke=\"black\" d=\"M271.5,-68C271.5,-68 200.5,-68 200.5,-68 194.5,-68 188.5,-62 188.5,-56 188.5,-56 188.5,-12 188.5,-12 188.5,-6 194.5,0 200.5,0 200.5,0 271.5,0 271.5,0 277.5,0 283.5,-6 283.5,-12 283.5,-12 283.5,-56 283.5,-56 283.5,-62 277.5,-68 271.5,-68\"/>\n",
       "<text text-anchor=\"middle\" x=\"236\" y=\"-52.8\" font-family=\"Helvetica,sans-Serif\" font-size=\"14.00\">gini = 0.0</text>\n",
       "<text text-anchor=\"middle\" x=\"236\" y=\"-37.8\" font-family=\"Helvetica,sans-Serif\" font-size=\"14.00\">samples = 5</text>\n",
       "<text text-anchor=\"middle\" x=\"236\" y=\"-22.8\" font-family=\"Helvetica,sans-Serif\" font-size=\"14.00\">value = [0, 5]</text>\n",
       "<text text-anchor=\"middle\" x=\"236\" y=\"-7.8\" font-family=\"Helvetica,sans-Serif\" font-size=\"14.00\">class = 1</text>\n",
       "</g>\n",
       "<!-- 13&#45;&gt;14 -->\n",
       "<g id=\"edge14\" class=\"edge\">\n",
       "<title>13&#45;&gt;14</title>\n",
       "<path fill=\"none\" stroke=\"black\" d=\"M271.15,-103.73C266.76,-95.15 262.13,-86.09 257.71,-77.46\"/>\n",
       "<polygon fill=\"black\" stroke=\"black\" points=\"260.7,-75.61 253.03,-68.3 254.47,-78.8 260.7,-75.61\"/>\n",
       "</g>\n",
       "<!-- 15 -->\n",
       "<g id=\"node16\" class=\"node\">\n",
       "<title>15</title>\n",
       "<path fill=\"#6ab6ec\" stroke=\"black\" d=\"M384.5,-68C384.5,-68 313.5,-68 313.5,-68 307.5,-68 301.5,-62 301.5,-56 301.5,-56 301.5,-12 301.5,-12 301.5,-6 307.5,0 313.5,0 313.5,0 384.5,0 384.5,0 390.5,0 396.5,-6 396.5,-12 396.5,-12 396.5,-56 396.5,-56 396.5,-62 390.5,-68 384.5,-68\"/>\n",
       "<text text-anchor=\"middle\" x=\"349\" y=\"-52.8\" font-family=\"Helvetica,sans-Serif\" font-size=\"14.00\">gini = 0.32</text>\n",
       "<text text-anchor=\"middle\" x=\"349\" y=\"-37.8\" font-family=\"Helvetica,sans-Serif\" font-size=\"14.00\">samples = 5</text>\n",
       "<text text-anchor=\"middle\" x=\"349\" y=\"-22.8\" font-family=\"Helvetica,sans-Serif\" font-size=\"14.00\">value = [1, 4]</text>\n",
       "<text text-anchor=\"middle\" x=\"349\" y=\"-7.8\" font-family=\"Helvetica,sans-Serif\" font-size=\"14.00\">class = 1</text>\n",
       "</g>\n",
       "<!-- 13&#45;&gt;15 -->\n",
       "<g id=\"edge15\" class=\"edge\">\n",
       "<title>13&#45;&gt;15</title>\n",
       "<path fill=\"none\" stroke=\"black\" d=\"M313.22,-103.73C317.74,-95.06 322.51,-85.9 327.04,-77.18\"/>\n",
       "<polygon fill=\"black\" stroke=\"black\" points=\"330.15,-78.79 331.67,-68.3 323.94,-75.55 330.15,-78.79\"/>\n",
       "</g>\n",
       "<!-- 18 -->\n",
       "<g id=\"node19\" class=\"node\">\n",
       "<title>18</title>\n",
       "<path fill=\"#e89050\" stroke=\"black\" d=\"M564,-306C564,-306 486,-306 486,-306 480,-306 474,-300 474,-294 474,-294 474,-235 474,-235 474,-229 480,-223 486,-223 486,-223 564,-223 564,-223 570,-223 576,-229 576,-235 576,-235 576,-294 576,-294 576,-300 570,-306 564,-306\"/>\n",
       "<text text-anchor=\"middle\" x=\"525\" y=\"-290.8\" font-family=\"Helvetica,sans-Serif\" font-size=\"14.00\">x2 &lt;= 0.6</text>\n",
       "<text text-anchor=\"middle\" x=\"525\" y=\"-275.8\" font-family=\"Helvetica,sans-Serif\" font-size=\"14.00\">gini = 0.188</text>\n",
       "<text text-anchor=\"middle\" x=\"525\" y=\"-260.8\" font-family=\"Helvetica,sans-Serif\" font-size=\"14.00\">samples = 19</text>\n",
       "<text text-anchor=\"middle\" x=\"525\" y=\"-245.8\" font-family=\"Helvetica,sans-Serif\" font-size=\"14.00\">value = [17, 2]</text>\n",
       "<text text-anchor=\"middle\" x=\"525\" y=\"-230.8\" font-family=\"Helvetica,sans-Serif\" font-size=\"14.00\">class = 0</text>\n",
       "</g>\n",
       "<!-- 17&#45;&gt;18 -->\n",
       "<g id=\"edge18\" class=\"edge\">\n",
       "<title>17&#45;&gt;18</title>\n",
       "<path fill=\"none\" stroke=\"black\" d=\"M525,-341.91C525,-333.65 525,-324.86 525,-316.3\"/>\n",
       "<polygon fill=\"black\" stroke=\"black\" points=\"528.5,-316.02 525,-306.02 521.5,-316.02 528.5,-316.02\"/>\n",
       "</g>\n",
       "<!-- 23 -->\n",
       "<g id=\"node24\" class=\"node\">\n",
       "<title>23</title>\n",
       "<path fill=\"#e58139\" stroke=\"black\" d=\"M684,-298.5C684,-298.5 606,-298.5 606,-298.5 600,-298.5 594,-292.5 594,-286.5 594,-286.5 594,-242.5 594,-242.5 594,-236.5 600,-230.5 606,-230.5 606,-230.5 684,-230.5 684,-230.5 690,-230.5 696,-236.5 696,-242.5 696,-242.5 696,-286.5 696,-286.5 696,-292.5 690,-298.5 684,-298.5\"/>\n",
       "<text text-anchor=\"middle\" x=\"645\" y=\"-283.3\" font-family=\"Helvetica,sans-Serif\" font-size=\"14.00\">gini = 0.0</text>\n",
       "<text text-anchor=\"middle\" x=\"645\" y=\"-268.3\" font-family=\"Helvetica,sans-Serif\" font-size=\"14.00\">samples = 33</text>\n",
       "<text text-anchor=\"middle\" x=\"645\" y=\"-253.3\" font-family=\"Helvetica,sans-Serif\" font-size=\"14.00\">value = [33, 0]</text>\n",
       "<text text-anchor=\"middle\" x=\"645\" y=\"-238.3\" font-family=\"Helvetica,sans-Serif\" font-size=\"14.00\">class = 0</text>\n",
       "</g>\n",
       "<!-- 17&#45;&gt;23 -->\n",
       "<g id=\"edge23\" class=\"edge\">\n",
       "<title>17&#45;&gt;23</title>\n",
       "<path fill=\"none\" stroke=\"black\" d=\"M566.63,-341.91C578.63,-330.21 591.71,-317.46 603.69,-305.78\"/>\n",
       "<polygon fill=\"black\" stroke=\"black\" points=\"606.27,-308.15 610.98,-298.67 601.38,-303.14 606.27,-308.15\"/>\n",
       "</g>\n",
       "<!-- 19 -->\n",
       "<g id=\"node20\" class=\"node\">\n",
       "<title>19</title>\n",
       "<path fill=\"#e58139\" stroke=\"black\" d=\"M558.5,-179.5C558.5,-179.5 487.5,-179.5 487.5,-179.5 481.5,-179.5 475.5,-173.5 475.5,-167.5 475.5,-167.5 475.5,-123.5 475.5,-123.5 475.5,-117.5 481.5,-111.5 487.5,-111.5 487.5,-111.5 558.5,-111.5 558.5,-111.5 564.5,-111.5 570.5,-117.5 570.5,-123.5 570.5,-123.5 570.5,-167.5 570.5,-167.5 570.5,-173.5 564.5,-179.5 558.5,-179.5\"/>\n",
       "<text text-anchor=\"middle\" x=\"523\" y=\"-164.3\" font-family=\"Helvetica,sans-Serif\" font-size=\"14.00\">gini = 0.0</text>\n",
       "<text text-anchor=\"middle\" x=\"523\" y=\"-149.3\" font-family=\"Helvetica,sans-Serif\" font-size=\"14.00\">samples = 9</text>\n",
       "<text text-anchor=\"middle\" x=\"523\" y=\"-134.3\" font-family=\"Helvetica,sans-Serif\" font-size=\"14.00\">value = [9, 0]</text>\n",
       "<text text-anchor=\"middle\" x=\"523\" y=\"-119.3\" font-family=\"Helvetica,sans-Serif\" font-size=\"14.00\">class = 0</text>\n",
       "</g>\n",
       "<!-- 18&#45;&gt;19 -->\n",
       "<g id=\"edge19\" class=\"edge\">\n",
       "<title>18&#45;&gt;19</title>\n",
       "<path fill=\"none\" stroke=\"black\" d=\"M524.31,-222.91C524.12,-212.2 523.93,-200.62 523.74,-189.78\"/>\n",
       "<polygon fill=\"black\" stroke=\"black\" points=\"527.24,-189.61 523.57,-179.67 520.24,-189.73 527.24,-189.61\"/>\n",
       "</g>\n",
       "<!-- 20 -->\n",
       "<g id=\"node21\" class=\"node\">\n",
       "<title>20</title>\n",
       "<path fill=\"#eca06a\" stroke=\"black\" d=\"M675,-187C675,-187 601,-187 601,-187 595,-187 589,-181 589,-175 589,-175 589,-116 589,-116 589,-110 595,-104 601,-104 601,-104 675,-104 675,-104 681,-104 687,-110 687,-116 687,-116 687,-175 687,-175 687,-181 681,-187 675,-187\"/>\n",
       "<text text-anchor=\"middle\" x=\"638\" y=\"-171.8\" font-family=\"Helvetica,sans-Serif\" font-size=\"14.00\">x1 &lt;= 0.023</text>\n",
       "<text text-anchor=\"middle\" x=\"638\" y=\"-156.8\" font-family=\"Helvetica,sans-Serif\" font-size=\"14.00\">gini = 0.32</text>\n",
       "<text text-anchor=\"middle\" x=\"638\" y=\"-141.8\" font-family=\"Helvetica,sans-Serif\" font-size=\"14.00\">samples = 10</text>\n",
       "<text text-anchor=\"middle\" x=\"638\" y=\"-126.8\" font-family=\"Helvetica,sans-Serif\" font-size=\"14.00\">value = [8, 2]</text>\n",
       "<text text-anchor=\"middle\" x=\"638\" y=\"-111.8\" font-family=\"Helvetica,sans-Serif\" font-size=\"14.00\">class = 0</text>\n",
       "</g>\n",
       "<!-- 18&#45;&gt;20 -->\n",
       "<g id=\"edge20\" class=\"edge\">\n",
       "<title>18&#45;&gt;20</title>\n",
       "<path fill=\"none\" stroke=\"black\" d=\"M564.2,-222.91C573.06,-213.74 582.54,-203.93 591.65,-194.49\"/>\n",
       "<polygon fill=\"black\" stroke=\"black\" points=\"594.43,-196.65 598.86,-187.02 589.4,-191.78 594.43,-196.65\"/>\n",
       "</g>\n",
       "<!-- 21 -->\n",
       "<g id=\"node22\" class=\"node\">\n",
       "<title>21</title>\n",
       "<path fill=\"#eca06a\" stroke=\"black\" d=\"M616.5,-68C616.5,-68 545.5,-68 545.5,-68 539.5,-68 533.5,-62 533.5,-56 533.5,-56 533.5,-12 533.5,-12 533.5,-6 539.5,0 545.5,0 545.5,0 616.5,0 616.5,0 622.5,0 628.5,-6 628.5,-12 628.5,-12 628.5,-56 628.5,-56 628.5,-62 622.5,-68 616.5,-68\"/>\n",
       "<text text-anchor=\"middle\" x=\"581\" y=\"-52.8\" font-family=\"Helvetica,sans-Serif\" font-size=\"14.00\">gini = 0.32</text>\n",
       "<text text-anchor=\"middle\" x=\"581\" y=\"-37.8\" font-family=\"Helvetica,sans-Serif\" font-size=\"14.00\">samples = 5</text>\n",
       "<text text-anchor=\"middle\" x=\"581\" y=\"-22.8\" font-family=\"Helvetica,sans-Serif\" font-size=\"14.00\">value = [4, 1]</text>\n",
       "<text text-anchor=\"middle\" x=\"581\" y=\"-7.8\" font-family=\"Helvetica,sans-Serif\" font-size=\"14.00\">class = 0</text>\n",
       "</g>\n",
       "<!-- 20&#45;&gt;21 -->\n",
       "<g id=\"edge21\" class=\"edge\">\n",
       "<title>20&#45;&gt;21</title>\n",
       "<path fill=\"none\" stroke=\"black\" d=\"M616.78,-103.73C612.26,-95.06 607.49,-85.9 602.96,-77.18\"/>\n",
       "<polygon fill=\"black\" stroke=\"black\" points=\"606.06,-75.55 598.33,-68.3 599.85,-78.79 606.06,-75.55\"/>\n",
       "</g>\n",
       "<!-- 22 -->\n",
       "<g id=\"node23\" class=\"node\">\n",
       "<title>22</title>\n",
       "<path fill=\"#eca06a\" stroke=\"black\" d=\"M729.5,-68C729.5,-68 658.5,-68 658.5,-68 652.5,-68 646.5,-62 646.5,-56 646.5,-56 646.5,-12 646.5,-12 646.5,-6 652.5,0 658.5,0 658.5,0 729.5,0 729.5,0 735.5,0 741.5,-6 741.5,-12 741.5,-12 741.5,-56 741.5,-56 741.5,-62 735.5,-68 729.5,-68\"/>\n",
       "<text text-anchor=\"middle\" x=\"694\" y=\"-52.8\" font-family=\"Helvetica,sans-Serif\" font-size=\"14.00\">gini = 0.32</text>\n",
       "<text text-anchor=\"middle\" x=\"694\" y=\"-37.8\" font-family=\"Helvetica,sans-Serif\" font-size=\"14.00\">samples = 5</text>\n",
       "<text text-anchor=\"middle\" x=\"694\" y=\"-22.8\" font-family=\"Helvetica,sans-Serif\" font-size=\"14.00\">value = [4, 1]</text>\n",
       "<text text-anchor=\"middle\" x=\"694\" y=\"-7.8\" font-family=\"Helvetica,sans-Serif\" font-size=\"14.00\">class = 0</text>\n",
       "</g>\n",
       "<!-- 20&#45;&gt;22 -->\n",
       "<g id=\"edge22\" class=\"edge\">\n",
       "<title>20&#45;&gt;22</title>\n",
       "<path fill=\"none\" stroke=\"black\" d=\"M658.85,-103.73C663.24,-95.15 667.87,-86.09 672.29,-77.46\"/>\n",
       "<polygon fill=\"black\" stroke=\"black\" points=\"675.53,-78.8 676.97,-68.3 669.3,-75.61 675.53,-78.8\"/>\n",
       "</g>\n",
       "</g>\n",
       "</svg>\n"
      ],
      "text/plain": [
       "<graphviz.sources.Source at 0x7f702c29dc70>"
      ]
     },
     "execution_count": 13,
     "metadata": {},
     "output_type": "execute_result"
    }
   ],
   "source": [
    "export_graphviz(tree_clf2,\n",
    "                out_file=str(IMAGE_PATH / 'make_moons_regularized.dot'),\n",
    "                feature_names=['x1', 'x2'],\n",
    "                class_names=np.array(['0', '1']),\n",
    "                rounded=True,\n",
    "                filled=True)\n",
    "\n",
    "Source.from_file(IMAGE_PATH / 'make_moons_regularized.dot')"
   ]
  },
  {
   "cell_type": "code",
   "execution_count": 14,
   "id": "51f09965-94d2-4b2f-ad17-146a7b74c123",
   "metadata": {},
   "outputs": [
    {
     "data": {
      "image/svg+xml": [
       "<?xml version=\"1.0\" encoding=\"UTF-8\" standalone=\"no\"?>\n",
       "<!DOCTYPE svg PUBLIC \"-//W3C//DTD SVG 1.1//EN\"\n",
       " \"http://www.w3.org/Graphics/SVG/1.1/DTD/svg11.dtd\">\n",
       "<!-- Generated by graphviz version 2.43.0 (0)\n",
       " -->\n",
       "<!-- Title: Tree Pages: 1 -->\n",
       "<svg width=\"914pt\" height=\"1028pt\"\n",
       " viewBox=\"0.00 0.00 914.00 1028.00\" xmlns=\"http://www.w3.org/2000/svg\" xmlns:xlink=\"http://www.w3.org/1999/xlink\">\n",
       "<g id=\"graph0\" class=\"graph\" transform=\"scale(1 1) rotate(0) translate(4 1024)\">\n",
       "<title>Tree</title>\n",
       "<polygon fill=\"white\" stroke=\"transparent\" points=\"-4,4 -4,-1024 910,-1024 910,4 -4,4\"/>\n",
       "<!-- 0 -->\n",
       "<g id=\"node1\" class=\"node\">\n",
       "<title>0</title>\n",
       "<path fill=\"#ffffff\" stroke=\"black\" d=\"M437.5,-1020C437.5,-1020 351.5,-1020 351.5,-1020 345.5,-1020 339.5,-1014 339.5,-1008 339.5,-1008 339.5,-949 339.5,-949 339.5,-943 345.5,-937 351.5,-937 351.5,-937 437.5,-937 437.5,-937 443.5,-937 449.5,-943 449.5,-949 449.5,-949 449.5,-1008 449.5,-1008 449.5,-1014 443.5,-1020 437.5,-1020\"/>\n",
       "<text text-anchor=\"middle\" x=\"394.5\" y=\"-1004.8\" font-family=\"Helvetica,sans-Serif\" font-size=\"14.00\">x2 &lt;= 0.148</text>\n",
       "<text text-anchor=\"middle\" x=\"394.5\" y=\"-989.8\" font-family=\"Helvetica,sans-Serif\" font-size=\"14.00\">gini = 0.5</text>\n",
       "<text text-anchor=\"middle\" x=\"394.5\" y=\"-974.8\" font-family=\"Helvetica,sans-Serif\" font-size=\"14.00\">samples = 150</text>\n",
       "<text text-anchor=\"middle\" x=\"394.5\" y=\"-959.8\" font-family=\"Helvetica,sans-Serif\" font-size=\"14.00\">value = [75, 75]</text>\n",
       "<text text-anchor=\"middle\" x=\"394.5\" y=\"-944.8\" font-family=\"Helvetica,sans-Serif\" font-size=\"14.00\">class = 0</text>\n",
       "</g>\n",
       "<!-- 1 -->\n",
       "<g id=\"node2\" class=\"node\">\n",
       "<title>1</title>\n",
       "<path fill=\"#4ea8e8\" stroke=\"black\" d=\"M371.5,-901C371.5,-901 293.5,-901 293.5,-901 287.5,-901 281.5,-895 281.5,-889 281.5,-889 281.5,-830 281.5,-830 281.5,-824 287.5,-818 293.5,-818 293.5,-818 371.5,-818 371.5,-818 377.5,-818 383.5,-824 383.5,-830 383.5,-830 383.5,-889 383.5,-889 383.5,-895 377.5,-901 371.5,-901\"/>\n",
       "<text text-anchor=\"middle\" x=\"332.5\" y=\"-885.8\" font-family=\"Helvetica,sans-Serif\" font-size=\"14.00\">x1 &lt;= &#45;0.339</text>\n",
       "<text text-anchor=\"middle\" x=\"332.5\" y=\"-870.8\" font-family=\"Helvetica,sans-Serif\" font-size=\"14.00\">gini = 0.175</text>\n",
       "<text text-anchor=\"middle\" x=\"332.5\" y=\"-855.8\" font-family=\"Helvetica,sans-Serif\" font-size=\"14.00\">samples = 62</text>\n",
       "<text text-anchor=\"middle\" x=\"332.5\" y=\"-840.8\" font-family=\"Helvetica,sans-Serif\" font-size=\"14.00\">value = [6, 56]</text>\n",
       "<text text-anchor=\"middle\" x=\"332.5\" y=\"-825.8\" font-family=\"Helvetica,sans-Serif\" font-size=\"14.00\">class = 1</text>\n",
       "</g>\n",
       "<!-- 0&#45;&gt;1 -->\n",
       "<g id=\"edge1\" class=\"edge\">\n",
       "<title>0&#45;&gt;1</title>\n",
       "<path fill=\"none\" stroke=\"black\" d=\"M372.99,-936.91C368.37,-928.2 363.45,-918.9 358.67,-909.89\"/>\n",
       "<polygon fill=\"black\" stroke=\"black\" points=\"361.75,-908.22 353.97,-901.02 355.56,-911.5 361.75,-908.22\"/>\n",
       "<text text-anchor=\"middle\" x=\"346.63\" y=\"-921.22\" font-family=\"Helvetica,sans-Serif\" font-size=\"14.00\">True</text>\n",
       "</g>\n",
       "<!-- 16 -->\n",
       "<g id=\"node17\" class=\"node\">\n",
       "<title>16</title>\n",
       "<path fill=\"#eca470\" stroke=\"black\" d=\"M554.5,-901C554.5,-901 468.5,-901 468.5,-901 462.5,-901 456.5,-895 456.5,-889 456.5,-889 456.5,-830 456.5,-830 456.5,-824 462.5,-818 468.5,-818 468.5,-818 554.5,-818 554.5,-818 560.5,-818 566.5,-824 566.5,-830 566.5,-830 566.5,-889 566.5,-889 566.5,-895 560.5,-901 554.5,-901\"/>\n",
       "<text text-anchor=\"middle\" x=\"511.5\" y=\"-885.8\" font-family=\"Helvetica,sans-Serif\" font-size=\"14.00\">x1 &lt;= 1.498</text>\n",
       "<text text-anchor=\"middle\" x=\"511.5\" y=\"-870.8\" font-family=\"Helvetica,sans-Serif\" font-size=\"14.00\">gini = 0.339</text>\n",
       "<text text-anchor=\"middle\" x=\"511.5\" y=\"-855.8\" font-family=\"Helvetica,sans-Serif\" font-size=\"14.00\">samples = 88</text>\n",
       "<text text-anchor=\"middle\" x=\"511.5\" y=\"-840.8\" font-family=\"Helvetica,sans-Serif\" font-size=\"14.00\">value = [69, 19]</text>\n",
       "<text text-anchor=\"middle\" x=\"511.5\" y=\"-825.8\" font-family=\"Helvetica,sans-Serif\" font-size=\"14.00\">class = 0</text>\n",
       "</g>\n",
       "<!-- 0&#45;&gt;16 -->\n",
       "<g id=\"edge16\" class=\"edge\">\n",
       "<title>0&#45;&gt;16</title>\n",
       "<path fill=\"none\" stroke=\"black\" d=\"M435.09,-936.91C444.35,-927.65 454.27,-917.73 463.79,-908.21\"/>\n",
       "<polygon fill=\"black\" stroke=\"black\" points=\"466.38,-910.57 470.98,-901.02 461.43,-905.62 466.38,-910.57\"/>\n",
       "<text text-anchor=\"middle\" x=\"470.98\" y=\"-922.32\" font-family=\"Helvetica,sans-Serif\" font-size=\"14.00\">False</text>\n",
       "</g>\n",
       "<!-- 2 -->\n",
       "<g id=\"node3\" class=\"node\">\n",
       "<title>2</title>\n",
       "<path fill=\"#e58139\" stroke=\"black\" d=\"M251,-774.5C251,-774.5 180,-774.5 180,-774.5 174,-774.5 168,-768.5 168,-762.5 168,-762.5 168,-718.5 168,-718.5 168,-712.5 174,-706.5 180,-706.5 180,-706.5 251,-706.5 251,-706.5 257,-706.5 263,-712.5 263,-718.5 263,-718.5 263,-762.5 263,-762.5 263,-768.5 257,-774.5 251,-774.5\"/>\n",
       "<text text-anchor=\"middle\" x=\"215.5\" y=\"-759.3\" font-family=\"Helvetica,sans-Serif\" font-size=\"14.00\">gini = 0.0</text>\n",
       "<text text-anchor=\"middle\" x=\"215.5\" y=\"-744.3\" font-family=\"Helvetica,sans-Serif\" font-size=\"14.00\">samples = 3</text>\n",
       "<text text-anchor=\"middle\" x=\"215.5\" y=\"-729.3\" font-family=\"Helvetica,sans-Serif\" font-size=\"14.00\">value = [3, 0]</text>\n",
       "<text text-anchor=\"middle\" x=\"215.5\" y=\"-714.3\" font-family=\"Helvetica,sans-Serif\" font-size=\"14.00\">class = 0</text>\n",
       "</g>\n",
       "<!-- 1&#45;&gt;2 -->\n",
       "<g id=\"edge2\" class=\"edge\">\n",
       "<title>1&#45;&gt;2</title>\n",
       "<path fill=\"none\" stroke=\"black\" d=\"M291.91,-817.91C280.21,-806.21 267.46,-793.46 255.78,-781.78\"/>\n",
       "<polygon fill=\"black\" stroke=\"black\" points=\"258.21,-779.26 248.67,-774.67 253.26,-784.21 258.21,-779.26\"/>\n",
       "</g>\n",
       "<!-- 3 -->\n",
       "<g id=\"node4\" class=\"node\">\n",
       "<title>3</title>\n",
       "<path fill=\"#44a2e6\" stroke=\"black\" d=\"M371.5,-782C371.5,-782 293.5,-782 293.5,-782 287.5,-782 281.5,-776 281.5,-770 281.5,-770 281.5,-711 281.5,-711 281.5,-705 287.5,-699 293.5,-699 293.5,-699 371.5,-699 371.5,-699 377.5,-699 383.5,-705 383.5,-711 383.5,-711 383.5,-770 383.5,-770 383.5,-776 377.5,-782 371.5,-782\"/>\n",
       "<text text-anchor=\"middle\" x=\"332.5\" y=\"-766.8\" font-family=\"Helvetica,sans-Serif\" font-size=\"14.00\">x2 &lt;= &#45;0.044</text>\n",
       "<text text-anchor=\"middle\" x=\"332.5\" y=\"-751.8\" font-family=\"Helvetica,sans-Serif\" font-size=\"14.00\">gini = 0.097</text>\n",
       "<text text-anchor=\"middle\" x=\"332.5\" y=\"-736.8\" font-family=\"Helvetica,sans-Serif\" font-size=\"14.00\">samples = 59</text>\n",
       "<text text-anchor=\"middle\" x=\"332.5\" y=\"-721.8\" font-family=\"Helvetica,sans-Serif\" font-size=\"14.00\">value = [3, 56]</text>\n",
       "<text text-anchor=\"middle\" x=\"332.5\" y=\"-706.8\" font-family=\"Helvetica,sans-Serif\" font-size=\"14.00\">class = 1</text>\n",
       "</g>\n",
       "<!-- 1&#45;&gt;3 -->\n",
       "<g id=\"edge3\" class=\"edge\">\n",
       "<title>1&#45;&gt;3</title>\n",
       "<path fill=\"none\" stroke=\"black\" d=\"M332.5,-817.91C332.5,-809.65 332.5,-800.86 332.5,-792.3\"/>\n",
       "<polygon fill=\"black\" stroke=\"black\" points=\"336,-792.02 332.5,-782.02 329,-792.02 336,-792.02\"/>\n",
       "</g>\n",
       "<!-- 4 -->\n",
       "<g id=\"node5\" class=\"node\">\n",
       "<title>4</title>\n",
       "<path fill=\"#399de5\" stroke=\"black\" d=\"M251.5,-655.5C251.5,-655.5 173.5,-655.5 173.5,-655.5 167.5,-655.5 161.5,-649.5 161.5,-643.5 161.5,-643.5 161.5,-599.5 161.5,-599.5 161.5,-593.5 167.5,-587.5 173.5,-587.5 173.5,-587.5 251.5,-587.5 251.5,-587.5 257.5,-587.5 263.5,-593.5 263.5,-599.5 263.5,-599.5 263.5,-643.5 263.5,-643.5 263.5,-649.5 257.5,-655.5 251.5,-655.5\"/>\n",
       "<text text-anchor=\"middle\" x=\"212.5\" y=\"-640.3\" font-family=\"Helvetica,sans-Serif\" font-size=\"14.00\">gini = 0.0</text>\n",
       "<text text-anchor=\"middle\" x=\"212.5\" y=\"-625.3\" font-family=\"Helvetica,sans-Serif\" font-size=\"14.00\">samples = 41</text>\n",
       "<text text-anchor=\"middle\" x=\"212.5\" y=\"-610.3\" font-family=\"Helvetica,sans-Serif\" font-size=\"14.00\">value = [0, 41]</text>\n",
       "<text text-anchor=\"middle\" x=\"212.5\" y=\"-595.3\" font-family=\"Helvetica,sans-Serif\" font-size=\"14.00\">class = 1</text>\n",
       "</g>\n",
       "<!-- 3&#45;&gt;4 -->\n",
       "<g id=\"edge4\" class=\"edge\">\n",
       "<title>3&#45;&gt;4</title>\n",
       "<path fill=\"none\" stroke=\"black\" d=\"M290.87,-698.91C278.87,-687.21 265.79,-674.46 253.81,-662.78\"/>\n",
       "<polygon fill=\"black\" stroke=\"black\" points=\"256.12,-660.14 246.52,-655.67 251.23,-665.15 256.12,-660.14\"/>\n",
       "</g>\n",
       "<!-- 5 -->\n",
       "<g id=\"node6\" class=\"node\">\n",
       "<title>5</title>\n",
       "<path fill=\"#61b1ea\" stroke=\"black\" d=\"M371.5,-663C371.5,-663 293.5,-663 293.5,-663 287.5,-663 281.5,-657 281.5,-651 281.5,-651 281.5,-592 281.5,-592 281.5,-586 287.5,-580 293.5,-580 293.5,-580 371.5,-580 371.5,-580 377.5,-580 383.5,-586 383.5,-592 383.5,-592 383.5,-651 383.5,-651 383.5,-657 377.5,-663 371.5,-663\"/>\n",
       "<text text-anchor=\"middle\" x=\"332.5\" y=\"-647.8\" font-family=\"Helvetica,sans-Serif\" font-size=\"14.00\">x2 &lt;= &#45;0.042</text>\n",
       "<text text-anchor=\"middle\" x=\"332.5\" y=\"-632.8\" font-family=\"Helvetica,sans-Serif\" font-size=\"14.00\">gini = 0.278</text>\n",
       "<text text-anchor=\"middle\" x=\"332.5\" y=\"-617.8\" font-family=\"Helvetica,sans-Serif\" font-size=\"14.00\">samples = 18</text>\n",
       "<text text-anchor=\"middle\" x=\"332.5\" y=\"-602.8\" font-family=\"Helvetica,sans-Serif\" font-size=\"14.00\">value = [3, 15]</text>\n",
       "<text text-anchor=\"middle\" x=\"332.5\" y=\"-587.8\" font-family=\"Helvetica,sans-Serif\" font-size=\"14.00\">class = 1</text>\n",
       "</g>\n",
       "<!-- 3&#45;&gt;5 -->\n",
       "<g id=\"edge5\" class=\"edge\">\n",
       "<title>3&#45;&gt;5</title>\n",
       "<path fill=\"none\" stroke=\"black\" d=\"M332.5,-698.91C332.5,-690.65 332.5,-681.86 332.5,-673.3\"/>\n",
       "<polygon fill=\"black\" stroke=\"black\" points=\"336,-673.02 332.5,-663.02 329,-673.02 336,-673.02\"/>\n",
       "</g>\n",
       "<!-- 6 -->\n",
       "<g id=\"node7\" class=\"node\">\n",
       "<title>6</title>\n",
       "<path fill=\"#e58139\" stroke=\"black\" d=\"M251,-536.5C251,-536.5 180,-536.5 180,-536.5 174,-536.5 168,-530.5 168,-524.5 168,-524.5 168,-480.5 168,-480.5 168,-474.5 174,-468.5 180,-468.5 180,-468.5 251,-468.5 251,-468.5 257,-468.5 263,-474.5 263,-480.5 263,-480.5 263,-524.5 263,-524.5 263,-530.5 257,-536.5 251,-536.5\"/>\n",
       "<text text-anchor=\"middle\" x=\"215.5\" y=\"-521.3\" font-family=\"Helvetica,sans-Serif\" font-size=\"14.00\">gini = 0.0</text>\n",
       "<text text-anchor=\"middle\" x=\"215.5\" y=\"-506.3\" font-family=\"Helvetica,sans-Serif\" font-size=\"14.00\">samples = 1</text>\n",
       "<text text-anchor=\"middle\" x=\"215.5\" y=\"-491.3\" font-family=\"Helvetica,sans-Serif\" font-size=\"14.00\">value = [1, 0]</text>\n",
       "<text text-anchor=\"middle\" x=\"215.5\" y=\"-476.3\" font-family=\"Helvetica,sans-Serif\" font-size=\"14.00\">class = 0</text>\n",
       "</g>\n",
       "<!-- 5&#45;&gt;6 -->\n",
       "<g id=\"edge6\" class=\"edge\">\n",
       "<title>5&#45;&gt;6</title>\n",
       "<path fill=\"none\" stroke=\"black\" d=\"M291.91,-579.91C280.21,-568.21 267.46,-555.46 255.78,-543.78\"/>\n",
       "<polygon fill=\"black\" stroke=\"black\" points=\"258.21,-541.26 248.67,-536.67 253.26,-546.21 258.21,-541.26\"/>\n",
       "</g>\n",
       "<!-- 7 -->\n",
       "<g id=\"node8\" class=\"node\">\n",
       "<title>7</title>\n",
       "<path fill=\"#53aae8\" stroke=\"black\" d=\"M371.5,-544C371.5,-544 293.5,-544 293.5,-544 287.5,-544 281.5,-538 281.5,-532 281.5,-532 281.5,-473 281.5,-473 281.5,-467 287.5,-461 293.5,-461 293.5,-461 371.5,-461 371.5,-461 377.5,-461 383.5,-467 383.5,-473 383.5,-473 383.5,-532 383.5,-532 383.5,-538 377.5,-544 371.5,-544\"/>\n",
       "<text text-anchor=\"middle\" x=\"332.5\" y=\"-528.8\" font-family=\"Helvetica,sans-Serif\" font-size=\"14.00\">x2 &lt;= 0.036</text>\n",
       "<text text-anchor=\"middle\" x=\"332.5\" y=\"-513.8\" font-family=\"Helvetica,sans-Serif\" font-size=\"14.00\">gini = 0.208</text>\n",
       "<text text-anchor=\"middle\" x=\"332.5\" y=\"-498.8\" font-family=\"Helvetica,sans-Serif\" font-size=\"14.00\">samples = 17</text>\n",
       "<text text-anchor=\"middle\" x=\"332.5\" y=\"-483.8\" font-family=\"Helvetica,sans-Serif\" font-size=\"14.00\">value = [2, 15]</text>\n",
       "<text text-anchor=\"middle\" x=\"332.5\" y=\"-468.8\" font-family=\"Helvetica,sans-Serif\" font-size=\"14.00\">class = 1</text>\n",
       "</g>\n",
       "<!-- 5&#45;&gt;7 -->\n",
       "<g id=\"edge7\" class=\"edge\">\n",
       "<title>5&#45;&gt;7</title>\n",
       "<path fill=\"none\" stroke=\"black\" d=\"M332.5,-579.91C332.5,-571.65 332.5,-562.86 332.5,-554.3\"/>\n",
       "<polygon fill=\"black\" stroke=\"black\" points=\"336,-554.02 332.5,-544.02 329,-554.02 336,-554.02\"/>\n",
       "</g>\n",
       "<!-- 8 -->\n",
       "<g id=\"node9\" class=\"node\">\n",
       "<title>8</title>\n",
       "<path fill=\"#88c4ef\" stroke=\"black\" d=\"M251,-425C251,-425 180,-425 180,-425 174,-425 168,-419 168,-413 168,-413 168,-354 168,-354 168,-348 174,-342 180,-342 180,-342 251,-342 251,-342 257,-342 263,-348 263,-354 263,-354 263,-413 263,-413 263,-419 257,-425 251,-425\"/>\n",
       "<text text-anchor=\"middle\" x=\"215.5\" y=\"-409.8\" font-family=\"Helvetica,sans-Serif\" font-size=\"14.00\">x2 &lt;= 0.028</text>\n",
       "<text text-anchor=\"middle\" x=\"215.5\" y=\"-394.8\" font-family=\"Helvetica,sans-Serif\" font-size=\"14.00\">gini = 0.408</text>\n",
       "<text text-anchor=\"middle\" x=\"215.5\" y=\"-379.8\" font-family=\"Helvetica,sans-Serif\" font-size=\"14.00\">samples = 7</text>\n",
       "<text text-anchor=\"middle\" x=\"215.5\" y=\"-364.8\" font-family=\"Helvetica,sans-Serif\" font-size=\"14.00\">value = [2, 5]</text>\n",
       "<text text-anchor=\"middle\" x=\"215.5\" y=\"-349.8\" font-family=\"Helvetica,sans-Serif\" font-size=\"14.00\">class = 1</text>\n",
       "</g>\n",
       "<!-- 7&#45;&gt;8 -->\n",
       "<g id=\"edge8\" class=\"edge\">\n",
       "<title>7&#45;&gt;8</title>\n",
       "<path fill=\"none\" stroke=\"black\" d=\"M291.91,-460.91C282.65,-451.65 272.73,-441.73 263.21,-432.21\"/>\n",
       "<polygon fill=\"black\" stroke=\"black\" points=\"265.57,-429.62 256.02,-425.02 260.62,-434.57 265.57,-429.62\"/>\n",
       "</g>\n",
       "<!-- 15 -->\n",
       "<g id=\"node16\" class=\"node\">\n",
       "<title>15</title>\n",
       "<path fill=\"#399de5\" stroke=\"black\" d=\"M371.5,-417.5C371.5,-417.5 293.5,-417.5 293.5,-417.5 287.5,-417.5 281.5,-411.5 281.5,-405.5 281.5,-405.5 281.5,-361.5 281.5,-361.5 281.5,-355.5 287.5,-349.5 293.5,-349.5 293.5,-349.5 371.5,-349.5 371.5,-349.5 377.5,-349.5 383.5,-355.5 383.5,-361.5 383.5,-361.5 383.5,-405.5 383.5,-405.5 383.5,-411.5 377.5,-417.5 371.5,-417.5\"/>\n",
       "<text text-anchor=\"middle\" x=\"332.5\" y=\"-402.3\" font-family=\"Helvetica,sans-Serif\" font-size=\"14.00\">gini = 0.0</text>\n",
       "<text text-anchor=\"middle\" x=\"332.5\" y=\"-387.3\" font-family=\"Helvetica,sans-Serif\" font-size=\"14.00\">samples = 10</text>\n",
       "<text text-anchor=\"middle\" x=\"332.5\" y=\"-372.3\" font-family=\"Helvetica,sans-Serif\" font-size=\"14.00\">value = [0, 10]</text>\n",
       "<text text-anchor=\"middle\" x=\"332.5\" y=\"-357.3\" font-family=\"Helvetica,sans-Serif\" font-size=\"14.00\">class = 1</text>\n",
       "</g>\n",
       "<!-- 7&#45;&gt;15 -->\n",
       "<g id=\"edge15\" class=\"edge\">\n",
       "<title>7&#45;&gt;15</title>\n",
       "<path fill=\"none\" stroke=\"black\" d=\"M332.5,-460.91C332.5,-450.2 332.5,-438.62 332.5,-427.78\"/>\n",
       "<polygon fill=\"black\" stroke=\"black\" points=\"336,-427.67 332.5,-417.67 329,-427.67 336,-427.67\"/>\n",
       "</g>\n",
       "<!-- 9 -->\n",
       "<g id=\"node10\" class=\"node\">\n",
       "<title>9</title>\n",
       "<path fill=\"#61b1ea\" stroke=\"black\" d=\"M195,-306C195,-306 124,-306 124,-306 118,-306 112,-300 112,-294 112,-294 112,-235 112,-235 112,-229 118,-223 124,-223 124,-223 195,-223 195,-223 201,-223 207,-229 207,-235 207,-235 207,-294 207,-294 207,-300 201,-306 195,-306\"/>\n",
       "<text text-anchor=\"middle\" x=\"159.5\" y=\"-290.8\" font-family=\"Helvetica,sans-Serif\" font-size=\"14.00\">x1 &lt;= 1.357</text>\n",
       "<text text-anchor=\"middle\" x=\"159.5\" y=\"-275.8\" font-family=\"Helvetica,sans-Serif\" font-size=\"14.00\">gini = 0.278</text>\n",
       "<text text-anchor=\"middle\" x=\"159.5\" y=\"-260.8\" font-family=\"Helvetica,sans-Serif\" font-size=\"14.00\">samples = 6</text>\n",
       "<text text-anchor=\"middle\" x=\"159.5\" y=\"-245.8\" font-family=\"Helvetica,sans-Serif\" font-size=\"14.00\">value = [1, 5]</text>\n",
       "<text text-anchor=\"middle\" x=\"159.5\" y=\"-230.8\" font-family=\"Helvetica,sans-Serif\" font-size=\"14.00\">class = 1</text>\n",
       "</g>\n",
       "<!-- 8&#45;&gt;9 -->\n",
       "<g id=\"edge9\" class=\"edge\">\n",
       "<title>8&#45;&gt;9</title>\n",
       "<path fill=\"none\" stroke=\"black\" d=\"M196.07,-341.91C191.94,-333.29 187.54,-324.09 183.28,-315.17\"/>\n",
       "<polygon fill=\"black\" stroke=\"black\" points=\"186.37,-313.53 178.89,-306.02 180.05,-316.55 186.37,-313.53\"/>\n",
       "</g>\n",
       "<!-- 14 -->\n",
       "<g id=\"node15\" class=\"node\">\n",
       "<title>14</title>\n",
       "<path fill=\"#e58139\" stroke=\"black\" d=\"M308,-298.5C308,-298.5 237,-298.5 237,-298.5 231,-298.5 225,-292.5 225,-286.5 225,-286.5 225,-242.5 225,-242.5 225,-236.5 231,-230.5 237,-230.5 237,-230.5 308,-230.5 308,-230.5 314,-230.5 320,-236.5 320,-242.5 320,-242.5 320,-286.5 320,-286.5 320,-292.5 314,-298.5 308,-298.5\"/>\n",
       "<text text-anchor=\"middle\" x=\"272.5\" y=\"-283.3\" font-family=\"Helvetica,sans-Serif\" font-size=\"14.00\">gini = 0.0</text>\n",
       "<text text-anchor=\"middle\" x=\"272.5\" y=\"-268.3\" font-family=\"Helvetica,sans-Serif\" font-size=\"14.00\">samples = 1</text>\n",
       "<text text-anchor=\"middle\" x=\"272.5\" y=\"-253.3\" font-family=\"Helvetica,sans-Serif\" font-size=\"14.00\">value = [1, 0]</text>\n",
       "<text text-anchor=\"middle\" x=\"272.5\" y=\"-238.3\" font-family=\"Helvetica,sans-Serif\" font-size=\"14.00\">class = 0</text>\n",
       "</g>\n",
       "<!-- 8&#45;&gt;14 -->\n",
       "<g id=\"edge14\" class=\"edge\">\n",
       "<title>8&#45;&gt;14</title>\n",
       "<path fill=\"none\" stroke=\"black\" d=\"M235.28,-341.91C240.65,-330.87 246.49,-318.9 251.91,-307.77\"/>\n",
       "<polygon fill=\"black\" stroke=\"black\" points=\"255.11,-309.19 256.34,-298.67 248.82,-306.12 255.11,-309.19\"/>\n",
       "</g>\n",
       "<!-- 10 -->\n",
       "<g id=\"node11\" class=\"node\">\n",
       "<title>10</title>\n",
       "<path fill=\"#9ccef2\" stroke=\"black\" d=\"M139,-187C139,-187 68,-187 68,-187 62,-187 56,-181 56,-175 56,-175 56,-116 56,-116 56,-110 62,-104 68,-104 68,-104 139,-104 139,-104 145,-104 151,-110 151,-116 151,-116 151,-175 151,-175 151,-181 145,-187 139,-187\"/>\n",
       "<text text-anchor=\"middle\" x=\"103.5\" y=\"-171.8\" font-family=\"Helvetica,sans-Serif\" font-size=\"14.00\">x1 &lt;= 0.734</text>\n",
       "<text text-anchor=\"middle\" x=\"103.5\" y=\"-156.8\" font-family=\"Helvetica,sans-Serif\" font-size=\"14.00\">gini = 0.444</text>\n",
       "<text text-anchor=\"middle\" x=\"103.5\" y=\"-141.8\" font-family=\"Helvetica,sans-Serif\" font-size=\"14.00\">samples = 3</text>\n",
       "<text text-anchor=\"middle\" x=\"103.5\" y=\"-126.8\" font-family=\"Helvetica,sans-Serif\" font-size=\"14.00\">value = [1, 2]</text>\n",
       "<text text-anchor=\"middle\" x=\"103.5\" y=\"-111.8\" font-family=\"Helvetica,sans-Serif\" font-size=\"14.00\">class = 1</text>\n",
       "</g>\n",
       "<!-- 9&#45;&gt;10 -->\n",
       "<g id=\"edge10\" class=\"edge\">\n",
       "<title>9&#45;&gt;10</title>\n",
       "<path fill=\"none\" stroke=\"black\" d=\"M140.07,-222.91C135.94,-214.29 131.54,-205.09 127.28,-196.17\"/>\n",
       "<polygon fill=\"black\" stroke=\"black\" points=\"130.37,-194.53 122.89,-187.02 124.05,-197.55 130.37,-194.53\"/>\n",
       "</g>\n",
       "<!-- 13 -->\n",
       "<g id=\"node14\" class=\"node\">\n",
       "<title>13</title>\n",
       "<path fill=\"#399de5\" stroke=\"black\" d=\"M252,-179.5C252,-179.5 181,-179.5 181,-179.5 175,-179.5 169,-173.5 169,-167.5 169,-167.5 169,-123.5 169,-123.5 169,-117.5 175,-111.5 181,-111.5 181,-111.5 252,-111.5 252,-111.5 258,-111.5 264,-117.5 264,-123.5 264,-123.5 264,-167.5 264,-167.5 264,-173.5 258,-179.5 252,-179.5\"/>\n",
       "<text text-anchor=\"middle\" x=\"216.5\" y=\"-164.3\" font-family=\"Helvetica,sans-Serif\" font-size=\"14.00\">gini = 0.0</text>\n",
       "<text text-anchor=\"middle\" x=\"216.5\" y=\"-149.3\" font-family=\"Helvetica,sans-Serif\" font-size=\"14.00\">samples = 3</text>\n",
       "<text text-anchor=\"middle\" x=\"216.5\" y=\"-134.3\" font-family=\"Helvetica,sans-Serif\" font-size=\"14.00\">value = [0, 3]</text>\n",
       "<text text-anchor=\"middle\" x=\"216.5\" y=\"-119.3\" font-family=\"Helvetica,sans-Serif\" font-size=\"14.00\">class = 1</text>\n",
       "</g>\n",
       "<!-- 9&#45;&gt;13 -->\n",
       "<g id=\"edge13\" class=\"edge\">\n",
       "<title>9&#45;&gt;13</title>\n",
       "<path fill=\"none\" stroke=\"black\" d=\"M179.28,-222.91C184.65,-211.87 190.49,-199.9 195.91,-188.77\"/>\n",
       "<polygon fill=\"black\" stroke=\"black\" points=\"199.11,-190.19 200.34,-179.67 192.82,-187.12 199.11,-190.19\"/>\n",
       "</g>\n",
       "<!-- 11 -->\n",
       "<g id=\"node12\" class=\"node\">\n",
       "<title>11</title>\n",
       "<path fill=\"#399de5\" stroke=\"black\" d=\"M83,-68C83,-68 12,-68 12,-68 6,-68 0,-62 0,-56 0,-56 0,-12 0,-12 0,-6 6,0 12,0 12,0 83,0 83,0 89,0 95,-6 95,-12 95,-12 95,-56 95,-56 95,-62 89,-68 83,-68\"/>\n",
       "<text text-anchor=\"middle\" x=\"47.5\" y=\"-52.8\" font-family=\"Helvetica,sans-Serif\" font-size=\"14.00\">gini = 0.0</text>\n",
       "<text text-anchor=\"middle\" x=\"47.5\" y=\"-37.8\" font-family=\"Helvetica,sans-Serif\" font-size=\"14.00\">samples = 2</text>\n",
       "<text text-anchor=\"middle\" x=\"47.5\" y=\"-22.8\" font-family=\"Helvetica,sans-Serif\" font-size=\"14.00\">value = [0, 2]</text>\n",
       "<text text-anchor=\"middle\" x=\"47.5\" y=\"-7.8\" font-family=\"Helvetica,sans-Serif\" font-size=\"14.00\">class = 1</text>\n",
       "</g>\n",
       "<!-- 10&#45;&gt;11 -->\n",
       "<g id=\"edge11\" class=\"edge\">\n",
       "<title>10&#45;&gt;11</title>\n",
       "<path fill=\"none\" stroke=\"black\" d=\"M82.65,-103.73C78.26,-95.15 73.63,-86.09 69.21,-77.46\"/>\n",
       "<polygon fill=\"black\" stroke=\"black\" points=\"72.2,-75.61 64.53,-68.3 65.97,-78.8 72.2,-75.61\"/>\n",
       "</g>\n",
       "<!-- 12 -->\n",
       "<g id=\"node13\" class=\"node\">\n",
       "<title>12</title>\n",
       "<path fill=\"#e58139\" stroke=\"black\" d=\"M196,-68C196,-68 125,-68 125,-68 119,-68 113,-62 113,-56 113,-56 113,-12 113,-12 113,-6 119,0 125,0 125,0 196,0 196,0 202,0 208,-6 208,-12 208,-12 208,-56 208,-56 208,-62 202,-68 196,-68\"/>\n",
       "<text text-anchor=\"middle\" x=\"160.5\" y=\"-52.8\" font-family=\"Helvetica,sans-Serif\" font-size=\"14.00\">gini = 0.0</text>\n",
       "<text text-anchor=\"middle\" x=\"160.5\" y=\"-37.8\" font-family=\"Helvetica,sans-Serif\" font-size=\"14.00\">samples = 1</text>\n",
       "<text text-anchor=\"middle\" x=\"160.5\" y=\"-22.8\" font-family=\"Helvetica,sans-Serif\" font-size=\"14.00\">value = [1, 0]</text>\n",
       "<text text-anchor=\"middle\" x=\"160.5\" y=\"-7.8\" font-family=\"Helvetica,sans-Serif\" font-size=\"14.00\">class = 0</text>\n",
       "</g>\n",
       "<!-- 10&#45;&gt;12 -->\n",
       "<g id=\"edge12\" class=\"edge\">\n",
       "<title>10&#45;&gt;12</title>\n",
       "<path fill=\"none\" stroke=\"black\" d=\"M124.72,-103.73C129.24,-95.06 134.01,-85.9 138.54,-77.18\"/>\n",
       "<polygon fill=\"black\" stroke=\"black\" points=\"141.65,-78.79 143.17,-68.3 135.44,-75.55 141.65,-78.79\"/>\n",
       "</g>\n",
       "<!-- 17 -->\n",
       "<g id=\"node18\" class=\"node\">\n",
       "<title>17</title>\n",
       "<path fill=\"#e99559\" stroke=\"black\" d=\"M554,-782C554,-782 469,-782 469,-782 463,-782 457,-776 457,-770 457,-770 457,-711 457,-711 457,-705 463,-699 469,-699 469,-699 554,-699 554,-699 560,-699 566,-705 566,-711 566,-711 566,-770 566,-770 566,-776 560,-782 554,-782\"/>\n",
       "<text text-anchor=\"middle\" x=\"511.5\" y=\"-766.8\" font-family=\"Helvetica,sans-Serif\" font-size=\"14.00\">x2 &lt;= 0.529</text>\n",
       "<text text-anchor=\"middle\" x=\"511.5\" y=\"-751.8\" font-family=\"Helvetica,sans-Serif\" font-size=\"14.00\">gini = 0.237</text>\n",
       "<text text-anchor=\"middle\" x=\"511.5\" y=\"-736.8\" font-family=\"Helvetica,sans-Serif\" font-size=\"14.00\">samples = 80</text>\n",
       "<text text-anchor=\"middle\" x=\"511.5\" y=\"-721.8\" font-family=\"Helvetica,sans-Serif\" font-size=\"14.00\">value = [69, 11]</text>\n",
       "<text text-anchor=\"middle\" x=\"511.5\" y=\"-706.8\" font-family=\"Helvetica,sans-Serif\" font-size=\"14.00\">class = 0</text>\n",
       "</g>\n",
       "<!-- 16&#45;&gt;17 -->\n",
       "<g id=\"edge17\" class=\"edge\">\n",
       "<title>16&#45;&gt;17</title>\n",
       "<path fill=\"none\" stroke=\"black\" d=\"M511.5,-817.91C511.5,-809.65 511.5,-800.86 511.5,-792.3\"/>\n",
       "<polygon fill=\"black\" stroke=\"black\" points=\"515,-792.02 511.5,-782.02 508,-792.02 515,-792.02\"/>\n",
       "</g>\n",
       "<!-- 36 -->\n",
       "<g id=\"node37\" class=\"node\">\n",
       "<title>36</title>\n",
       "<path fill=\"#399de5\" stroke=\"black\" d=\"M667,-774.5C667,-774.5 596,-774.5 596,-774.5 590,-774.5 584,-768.5 584,-762.5 584,-762.5 584,-718.5 584,-718.5 584,-712.5 590,-706.5 596,-706.5 596,-706.5 667,-706.5 667,-706.5 673,-706.5 679,-712.5 679,-718.5 679,-718.5 679,-762.5 679,-762.5 679,-768.5 673,-774.5 667,-774.5\"/>\n",
       "<text text-anchor=\"middle\" x=\"631.5\" y=\"-759.3\" font-family=\"Helvetica,sans-Serif\" font-size=\"14.00\">gini = 0.0</text>\n",
       "<text text-anchor=\"middle\" x=\"631.5\" y=\"-744.3\" font-family=\"Helvetica,sans-Serif\" font-size=\"14.00\">samples = 8</text>\n",
       "<text text-anchor=\"middle\" x=\"631.5\" y=\"-729.3\" font-family=\"Helvetica,sans-Serif\" font-size=\"14.00\">value = [0, 8]</text>\n",
       "<text text-anchor=\"middle\" x=\"631.5\" y=\"-714.3\" font-family=\"Helvetica,sans-Serif\" font-size=\"14.00\">class = 1</text>\n",
       "</g>\n",
       "<!-- 16&#45;&gt;36 -->\n",
       "<g id=\"edge36\" class=\"edge\">\n",
       "<title>16&#45;&gt;36</title>\n",
       "<path fill=\"none\" stroke=\"black\" d=\"M553.13,-817.91C565.13,-806.21 578.21,-793.46 590.19,-781.78\"/>\n",
       "<polygon fill=\"black\" stroke=\"black\" points=\"592.77,-784.15 597.48,-774.67 587.88,-779.14 592.77,-784.15\"/>\n",
       "</g>\n",
       "<!-- 18 -->\n",
       "<g id=\"node19\" class=\"node\">\n",
       "<title>18</title>\n",
       "<path fill=\"#f1bd97\" stroke=\"black\" d=\"M550.5,-663C550.5,-663 472.5,-663 472.5,-663 466.5,-663 460.5,-657 460.5,-651 460.5,-651 460.5,-592 460.5,-592 460.5,-586 466.5,-580 472.5,-580 472.5,-580 550.5,-580 550.5,-580 556.5,-580 562.5,-586 562.5,-592 562.5,-592 562.5,-651 562.5,-651 562.5,-657 556.5,-663 550.5,-663\"/>\n",
       "<text text-anchor=\"middle\" x=\"511.5\" y=\"-647.8\" font-family=\"Helvetica,sans-Serif\" font-size=\"14.00\">x2 &lt;= 0.498</text>\n",
       "<text text-anchor=\"middle\" x=\"511.5\" y=\"-632.8\" font-family=\"Helvetica,sans-Serif\" font-size=\"14.00\">gini = 0.436</text>\n",
       "<text text-anchor=\"middle\" x=\"511.5\" y=\"-617.8\" font-family=\"Helvetica,sans-Serif\" font-size=\"14.00\">samples = 28</text>\n",
       "<text text-anchor=\"middle\" x=\"511.5\" y=\"-602.8\" font-family=\"Helvetica,sans-Serif\" font-size=\"14.00\">value = [19, 9]</text>\n",
       "<text text-anchor=\"middle\" x=\"511.5\" y=\"-587.8\" font-family=\"Helvetica,sans-Serif\" font-size=\"14.00\">class = 0</text>\n",
       "</g>\n",
       "<!-- 17&#45;&gt;18 -->\n",
       "<g id=\"edge18\" class=\"edge\">\n",
       "<title>17&#45;&gt;18</title>\n",
       "<path fill=\"none\" stroke=\"black\" d=\"M511.5,-698.91C511.5,-690.65 511.5,-681.86 511.5,-673.3\"/>\n",
       "<polygon fill=\"black\" stroke=\"black\" points=\"515,-673.02 511.5,-663.02 508,-673.02 515,-673.02\"/>\n",
       "</g>\n",
       "<!-- 27 -->\n",
       "<g id=\"node28\" class=\"node\">\n",
       "<title>27</title>\n",
       "<path fill=\"#e68641\" stroke=\"black\" d=\"M725.5,-663C725.5,-663 647.5,-663 647.5,-663 641.5,-663 635.5,-657 635.5,-651 635.5,-651 635.5,-592 635.5,-592 635.5,-586 641.5,-580 647.5,-580 647.5,-580 725.5,-580 725.5,-580 731.5,-580 737.5,-586 737.5,-592 737.5,-592 737.5,-651 737.5,-651 737.5,-657 731.5,-663 725.5,-663\"/>\n",
       "<text text-anchor=\"middle\" x=\"686.5\" y=\"-647.8\" font-family=\"Helvetica,sans-Serif\" font-size=\"14.00\">x2 &lt;= 0.767</text>\n",
       "<text text-anchor=\"middle\" x=\"686.5\" y=\"-632.8\" font-family=\"Helvetica,sans-Serif\" font-size=\"14.00\">gini = 0.074</text>\n",
       "<text text-anchor=\"middle\" x=\"686.5\" y=\"-617.8\" font-family=\"Helvetica,sans-Serif\" font-size=\"14.00\">samples = 52</text>\n",
       "<text text-anchor=\"middle\" x=\"686.5\" y=\"-602.8\" font-family=\"Helvetica,sans-Serif\" font-size=\"14.00\">value = [50, 2]</text>\n",
       "<text text-anchor=\"middle\" x=\"686.5\" y=\"-587.8\" font-family=\"Helvetica,sans-Serif\" font-size=\"14.00\">class = 0</text>\n",
       "</g>\n",
       "<!-- 17&#45;&gt;27 -->\n",
       "<g id=\"edge27\" class=\"edge\">\n",
       "<title>17&#45;&gt;27</title>\n",
       "<path fill=\"none\" stroke=\"black\" d=\"M566.39,-702.8C585.6,-689.96 607.26,-675.48 626.84,-662.39\"/>\n",
       "<polygon fill=\"black\" stroke=\"black\" points=\"629.01,-665.15 635.38,-656.68 625.12,-659.33 629.01,-665.15\"/>\n",
       "</g>\n",
       "<!-- 19 -->\n",
       "<g id=\"node20\" class=\"node\">\n",
       "<title>19</title>\n",
       "<path fill=\"#eda978\" stroke=\"black\" d=\"M491.5,-544C491.5,-544 413.5,-544 413.5,-544 407.5,-544 401.5,-538 401.5,-532 401.5,-532 401.5,-473 401.5,-473 401.5,-467 407.5,-461 413.5,-461 413.5,-461 491.5,-461 491.5,-461 497.5,-461 503.5,-467 503.5,-473 503.5,-473 503.5,-532 503.5,-532 503.5,-538 497.5,-544 491.5,-544\"/>\n",
       "<text text-anchor=\"middle\" x=\"452.5\" y=\"-528.8\" font-family=\"Helvetica,sans-Serif\" font-size=\"14.00\">x1 &lt;= &#45;0.512</text>\n",
       "<text text-anchor=\"middle\" x=\"452.5\" y=\"-513.8\" font-family=\"Helvetica,sans-Serif\" font-size=\"14.00\">gini = 0.365</text>\n",
       "<text text-anchor=\"middle\" x=\"452.5\" y=\"-498.8\" font-family=\"Helvetica,sans-Serif\" font-size=\"14.00\">samples = 25</text>\n",
       "<text text-anchor=\"middle\" x=\"452.5\" y=\"-483.8\" font-family=\"Helvetica,sans-Serif\" font-size=\"14.00\">value = [19, 6]</text>\n",
       "<text text-anchor=\"middle\" x=\"452.5\" y=\"-468.8\" font-family=\"Helvetica,sans-Serif\" font-size=\"14.00\">class = 0</text>\n",
       "</g>\n",
       "<!-- 18&#45;&gt;19 -->\n",
       "<g id=\"edge19\" class=\"edge\">\n",
       "<title>18&#45;&gt;19</title>\n",
       "<path fill=\"none\" stroke=\"black\" d=\"M491.03,-579.91C486.68,-571.29 482.05,-562.09 477.55,-553.17\"/>\n",
       "<polygon fill=\"black\" stroke=\"black\" points=\"480.56,-551.37 472.93,-544.02 474.31,-554.53 480.56,-551.37\"/>\n",
       "</g>\n",
       "<!-- 26 -->\n",
       "<g id=\"node27\" class=\"node\">\n",
       "<title>26</title>\n",
       "<path fill=\"#399de5\" stroke=\"black\" d=\"M605,-536.5C605,-536.5 534,-536.5 534,-536.5 528,-536.5 522,-530.5 522,-524.5 522,-524.5 522,-480.5 522,-480.5 522,-474.5 528,-468.5 534,-468.5 534,-468.5 605,-468.5 605,-468.5 611,-468.5 617,-474.5 617,-480.5 617,-480.5 617,-524.5 617,-524.5 617,-530.5 611,-536.5 605,-536.5\"/>\n",
       "<text text-anchor=\"middle\" x=\"569.5\" y=\"-521.3\" font-family=\"Helvetica,sans-Serif\" font-size=\"14.00\">gini = 0.0</text>\n",
       "<text text-anchor=\"middle\" x=\"569.5\" y=\"-506.3\" font-family=\"Helvetica,sans-Serif\" font-size=\"14.00\">samples = 3</text>\n",
       "<text text-anchor=\"middle\" x=\"569.5\" y=\"-491.3\" font-family=\"Helvetica,sans-Serif\" font-size=\"14.00\">value = [0, 3]</text>\n",
       "<text text-anchor=\"middle\" x=\"569.5\" y=\"-476.3\" font-family=\"Helvetica,sans-Serif\" font-size=\"14.00\">class = 1</text>\n",
       "</g>\n",
       "<!-- 18&#45;&gt;26 -->\n",
       "<g id=\"edge26\" class=\"edge\">\n",
       "<title>18&#45;&gt;26</title>\n",
       "<path fill=\"none\" stroke=\"black\" d=\"M531.62,-579.91C537.09,-568.87 543.03,-556.9 548.54,-545.77\"/>\n",
       "<polygon fill=\"black\" stroke=\"black\" points=\"551.75,-547.18 553.06,-536.67 545.48,-544.07 551.75,-547.18\"/>\n",
       "</g>\n",
       "<!-- 20 -->\n",
       "<g id=\"node21\" class=\"node\">\n",
       "<title>20</title>\n",
       "<path fill=\"#e58139\" stroke=\"black\" d=\"M485,-417.5C485,-417.5 414,-417.5 414,-417.5 408,-417.5 402,-411.5 402,-405.5 402,-405.5 402,-361.5 402,-361.5 402,-355.5 408,-349.5 414,-349.5 414,-349.5 485,-349.5 485,-349.5 491,-349.5 497,-355.5 497,-361.5 497,-361.5 497,-405.5 497,-405.5 497,-411.5 491,-417.5 485,-417.5\"/>\n",
       "<text text-anchor=\"middle\" x=\"449.5\" y=\"-402.3\" font-family=\"Helvetica,sans-Serif\" font-size=\"14.00\">gini = 0.0</text>\n",
       "<text text-anchor=\"middle\" x=\"449.5\" y=\"-387.3\" font-family=\"Helvetica,sans-Serif\" font-size=\"14.00\">samples = 9</text>\n",
       "<text text-anchor=\"middle\" x=\"449.5\" y=\"-372.3\" font-family=\"Helvetica,sans-Serif\" font-size=\"14.00\">value = [9, 0]</text>\n",
       "<text text-anchor=\"middle\" x=\"449.5\" y=\"-357.3\" font-family=\"Helvetica,sans-Serif\" font-size=\"14.00\">class = 0</text>\n",
       "</g>\n",
       "<!-- 19&#45;&gt;20 -->\n",
       "<g id=\"edge20\" class=\"edge\">\n",
       "<title>19&#45;&gt;20</title>\n",
       "<path fill=\"none\" stroke=\"black\" d=\"M451.46,-460.91C451.18,-450.2 450.89,-438.62 450.61,-427.78\"/>\n",
       "<polygon fill=\"black\" stroke=\"black\" points=\"454.11,-427.57 450.35,-417.67 447.11,-427.75 454.11,-427.57\"/>\n",
       "</g>\n",
       "<!-- 21 -->\n",
       "<g id=\"node22\" class=\"node\">\n",
       "<title>21</title>\n",
       "<path fill=\"#f5cdb0\" stroke=\"black\" d=\"M605.5,-425C605.5,-425 527.5,-425 527.5,-425 521.5,-425 515.5,-419 515.5,-413 515.5,-413 515.5,-354 515.5,-354 515.5,-348 521.5,-342 527.5,-342 527.5,-342 605.5,-342 605.5,-342 611.5,-342 617.5,-348 617.5,-354 617.5,-354 617.5,-413 617.5,-413 617.5,-419 611.5,-425 605.5,-425\"/>\n",
       "<text text-anchor=\"middle\" x=\"566.5\" y=\"-409.8\" font-family=\"Helvetica,sans-Serif\" font-size=\"14.00\">x1 &lt;= 0.758</text>\n",
       "<text text-anchor=\"middle\" x=\"566.5\" y=\"-394.8\" font-family=\"Helvetica,sans-Serif\" font-size=\"14.00\">gini = 0.469</text>\n",
       "<text text-anchor=\"middle\" x=\"566.5\" y=\"-379.8\" font-family=\"Helvetica,sans-Serif\" font-size=\"14.00\">samples = 16</text>\n",
       "<text text-anchor=\"middle\" x=\"566.5\" y=\"-364.8\" font-family=\"Helvetica,sans-Serif\" font-size=\"14.00\">value = [10, 6]</text>\n",
       "<text text-anchor=\"middle\" x=\"566.5\" y=\"-349.8\" font-family=\"Helvetica,sans-Serif\" font-size=\"14.00\">class = 0</text>\n",
       "</g>\n",
       "<!-- 19&#45;&gt;21 -->\n",
       "<g id=\"edge21\" class=\"edge\">\n",
       "<title>19&#45;&gt;21</title>\n",
       "<path fill=\"none\" stroke=\"black\" d=\"M492.05,-460.91C501.07,-451.65 510.74,-441.73 520.01,-432.21\"/>\n",
       "<polygon fill=\"black\" stroke=\"black\" points=\"522.55,-434.63 527.02,-425.02 517.53,-429.74 522.55,-434.63\"/>\n",
       "</g>\n",
       "<!-- 22 -->\n",
       "<g id=\"node23\" class=\"node\">\n",
       "<title>22</title>\n",
       "<path fill=\"#5aade9\" stroke=\"black\" d=\"M490,-306C490,-306 419,-306 419,-306 413,-306 407,-300 407,-294 407,-294 407,-235 407,-235 407,-229 413,-223 419,-223 419,-223 490,-223 490,-223 496,-223 502,-229 502,-235 502,-235 502,-294 502,-294 502,-300 496,-306 490,-306\"/>\n",
       "<text text-anchor=\"middle\" x=\"454.5\" y=\"-290.8\" font-family=\"Helvetica,sans-Serif\" font-size=\"14.00\">x2 &lt;= 0.366</text>\n",
       "<text text-anchor=\"middle\" x=\"454.5\" y=\"-275.8\" font-family=\"Helvetica,sans-Serif\" font-size=\"14.00\">gini = 0.245</text>\n",
       "<text text-anchor=\"middle\" x=\"454.5\" y=\"-260.8\" font-family=\"Helvetica,sans-Serif\" font-size=\"14.00\">samples = 7</text>\n",
       "<text text-anchor=\"middle\" x=\"454.5\" y=\"-245.8\" font-family=\"Helvetica,sans-Serif\" font-size=\"14.00\">value = [1, 6]</text>\n",
       "<text text-anchor=\"middle\" x=\"454.5\" y=\"-230.8\" font-family=\"Helvetica,sans-Serif\" font-size=\"14.00\">class = 1</text>\n",
       "</g>\n",
       "<!-- 21&#45;&gt;22 -->\n",
       "<g id=\"edge22\" class=\"edge\">\n",
       "<title>21&#45;&gt;22</title>\n",
       "<path fill=\"none\" stroke=\"black\" d=\"M527.64,-341.91C518.87,-332.74 509.47,-322.93 500.44,-313.49\"/>\n",
       "<polygon fill=\"black\" stroke=\"black\" points=\"502.73,-310.82 493.29,-306.02 497.68,-315.66 502.73,-310.82\"/>\n",
       "</g>\n",
       "<!-- 25 -->\n",
       "<g id=\"node26\" class=\"node\">\n",
       "<title>25</title>\n",
       "<path fill=\"#e58139\" stroke=\"black\" d=\"M603,-298.5C603,-298.5 532,-298.5 532,-298.5 526,-298.5 520,-292.5 520,-286.5 520,-286.5 520,-242.5 520,-242.5 520,-236.5 526,-230.5 532,-230.5 532,-230.5 603,-230.5 603,-230.5 609,-230.5 615,-236.5 615,-242.5 615,-242.5 615,-286.5 615,-286.5 615,-292.5 609,-298.5 603,-298.5\"/>\n",
       "<text text-anchor=\"middle\" x=\"567.5\" y=\"-283.3\" font-family=\"Helvetica,sans-Serif\" font-size=\"14.00\">gini = 0.0</text>\n",
       "<text text-anchor=\"middle\" x=\"567.5\" y=\"-268.3\" font-family=\"Helvetica,sans-Serif\" font-size=\"14.00\">samples = 9</text>\n",
       "<text text-anchor=\"middle\" x=\"567.5\" y=\"-253.3\" font-family=\"Helvetica,sans-Serif\" font-size=\"14.00\">value = [9, 0]</text>\n",
       "<text text-anchor=\"middle\" x=\"567.5\" y=\"-238.3\" font-family=\"Helvetica,sans-Serif\" font-size=\"14.00\">class = 0</text>\n",
       "</g>\n",
       "<!-- 21&#45;&gt;25 -->\n",
       "<g id=\"edge25\" class=\"edge\">\n",
       "<title>21&#45;&gt;25</title>\n",
       "<path fill=\"none\" stroke=\"black\" d=\"M566.85,-341.91C566.94,-331.2 567.04,-319.62 567.13,-308.78\"/>\n",
       "<polygon fill=\"black\" stroke=\"black\" points=\"570.63,-308.7 567.22,-298.67 563.63,-308.64 570.63,-308.7\"/>\n",
       "</g>\n",
       "<!-- 23 -->\n",
       "<g id=\"node24\" class=\"node\">\n",
       "<title>23</title>\n",
       "<path fill=\"#399de5\" stroke=\"black\" d=\"M434,-179.5C434,-179.5 363,-179.5 363,-179.5 357,-179.5 351,-173.5 351,-167.5 351,-167.5 351,-123.5 351,-123.5 351,-117.5 357,-111.5 363,-111.5 363,-111.5 434,-111.5 434,-111.5 440,-111.5 446,-117.5 446,-123.5 446,-123.5 446,-167.5 446,-167.5 446,-173.5 440,-179.5 434,-179.5\"/>\n",
       "<text text-anchor=\"middle\" x=\"398.5\" y=\"-164.3\" font-family=\"Helvetica,sans-Serif\" font-size=\"14.00\">gini = 0.0</text>\n",
       "<text text-anchor=\"middle\" x=\"398.5\" y=\"-149.3\" font-family=\"Helvetica,sans-Serif\" font-size=\"14.00\">samples = 6</text>\n",
       "<text text-anchor=\"middle\" x=\"398.5\" y=\"-134.3\" font-family=\"Helvetica,sans-Serif\" font-size=\"14.00\">value = [0, 6]</text>\n",
       "<text text-anchor=\"middle\" x=\"398.5\" y=\"-119.3\" font-family=\"Helvetica,sans-Serif\" font-size=\"14.00\">class = 1</text>\n",
       "</g>\n",
       "<!-- 22&#45;&gt;23 -->\n",
       "<g id=\"edge23\" class=\"edge\">\n",
       "<title>22&#45;&gt;23</title>\n",
       "<path fill=\"none\" stroke=\"black\" d=\"M435.07,-222.91C429.79,-211.87 424.06,-199.9 418.73,-188.77\"/>\n",
       "<polygon fill=\"black\" stroke=\"black\" points=\"421.85,-187.18 414.37,-179.67 415.54,-190.2 421.85,-187.18\"/>\n",
       "</g>\n",
       "<!-- 24 -->\n",
       "<g id=\"node25\" class=\"node\">\n",
       "<title>24</title>\n",
       "<path fill=\"#e58139\" stroke=\"black\" d=\"M547,-179.5C547,-179.5 476,-179.5 476,-179.5 470,-179.5 464,-173.5 464,-167.5 464,-167.5 464,-123.5 464,-123.5 464,-117.5 470,-111.5 476,-111.5 476,-111.5 547,-111.5 547,-111.5 553,-111.5 559,-117.5 559,-123.5 559,-123.5 559,-167.5 559,-167.5 559,-173.5 553,-179.5 547,-179.5\"/>\n",
       "<text text-anchor=\"middle\" x=\"511.5\" y=\"-164.3\" font-family=\"Helvetica,sans-Serif\" font-size=\"14.00\">gini = 0.0</text>\n",
       "<text text-anchor=\"middle\" x=\"511.5\" y=\"-149.3\" font-family=\"Helvetica,sans-Serif\" font-size=\"14.00\">samples = 1</text>\n",
       "<text text-anchor=\"middle\" x=\"511.5\" y=\"-134.3\" font-family=\"Helvetica,sans-Serif\" font-size=\"14.00\">value = [1, 0]</text>\n",
       "<text text-anchor=\"middle\" x=\"511.5\" y=\"-119.3\" font-family=\"Helvetica,sans-Serif\" font-size=\"14.00\">class = 0</text>\n",
       "</g>\n",
       "<!-- 22&#45;&gt;24 -->\n",
       "<g id=\"edge24\" class=\"edge\">\n",
       "<title>22&#45;&gt;24</title>\n",
       "<path fill=\"none\" stroke=\"black\" d=\"M474.28,-222.91C479.65,-211.87 485.49,-199.9 490.91,-188.77\"/>\n",
       "<polygon fill=\"black\" stroke=\"black\" points=\"494.11,-190.19 495.34,-179.67 487.82,-187.12 494.11,-190.19\"/>\n",
       "</g>\n",
       "<!-- 28 -->\n",
       "<g id=\"node29\" class=\"node\">\n",
       "<title>28</title>\n",
       "<path fill=\"#e89050\" stroke=\"black\" d=\"M725.5,-544C725.5,-544 647.5,-544 647.5,-544 641.5,-544 635.5,-538 635.5,-532 635.5,-532 635.5,-473 635.5,-473 635.5,-467 641.5,-461 647.5,-461 647.5,-461 725.5,-461 725.5,-461 731.5,-461 737.5,-467 737.5,-473 737.5,-473 737.5,-532 737.5,-532 737.5,-538 731.5,-544 725.5,-544\"/>\n",
       "<text text-anchor=\"middle\" x=\"686.5\" y=\"-528.8\" font-family=\"Helvetica,sans-Serif\" font-size=\"14.00\">x2 &lt;= 0.73</text>\n",
       "<text text-anchor=\"middle\" x=\"686.5\" y=\"-513.8\" font-family=\"Helvetica,sans-Serif\" font-size=\"14.00\">gini = 0.188</text>\n",
       "<text text-anchor=\"middle\" x=\"686.5\" y=\"-498.8\" font-family=\"Helvetica,sans-Serif\" font-size=\"14.00\">samples = 19</text>\n",
       "<text text-anchor=\"middle\" x=\"686.5\" y=\"-483.8\" font-family=\"Helvetica,sans-Serif\" font-size=\"14.00\">value = [17, 2]</text>\n",
       "<text text-anchor=\"middle\" x=\"686.5\" y=\"-468.8\" font-family=\"Helvetica,sans-Serif\" font-size=\"14.00\">class = 0</text>\n",
       "</g>\n",
       "<!-- 27&#45;&gt;28 -->\n",
       "<g id=\"edge28\" class=\"edge\">\n",
       "<title>27&#45;&gt;28</title>\n",
       "<path fill=\"none\" stroke=\"black\" d=\"M686.5,-579.91C686.5,-571.65 686.5,-562.86 686.5,-554.3\"/>\n",
       "<polygon fill=\"black\" stroke=\"black\" points=\"690,-554.02 686.5,-544.02 683,-554.02 690,-554.02\"/>\n",
       "</g>\n",
       "<!-- 35 -->\n",
       "<g id=\"node36\" class=\"node\">\n",
       "<title>35</title>\n",
       "<path fill=\"#e58139\" stroke=\"black\" d=\"M845.5,-536.5C845.5,-536.5 767.5,-536.5 767.5,-536.5 761.5,-536.5 755.5,-530.5 755.5,-524.5 755.5,-524.5 755.5,-480.5 755.5,-480.5 755.5,-474.5 761.5,-468.5 767.5,-468.5 767.5,-468.5 845.5,-468.5 845.5,-468.5 851.5,-468.5 857.5,-474.5 857.5,-480.5 857.5,-480.5 857.5,-524.5 857.5,-524.5 857.5,-530.5 851.5,-536.5 845.5,-536.5\"/>\n",
       "<text text-anchor=\"middle\" x=\"806.5\" y=\"-521.3\" font-family=\"Helvetica,sans-Serif\" font-size=\"14.00\">gini = 0.0</text>\n",
       "<text text-anchor=\"middle\" x=\"806.5\" y=\"-506.3\" font-family=\"Helvetica,sans-Serif\" font-size=\"14.00\">samples = 33</text>\n",
       "<text text-anchor=\"middle\" x=\"806.5\" y=\"-491.3\" font-family=\"Helvetica,sans-Serif\" font-size=\"14.00\">value = [33, 0]</text>\n",
       "<text text-anchor=\"middle\" x=\"806.5\" y=\"-476.3\" font-family=\"Helvetica,sans-Serif\" font-size=\"14.00\">class = 0</text>\n",
       "</g>\n",
       "<!-- 27&#45;&gt;35 -->\n",
       "<g id=\"edge35\" class=\"edge\">\n",
       "<title>27&#45;&gt;35</title>\n",
       "<path fill=\"none\" stroke=\"black\" d=\"M728.13,-579.91C740.13,-568.21 753.21,-555.46 765.19,-543.78\"/>\n",
       "<polygon fill=\"black\" stroke=\"black\" points=\"767.77,-546.15 772.48,-536.67 762.88,-541.14 767.77,-546.15\"/>\n",
       "</g>\n",
       "<!-- 29 -->\n",
       "<g id=\"node30\" class=\"node\">\n",
       "<title>29</title>\n",
       "<path fill=\"#e78845\" stroke=\"black\" d=\"M725.5,-425C725.5,-425 647.5,-425 647.5,-425 641.5,-425 635.5,-419 635.5,-413 635.5,-413 635.5,-354 635.5,-354 635.5,-348 641.5,-342 647.5,-342 647.5,-342 725.5,-342 725.5,-342 731.5,-342 737.5,-348 737.5,-354 737.5,-354 737.5,-413 737.5,-413 737.5,-419 731.5,-425 725.5,-425\"/>\n",
       "<text text-anchor=\"middle\" x=\"686.5\" y=\"-409.8\" font-family=\"Helvetica,sans-Serif\" font-size=\"14.00\">x1 &lt;= 0.097</text>\n",
       "<text text-anchor=\"middle\" x=\"686.5\" y=\"-394.8\" font-family=\"Helvetica,sans-Serif\" font-size=\"14.00\">gini = 0.105</text>\n",
       "<text text-anchor=\"middle\" x=\"686.5\" y=\"-379.8\" font-family=\"Helvetica,sans-Serif\" font-size=\"14.00\">samples = 18</text>\n",
       "<text text-anchor=\"middle\" x=\"686.5\" y=\"-364.8\" font-family=\"Helvetica,sans-Serif\" font-size=\"14.00\">value = [17, 1]</text>\n",
       "<text text-anchor=\"middle\" x=\"686.5\" y=\"-349.8\" font-family=\"Helvetica,sans-Serif\" font-size=\"14.00\">class = 0</text>\n",
       "</g>\n",
       "<!-- 28&#45;&gt;29 -->\n",
       "<g id=\"edge29\" class=\"edge\">\n",
       "<title>28&#45;&gt;29</title>\n",
       "<path fill=\"none\" stroke=\"black\" d=\"M686.5,-460.91C686.5,-452.65 686.5,-443.86 686.5,-435.3\"/>\n",
       "<polygon fill=\"black\" stroke=\"black\" points=\"690,-435.02 686.5,-425.02 683,-435.02 690,-435.02\"/>\n",
       "</g>\n",
       "<!-- 34 -->\n",
       "<g id=\"node35\" class=\"node\">\n",
       "<title>34</title>\n",
       "<path fill=\"#399de5\" stroke=\"black\" d=\"M839,-417.5C839,-417.5 768,-417.5 768,-417.5 762,-417.5 756,-411.5 756,-405.5 756,-405.5 756,-361.5 756,-361.5 756,-355.5 762,-349.5 768,-349.5 768,-349.5 839,-349.5 839,-349.5 845,-349.5 851,-355.5 851,-361.5 851,-361.5 851,-405.5 851,-405.5 851,-411.5 845,-417.5 839,-417.5\"/>\n",
       "<text text-anchor=\"middle\" x=\"803.5\" y=\"-402.3\" font-family=\"Helvetica,sans-Serif\" font-size=\"14.00\">gini = 0.0</text>\n",
       "<text text-anchor=\"middle\" x=\"803.5\" y=\"-387.3\" font-family=\"Helvetica,sans-Serif\" font-size=\"14.00\">samples = 1</text>\n",
       "<text text-anchor=\"middle\" x=\"803.5\" y=\"-372.3\" font-family=\"Helvetica,sans-Serif\" font-size=\"14.00\">value = [0, 1]</text>\n",
       "<text text-anchor=\"middle\" x=\"803.5\" y=\"-357.3\" font-family=\"Helvetica,sans-Serif\" font-size=\"14.00\">class = 1</text>\n",
       "</g>\n",
       "<!-- 28&#45;&gt;34 -->\n",
       "<g id=\"edge34\" class=\"edge\">\n",
       "<title>28&#45;&gt;34</title>\n",
       "<path fill=\"none\" stroke=\"black\" d=\"M727.09,-460.91C738.79,-449.21 751.54,-436.46 763.22,-424.78\"/>\n",
       "<polygon fill=\"black\" stroke=\"black\" points=\"765.74,-427.21 770.33,-417.67 760.79,-422.26 765.74,-427.21\"/>\n",
       "</g>\n",
       "<!-- 30 -->\n",
       "<g id=\"node31\" class=\"node\">\n",
       "<title>30</title>\n",
       "<path fill=\"#e58139\" stroke=\"black\" d=\"M724.5,-298.5C724.5,-298.5 646.5,-298.5 646.5,-298.5 640.5,-298.5 634.5,-292.5 634.5,-286.5 634.5,-286.5 634.5,-242.5 634.5,-242.5 634.5,-236.5 640.5,-230.5 646.5,-230.5 646.5,-230.5 724.5,-230.5 724.5,-230.5 730.5,-230.5 736.5,-236.5 736.5,-242.5 736.5,-242.5 736.5,-286.5 736.5,-286.5 736.5,-292.5 730.5,-298.5 724.5,-298.5\"/>\n",
       "<text text-anchor=\"middle\" x=\"685.5\" y=\"-283.3\" font-family=\"Helvetica,sans-Serif\" font-size=\"14.00\">gini = 0.0</text>\n",
       "<text text-anchor=\"middle\" x=\"685.5\" y=\"-268.3\" font-family=\"Helvetica,sans-Serif\" font-size=\"14.00\">samples = 10</text>\n",
       "<text text-anchor=\"middle\" x=\"685.5\" y=\"-253.3\" font-family=\"Helvetica,sans-Serif\" font-size=\"14.00\">value = [10, 0]</text>\n",
       "<text text-anchor=\"middle\" x=\"685.5\" y=\"-238.3\" font-family=\"Helvetica,sans-Serif\" font-size=\"14.00\">class = 0</text>\n",
       "</g>\n",
       "<!-- 29&#45;&gt;30 -->\n",
       "<g id=\"edge30\" class=\"edge\">\n",
       "<title>29&#45;&gt;30</title>\n",
       "<path fill=\"none\" stroke=\"black\" d=\"M686.15,-341.91C686.06,-331.2 685.96,-319.62 685.87,-308.78\"/>\n",
       "<polygon fill=\"black\" stroke=\"black\" points=\"689.37,-308.64 685.78,-298.67 682.37,-308.7 689.37,-308.64\"/>\n",
       "</g>\n",
       "<!-- 31 -->\n",
       "<g id=\"node32\" class=\"node\">\n",
       "<title>31</title>\n",
       "<path fill=\"#e99355\" stroke=\"black\" d=\"M838,-306C838,-306 767,-306 767,-306 761,-306 755,-300 755,-294 755,-294 755,-235 755,-235 755,-229 761,-223 767,-223 767,-223 838,-223 838,-223 844,-223 850,-229 850,-235 850,-235 850,-294 850,-294 850,-300 844,-306 838,-306\"/>\n",
       "<text text-anchor=\"middle\" x=\"802.5\" y=\"-290.8\" font-family=\"Helvetica,sans-Serif\" font-size=\"14.00\">x1 &lt;= 0.266</text>\n",
       "<text text-anchor=\"middle\" x=\"802.5\" y=\"-275.8\" font-family=\"Helvetica,sans-Serif\" font-size=\"14.00\">gini = 0.219</text>\n",
       "<text text-anchor=\"middle\" x=\"802.5\" y=\"-260.8\" font-family=\"Helvetica,sans-Serif\" font-size=\"14.00\">samples = 8</text>\n",
       "<text text-anchor=\"middle\" x=\"802.5\" y=\"-245.8\" font-family=\"Helvetica,sans-Serif\" font-size=\"14.00\">value = [7, 1]</text>\n",
       "<text text-anchor=\"middle\" x=\"802.5\" y=\"-230.8\" font-family=\"Helvetica,sans-Serif\" font-size=\"14.00\">class = 0</text>\n",
       "</g>\n",
       "<!-- 29&#45;&gt;31 -->\n",
       "<g id=\"edge31\" class=\"edge\">\n",
       "<title>29&#45;&gt;31</title>\n",
       "<path fill=\"none\" stroke=\"black\" d=\"M726.75,-341.91C735.92,-332.65 745.76,-322.73 755.2,-313.21\"/>\n",
       "<polygon fill=\"black\" stroke=\"black\" points=\"757.77,-315.59 762.33,-306.02 752.8,-310.66 757.77,-315.59\"/>\n",
       "</g>\n",
       "<!-- 32 -->\n",
       "<g id=\"node33\" class=\"node\">\n",
       "<title>32</title>\n",
       "<path fill=\"#399de5\" stroke=\"black\" d=\"M781,-179.5C781,-179.5 710,-179.5 710,-179.5 704,-179.5 698,-173.5 698,-167.5 698,-167.5 698,-123.5 698,-123.5 698,-117.5 704,-111.5 710,-111.5 710,-111.5 781,-111.5 781,-111.5 787,-111.5 793,-117.5 793,-123.5 793,-123.5 793,-167.5 793,-167.5 793,-173.5 787,-179.5 781,-179.5\"/>\n",
       "<text text-anchor=\"middle\" x=\"745.5\" y=\"-164.3\" font-family=\"Helvetica,sans-Serif\" font-size=\"14.00\">gini = 0.0</text>\n",
       "<text text-anchor=\"middle\" x=\"745.5\" y=\"-149.3\" font-family=\"Helvetica,sans-Serif\" font-size=\"14.00\">samples = 1</text>\n",
       "<text text-anchor=\"middle\" x=\"745.5\" y=\"-134.3\" font-family=\"Helvetica,sans-Serif\" font-size=\"14.00\">value = [0, 1]</text>\n",
       "<text text-anchor=\"middle\" x=\"745.5\" y=\"-119.3\" font-family=\"Helvetica,sans-Serif\" font-size=\"14.00\">class = 1</text>\n",
       "</g>\n",
       "<!-- 31&#45;&gt;32 -->\n",
       "<g id=\"edge32\" class=\"edge\">\n",
       "<title>31&#45;&gt;32</title>\n",
       "<path fill=\"none\" stroke=\"black\" d=\"M782.72,-222.91C777.35,-211.87 771.51,-199.9 766.09,-188.77\"/>\n",
       "<polygon fill=\"black\" stroke=\"black\" points=\"769.18,-187.12 761.66,-179.67 762.89,-190.19 769.18,-187.12\"/>\n",
       "</g>\n",
       "<!-- 33 -->\n",
       "<g id=\"node34\" class=\"node\">\n",
       "<title>33</title>\n",
       "<path fill=\"#e58139\" stroke=\"black\" d=\"M894,-179.5C894,-179.5 823,-179.5 823,-179.5 817,-179.5 811,-173.5 811,-167.5 811,-167.5 811,-123.5 811,-123.5 811,-117.5 817,-111.5 823,-111.5 823,-111.5 894,-111.5 894,-111.5 900,-111.5 906,-117.5 906,-123.5 906,-123.5 906,-167.5 906,-167.5 906,-173.5 900,-179.5 894,-179.5\"/>\n",
       "<text text-anchor=\"middle\" x=\"858.5\" y=\"-164.3\" font-family=\"Helvetica,sans-Serif\" font-size=\"14.00\">gini = 0.0</text>\n",
       "<text text-anchor=\"middle\" x=\"858.5\" y=\"-149.3\" font-family=\"Helvetica,sans-Serif\" font-size=\"14.00\">samples = 7</text>\n",
       "<text text-anchor=\"middle\" x=\"858.5\" y=\"-134.3\" font-family=\"Helvetica,sans-Serif\" font-size=\"14.00\">value = [7, 0]</text>\n",
       "<text text-anchor=\"middle\" x=\"858.5\" y=\"-119.3\" font-family=\"Helvetica,sans-Serif\" font-size=\"14.00\">class = 0</text>\n",
       "</g>\n",
       "<!-- 31&#45;&gt;33 -->\n",
       "<g id=\"edge33\" class=\"edge\">\n",
       "<title>31&#45;&gt;33</title>\n",
       "<path fill=\"none\" stroke=\"black\" d=\"M821.93,-222.91C827.21,-211.87 832.94,-199.9 838.27,-188.77\"/>\n",
       "<polygon fill=\"black\" stroke=\"black\" points=\"841.46,-190.2 842.63,-179.67 835.15,-187.18 841.46,-190.2\"/>\n",
       "</g>\n",
       "</g>\n",
       "</svg>\n"
      ],
      "text/plain": [
       "<graphviz.sources.Source at 0x7f702c29de20>"
      ]
     },
     "execution_count": 14,
     "metadata": {},
     "output_type": "execute_result"
    }
   ],
   "source": [
    "export_graphviz(tree_clf1,\n",
    "                out_file=str(IMAGE_PATH / 'make_moons.dot'),\n",
    "                feature_names=['x1', 'x2'],\n",
    "                class_names=np.array(['0', '1']),\n",
    "                rounded=True,\n",
    "                filled=True)\n",
    "\n",
    "Source.from_file(IMAGE_PATH / 'make_moons.dot')"
   ]
  },
  {
   "cell_type": "code",
   "execution_count": 15,
   "id": "40c813f2-1366-4a68-a25a-c301b832e274",
   "metadata": {},
   "outputs": [
    {
     "data": {
      "text/plain": [
       "0.89"
      ]
     },
     "execution_count": 15,
     "metadata": {},
     "output_type": "execute_result"
    }
   ],
   "source": [
    "Xtest, ytest = make_moons(n_samples=100, noise=0.2, random_state=43)\n",
    "\n",
    "tree_clf1.score(Xtest, ytest)"
   ]
  },
  {
   "cell_type": "code",
   "execution_count": 16,
   "id": "1139d1f3-52bb-4220-854b-78ed008d8ef1",
   "metadata": {},
   "outputs": [
    {
     "data": {
      "text/plain": [
       "0.92"
      ]
     },
     "execution_count": 16,
     "metadata": {},
     "output_type": "execute_result"
    }
   ],
   "source": [
    "tree_clf2.score(Xtest, ytest)"
   ]
  },
  {
   "cell_type": "code",
   "execution_count": 17,
   "id": "4ea097e6-c43d-4128-9646-9c4e8b451de3",
   "metadata": {},
   "outputs": [
    {
     "data": {
      "text/plain": [
       "8"
      ]
     },
     "execution_count": 17,
     "metadata": {},
     "output_type": "execute_result"
    }
   ],
   "source": [
    "tree_clf1.get_depth()"
   ]
  },
  {
   "cell_type": "code",
   "execution_count": 18,
   "id": "bb6ca027-16db-46a4-a4ee-7557c3ffd62b",
   "metadata": {},
   "outputs": [
    {
     "data": {
      "text/plain": [
       "6"
      ]
     },
     "execution_count": 18,
     "metadata": {},
     "output_type": "execute_result"
    }
   ],
   "source": [
    "tree_clf2.get_depth()"
   ]
  },
  {
   "cell_type": "code",
   "execution_count": 19,
   "id": "c192c9fc-f9f7-48e4-82b9-7eac7de5b3e8",
   "metadata": {},
   "outputs": [
    {
     "data": {
      "text/plain": [
       "array([0.37453926, 0.62546074])"
      ]
     },
     "execution_count": 19,
     "metadata": {},
     "output_type": "execute_result"
    }
   ],
   "source": [
    "tree_clf2.feature_importances_"
   ]
  },
  {
   "cell_type": "code",
   "execution_count": 20,
   "id": "567e77b5-e0e2-4cce-acf4-f75c9a022d40",
   "metadata": {},
   "outputs": [
    {
     "data": {
      "text/plain": [
       "{'ccp_alpha': 0.0,\n",
       " 'class_weight': None,\n",
       " 'criterion': 'gini',\n",
       " 'max_depth': None,\n",
       " 'max_features': None,\n",
       " 'max_leaf_nodes': None,\n",
       " 'min_impurity_decrease': 0.0,\n",
       " 'min_samples_leaf': 5,\n",
       " 'min_samples_split': 2,\n",
       " 'min_weight_fraction_leaf': 0.0,\n",
       " 'random_state': 42,\n",
       " 'splitter': 'best'}"
      ]
     },
     "execution_count": 20,
     "metadata": {},
     "output_type": "execute_result"
    }
   ],
   "source": [
    "tree_clf2.get_params()"
   ]
  },
  {
   "cell_type": "markdown",
   "id": "9bc436b8-9ab2-436f-bf2f-82ddd30b50f7",
   "metadata": {},
   "source": [
    "## 3. Regression\n",
    "`DecisionTreeRegressor` class for regression tasks. The same as the classification tree (predict a class in each node), it predicts a value. This prediction is the average target values of the node, and it results in a mean squared error over these instances of the node.\n",
    "\n",
    "DecisionTree regression is more likely to overfitting, without any regularization, it is looked badly."
   ]
  },
  {
   "cell_type": "code",
   "execution_count": 21,
   "id": "792927b8-6ded-4cc4-b593-465bdf268b65",
   "metadata": {},
   "outputs": [
    {
     "data": {
      "text/html": [
       "<style>#sk-container-id-3 {color: black;background-color: white;}#sk-container-id-3 pre{padding: 0;}#sk-container-id-3 div.sk-toggleable {background-color: white;}#sk-container-id-3 label.sk-toggleable__label {cursor: pointer;display: block;width: 100%;margin-bottom: 0;padding: 0.3em;box-sizing: border-box;text-align: center;}#sk-container-id-3 label.sk-toggleable__label-arrow:before {content: \"▸\";float: left;margin-right: 0.25em;color: #696969;}#sk-container-id-3 label.sk-toggleable__label-arrow:hover:before {color: black;}#sk-container-id-3 div.sk-estimator:hover label.sk-toggleable__label-arrow:before {color: black;}#sk-container-id-3 div.sk-toggleable__content {max-height: 0;max-width: 0;overflow: hidden;text-align: left;background-color: #f0f8ff;}#sk-container-id-3 div.sk-toggleable__content pre {margin: 0.2em;color: black;border-radius: 0.25em;background-color: #f0f8ff;}#sk-container-id-3 input.sk-toggleable__control:checked~div.sk-toggleable__content {max-height: 200px;max-width: 100%;overflow: auto;}#sk-container-id-3 input.sk-toggleable__control:checked~label.sk-toggleable__label-arrow:before {content: \"▾\";}#sk-container-id-3 div.sk-estimator input.sk-toggleable__control:checked~label.sk-toggleable__label {background-color: #d4ebff;}#sk-container-id-3 div.sk-label input.sk-toggleable__control:checked~label.sk-toggleable__label {background-color: #d4ebff;}#sk-container-id-3 input.sk-hidden--visually {border: 0;clip: rect(1px 1px 1px 1px);clip: rect(1px, 1px, 1px, 1px);height: 1px;margin: -1px;overflow: hidden;padding: 0;position: absolute;width: 1px;}#sk-container-id-3 div.sk-estimator {font-family: monospace;background-color: #f0f8ff;border: 1px dotted black;border-radius: 0.25em;box-sizing: border-box;margin-bottom: 0.5em;}#sk-container-id-3 div.sk-estimator:hover {background-color: #d4ebff;}#sk-container-id-3 div.sk-parallel-item::after {content: \"\";width: 100%;border-bottom: 1px solid gray;flex-grow: 1;}#sk-container-id-3 div.sk-label:hover label.sk-toggleable__label {background-color: #d4ebff;}#sk-container-id-3 div.sk-serial::before {content: \"\";position: absolute;border-left: 1px solid gray;box-sizing: border-box;top: 0;bottom: 0;left: 50%;z-index: 0;}#sk-container-id-3 div.sk-serial {display: flex;flex-direction: column;align-items: center;background-color: white;padding-right: 0.2em;padding-left: 0.2em;position: relative;}#sk-container-id-3 div.sk-item {position: relative;z-index: 1;}#sk-container-id-3 div.sk-parallel {display: flex;align-items: stretch;justify-content: center;background-color: white;position: relative;}#sk-container-id-3 div.sk-item::before, #sk-container-id-3 div.sk-parallel-item::before {content: \"\";position: absolute;border-left: 1px solid gray;box-sizing: border-box;top: 0;bottom: 0;left: 50%;z-index: -1;}#sk-container-id-3 div.sk-parallel-item {display: flex;flex-direction: column;z-index: 1;position: relative;background-color: white;}#sk-container-id-3 div.sk-parallel-item:first-child::after {align-self: flex-end;width: 50%;}#sk-container-id-3 div.sk-parallel-item:last-child::after {align-self: flex-start;width: 50%;}#sk-container-id-3 div.sk-parallel-item:only-child::after {width: 0;}#sk-container-id-3 div.sk-dashed-wrapped {border: 1px dashed gray;margin: 0 0.4em 0.5em 0.4em;box-sizing: border-box;padding-bottom: 0.4em;background-color: white;}#sk-container-id-3 div.sk-label label {font-family: monospace;font-weight: bold;display: inline-block;line-height: 1.2em;}#sk-container-id-3 div.sk-label-container {text-align: center;}#sk-container-id-3 div.sk-container {/* jupyter's `normalize.less` sets `[hidden] { display: none; }` but bootstrap.min.css set `[hidden] { display: none !important; }` so we also need the `!important` here to be able to override the default hidden behavior on the sphinx rendered scikit-learn.org. See: https://github.com/scikit-learn/scikit-learn/issues/21755 */display: inline-block !important;position: relative;}#sk-container-id-3 div.sk-text-repr-fallback {display: none;}</style><div id=\"sk-container-id-3\" class=\"sk-top-container\"><div class=\"sk-text-repr-fallback\"><pre>DecisionTreeRegressor(max_depth=2, random_state=42)</pre><b>In a Jupyter environment, please rerun this cell to show the HTML representation or trust the notebook. <br />On GitHub, the HTML representation is unable to render, please try loading this page with nbviewer.org.</b></div><div class=\"sk-container\" hidden><div class=\"sk-item\"><div class=\"sk-estimator sk-toggleable\"><input class=\"sk-toggleable__control sk-hidden--visually\" id=\"sk-estimator-id-3\" type=\"checkbox\" checked><label for=\"sk-estimator-id-3\" class=\"sk-toggleable__label sk-toggleable__label-arrow\">DecisionTreeRegressor</label><div class=\"sk-toggleable__content\"><pre>DecisionTreeRegressor(max_depth=2, random_state=42)</pre></div></div></div></div></div>"
      ],
      "text/plain": [
       "DecisionTreeRegressor(max_depth=2, random_state=42)"
      ]
     },
     "execution_count": 21,
     "metadata": {},
     "output_type": "execute_result"
    }
   ],
   "source": [
    "from sklearn.tree import DecisionTreeRegressor\n",
    "from sklearn.model_selection import train_test_split\n",
    "\n",
    "np.random.seed(42)\n",
    "X = np.random.rand(200, 1) - 0.5\n",
    "y = X**2 + 0.025 * np.random.randn(200, 1)\n",
    "Xtrain, Xtest, ytrain, ytest = train_test_split(X, y, test_size=0.1, random_state=42)\n",
    "\n",
    "tree_reg = DecisionTreeRegressor(max_depth=2, random_state=42)\n",
    "tree_reg.fit(Xtrain, ytrain)"
   ]
  },
  {
   "cell_type": "code",
   "execution_count": 22,
   "id": "7b66ccce-e01c-4eba-871e-05948ba7ba28",
   "metadata": {},
   "outputs": [],
   "source": [
    "y_pred = tree_reg.predict(Xtest)"
   ]
  },
  {
   "cell_type": "code",
   "execution_count": 23,
   "id": "dd43fbef-dfb0-4971-b5dd-1d22443cca42",
   "metadata": {},
   "outputs": [
    {
     "data": {
      "text/plain": [
       "0.10610316876198495"
      ]
     },
     "execution_count": 23,
     "metadata": {},
     "output_type": "execute_result"
    }
   ],
   "source": [
    "np.sqrt(((ytest - y_pred)**2).mean())"
   ]
  },
  {
   "cell_type": "code",
   "execution_count": 24,
   "id": "1c1c4d42-eca9-4bea-b7ba-98031ed96b43",
   "metadata": {},
   "outputs": [
    {
     "data": {
      "image/svg+xml": [
       "<?xml version=\"1.0\" encoding=\"UTF-8\" standalone=\"no\"?>\n",
       "<!DOCTYPE svg PUBLIC \"-//W3C//DTD SVG 1.1//EN\"\n",
       " \"http://www.w3.org/Graphics/SVG/1.1/DTD/svg11.dtd\">\n",
       "<!-- Generated by graphviz version 2.43.0 (0)\n",
       " -->\n",
       "<!-- Title: Tree Pages: 1 -->\n",
       "<svg width=\"666pt\" height=\"269pt\"\n",
       " viewBox=\"0.00 0.00 666.00 269.00\" xmlns=\"http://www.w3.org/2000/svg\" xmlns:xlink=\"http://www.w3.org/1999/xlink\">\n",
       "<g id=\"graph0\" class=\"graph\" transform=\"scale(1 1) rotate(0) translate(4 265)\">\n",
       "<title>Tree</title>\n",
       "<polygon fill=\"white\" stroke=\"transparent\" points=\"-4,4 -4,-265 662,-265 662,4 -4,4\"/>\n",
       "<!-- 0 -->\n",
       "<g id=\"node1\" class=\"node\">\n",
       "<title>0</title>\n",
       "<path fill=\"#f9e0cf\" stroke=\"black\" d=\"M392,-261C392,-261 265,-261 265,-261 259,-261 253,-255 253,-249 253,-249 253,-205 253,-205 253,-199 259,-193 265,-193 265,-193 392,-193 392,-193 398,-193 404,-199 404,-205 404,-205 404,-249 404,-249 404,-255 398,-261 392,-261\"/>\n",
       "<text text-anchor=\"middle\" x=\"328.5\" y=\"-245.8\" font-family=\"Helvetica,sans-Serif\" font-size=\"14.00\">x1 &lt;= &#45;0.341</text>\n",
       "<text text-anchor=\"middle\" x=\"328.5\" y=\"-230.8\" font-family=\"Helvetica,sans-Serif\" font-size=\"14.00\">squared_error = 0.006</text>\n",
       "<text text-anchor=\"middle\" x=\"328.5\" y=\"-215.8\" font-family=\"Helvetica,sans-Serif\" font-size=\"14.00\">samples = 180</text>\n",
       "<text text-anchor=\"middle\" x=\"328.5\" y=\"-200.8\" font-family=\"Helvetica,sans-Serif\" font-size=\"14.00\">value = 0.087</text>\n",
       "</g>\n",
       "<!-- 1 -->\n",
       "<g id=\"node2\" class=\"node\">\n",
       "<title>1</title>\n",
       "<path fill=\"#eca16b\" stroke=\"black\" d=\"M308,-157C308,-157 181,-157 181,-157 175,-157 169,-151 169,-145 169,-145 169,-101 169,-101 169,-95 175,-89 181,-89 181,-89 308,-89 308,-89 314,-89 320,-95 320,-101 320,-101 320,-145 320,-145 320,-151 314,-157 308,-157\"/>\n",
       "<text text-anchor=\"middle\" x=\"244.5\" y=\"-141.8\" font-family=\"Helvetica,sans-Serif\" font-size=\"14.00\">x1 &lt;= &#45;0.454</text>\n",
       "<text text-anchor=\"middle\" x=\"244.5\" y=\"-126.8\" font-family=\"Helvetica,sans-Serif\" font-size=\"14.00\">squared_error = 0.002</text>\n",
       "<text text-anchor=\"middle\" x=\"244.5\" y=\"-111.8\" font-family=\"Helvetica,sans-Serif\" font-size=\"14.00\">samples = 30</text>\n",
       "<text text-anchor=\"middle\" x=\"244.5\" y=\"-96.8\" font-family=\"Helvetica,sans-Serif\" font-size=\"14.00\">value = 0.186</text>\n",
       "</g>\n",
       "<!-- 0&#45;&gt;1 -->\n",
       "<g id=\"edge1\" class=\"edge\">\n",
       "<title>0&#45;&gt;1</title>\n",
       "<path fill=\"none\" stroke=\"black\" d=\"M301.23,-192.88C293.97,-184.07 286.03,-174.43 278.46,-165.24\"/>\n",
       "<polygon fill=\"black\" stroke=\"black\" points=\"280.98,-162.79 271.92,-157.3 275.58,-167.24 280.98,-162.79\"/>\n",
       "<text text-anchor=\"middle\" x=\"269.51\" y=\"-178.48\" font-family=\"Helvetica,sans-Serif\" font-size=\"14.00\">True</text>\n",
       "</g>\n",
       "<!-- 4 -->\n",
       "<g id=\"node5\" class=\"node\">\n",
       "<title>4</title>\n",
       "<path fill=\"#fbede3\" stroke=\"black\" d=\"M477,-157C477,-157 350,-157 350,-157 344,-157 338,-151 338,-145 338,-145 338,-101 338,-101 338,-95 344,-89 350,-89 350,-89 477,-89 477,-89 483,-89 489,-95 489,-101 489,-101 489,-145 489,-145 489,-151 483,-157 477,-157\"/>\n",
       "<text text-anchor=\"middle\" x=\"413.5\" y=\"-141.8\" font-family=\"Helvetica,sans-Serif\" font-size=\"14.00\">x1 &lt;= 0.312</text>\n",
       "<text text-anchor=\"middle\" x=\"413.5\" y=\"-126.8\" font-family=\"Helvetica,sans-Serif\" font-size=\"14.00\">squared_error = 0.005</text>\n",
       "<text text-anchor=\"middle\" x=\"413.5\" y=\"-111.8\" font-family=\"Helvetica,sans-Serif\" font-size=\"14.00\">samples = 150</text>\n",
       "<text text-anchor=\"middle\" x=\"413.5\" y=\"-96.8\" font-family=\"Helvetica,sans-Serif\" font-size=\"14.00\">value = 0.067</text>\n",
       "</g>\n",
       "<!-- 0&#45;&gt;4 -->\n",
       "<g id=\"edge4\" class=\"edge\">\n",
       "<title>0&#45;&gt;4</title>\n",
       "<path fill=\"none\" stroke=\"black\" d=\"M356.1,-192.88C363.45,-184.07 371.47,-174.43 379.14,-165.24\"/>\n",
       "<polygon fill=\"black\" stroke=\"black\" points=\"382.04,-167.22 385.75,-157.3 376.66,-162.74 382.04,-167.22\"/>\n",
       "<text text-anchor=\"middle\" x=\"388.01\" y=\"-178.5\" font-family=\"Helvetica,sans-Serif\" font-size=\"14.00\">False</text>\n",
       "</g>\n",
       "<!-- 2 -->\n",
       "<g id=\"node3\" class=\"node\">\n",
       "<title>2</title>\n",
       "<path fill=\"#e58139\" stroke=\"black\" d=\"M139,-53C139,-53 12,-53 12,-53 6,-53 0,-47 0,-41 0,-41 0,-12 0,-12 0,-6 6,0 12,0 12,0 139,0 139,0 145,0 151,-6 151,-12 151,-12 151,-41 151,-41 151,-47 145,-53 139,-53\"/>\n",
       "<text text-anchor=\"middle\" x=\"75.5\" y=\"-37.8\" font-family=\"Helvetica,sans-Serif\" font-size=\"14.00\">squared_error = 0.001</text>\n",
       "<text text-anchor=\"middle\" x=\"75.5\" y=\"-22.8\" font-family=\"Helvetica,sans-Serif\" font-size=\"14.00\">samples = 9</text>\n",
       "<text text-anchor=\"middle\" x=\"75.5\" y=\"-7.8\" font-family=\"Helvetica,sans-Serif\" font-size=\"14.00\">value = 0.236</text>\n",
       "</g>\n",
       "<!-- 1&#45;&gt;2 -->\n",
       "<g id=\"edge2\" class=\"edge\">\n",
       "<title>1&#45;&gt;2</title>\n",
       "<path fill=\"none\" stroke=\"black\" d=\"M185.39,-88.95C167.48,-78.93 147.89,-67.98 130.27,-58.13\"/>\n",
       "<polygon fill=\"black\" stroke=\"black\" points=\"131.69,-54.91 121.26,-53.09 128.28,-61.02 131.69,-54.91\"/>\n",
       "</g>\n",
       "<!-- 3 -->\n",
       "<g id=\"node4\" class=\"node\">\n",
       "<title>3</title>\n",
       "<path fill=\"#eeaf81\" stroke=\"black\" d=\"M308,-53C308,-53 181,-53 181,-53 175,-53 169,-47 169,-41 169,-41 169,-12 169,-12 169,-6 175,0 181,0 181,0 308,0 308,0 314,0 320,-6 320,-12 320,-12 320,-41 320,-41 320,-47 314,-53 308,-53\"/>\n",
       "<text text-anchor=\"middle\" x=\"244.5\" y=\"-37.8\" font-family=\"Helvetica,sans-Serif\" font-size=\"14.00\">squared_error = 0.001</text>\n",
       "<text text-anchor=\"middle\" x=\"244.5\" y=\"-22.8\" font-family=\"Helvetica,sans-Serif\" font-size=\"14.00\">samples = 21</text>\n",
       "<text text-anchor=\"middle\" x=\"244.5\" y=\"-7.8\" font-family=\"Helvetica,sans-Serif\" font-size=\"14.00\">value = 0.164</text>\n",
       "</g>\n",
       "<!-- 1&#45;&gt;3 -->\n",
       "<g id=\"edge3\" class=\"edge\">\n",
       "<title>1&#45;&gt;3</title>\n",
       "<path fill=\"none\" stroke=\"black\" d=\"M244.5,-88.95C244.5,-80.72 244.5,-71.85 244.5,-63.48\"/>\n",
       "<polygon fill=\"black\" stroke=\"black\" points=\"248,-63.24 244.5,-53.24 241,-63.24 248,-63.24\"/>\n",
       "</g>\n",
       "<!-- 5 -->\n",
       "<g id=\"node6\" class=\"node\">\n",
       "<title>5</title>\n",
       "<path fill=\"#ffffff\" stroke=\"black\" d=\"M477,-53C477,-53 350,-53 350,-53 344,-53 338,-47 338,-41 338,-41 338,-12 338,-12 338,-6 344,0 350,0 350,0 477,0 477,0 483,0 489,-6 489,-12 489,-12 489,-41 489,-41 489,-47 483,-53 477,-53\"/>\n",
       "<text text-anchor=\"middle\" x=\"413.5\" y=\"-37.8\" font-family=\"Helvetica,sans-Serif\" font-size=\"14.00\">squared_error = 0.002</text>\n",
       "<text text-anchor=\"middle\" x=\"413.5\" y=\"-22.8\" font-family=\"Helvetica,sans-Serif\" font-size=\"14.00\">samples = 118</text>\n",
       "<text text-anchor=\"middle\" x=\"413.5\" y=\"-7.8\" font-family=\"Helvetica,sans-Serif\" font-size=\"14.00\">value = 0.039</text>\n",
       "</g>\n",
       "<!-- 4&#45;&gt;5 -->\n",
       "<g id=\"edge5\" class=\"edge\">\n",
       "<title>4&#45;&gt;5</title>\n",
       "<path fill=\"none\" stroke=\"black\" d=\"M413.5,-88.95C413.5,-80.72 413.5,-71.85 413.5,-63.48\"/>\n",
       "<polygon fill=\"black\" stroke=\"black\" points=\"417,-63.24 413.5,-53.24 410,-63.24 417,-63.24\"/>\n",
       "</g>\n",
       "<!-- 6 -->\n",
       "<g id=\"node7\" class=\"node\">\n",
       "<title>6</title>\n",
       "<path fill=\"#eeaa7a\" stroke=\"black\" d=\"M646,-53C646,-53 519,-53 519,-53 513,-53 507,-47 507,-41 507,-41 507,-12 507,-12 507,-6 513,0 519,0 519,0 646,0 646,0 652,0 658,-6 658,-12 658,-12 658,-41 658,-41 658,-47 652,-53 646,-53\"/>\n",
       "<text text-anchor=\"middle\" x=\"582.5\" y=\"-37.8\" font-family=\"Helvetica,sans-Serif\" font-size=\"14.00\">squared_error = 0.002</text>\n",
       "<text text-anchor=\"middle\" x=\"582.5\" y=\"-22.8\" font-family=\"Helvetica,sans-Serif\" font-size=\"14.00\">samples = 32</text>\n",
       "<text text-anchor=\"middle\" x=\"582.5\" y=\"-7.8\" font-family=\"Helvetica,sans-Serif\" font-size=\"14.00\">value = 0.171</text>\n",
       "</g>\n",
       "<!-- 4&#45;&gt;6 -->\n",
       "<g id=\"edge6\" class=\"edge\">\n",
       "<title>4&#45;&gt;6</title>\n",
       "<path fill=\"none\" stroke=\"black\" d=\"M472.61,-88.95C490.52,-78.93 510.11,-67.98 527.73,-58.13\"/>\n",
       "<polygon fill=\"black\" stroke=\"black\" points=\"529.72,-61.02 536.74,-53.09 526.31,-54.91 529.72,-61.02\"/>\n",
       "</g>\n",
       "</g>\n",
       "</svg>\n"
      ],
      "text/plain": [
       "<graphviz.sources.Source at 0x7f702c2f9d60>"
      ]
     },
     "execution_count": 24,
     "metadata": {},
     "output_type": "execute_result"
    }
   ],
   "source": [
    "export_graphviz(tree_reg,\n",
    "                out_file=str(IMAGE_PATH / 'reg_tree.dot'),\n",
    "                feature_names=['x1'],\n",
    "                rounded=True,\n",
    "                filled=True)\n",
    "Source.from_file(IMAGE_PATH / 'reg_tree.dot')"
   ]
  },
  {
   "cell_type": "code",
   "execution_count": 25,
   "id": "59aeeb8c-e095-4022-968c-29462ac73aa5",
   "metadata": {},
   "outputs": [
    {
     "data": {
      "text/plain": [
       "array([-0.34138003, -0.45416115, -2.        , -2.        ,  0.31192939,\n",
       "       -2.        , -2.        ])"
      ]
     },
     "execution_count": 25,
     "metadata": {},
     "output_type": "execute_result"
    }
   ],
   "source": [
    "tree_reg.tree_.threshold"
   ]
  },
  {
   "cell_type": "code",
   "execution_count": 26,
   "id": "b06f9aef-8fad-472d-bf75-d8b6ac951872",
   "metadata": {},
   "outputs": [
    {
     "data": {
      "text/plain": [
       "array([[[0.08715379]],\n",
       "\n",
       "       [[0.18566247]],\n",
       "\n",
       "       [[0.23572347]],\n",
       "\n",
       "       [[0.16420775]],\n",
       "\n",
       "       [[0.06745205]],\n",
       "\n",
       "       [[0.03935803]],\n",
       "\n",
       "       [[0.17104873]]])"
      ]
     },
     "execution_count": 26,
     "metadata": {},
     "output_type": "execute_result"
    }
   ],
   "source": [
    "tree_reg.tree_.value"
   ]
  },
  {
   "cell_type": "code",
   "execution_count": 27,
   "id": "fe10b4a5-5b7c-432d-a0be-f8a77fff6001",
   "metadata": {},
   "outputs": [
    {
     "data": {
      "text/html": [
       "<style>#sk-container-id-4 {color: black;background-color: white;}#sk-container-id-4 pre{padding: 0;}#sk-container-id-4 div.sk-toggleable {background-color: white;}#sk-container-id-4 label.sk-toggleable__label {cursor: pointer;display: block;width: 100%;margin-bottom: 0;padding: 0.3em;box-sizing: border-box;text-align: center;}#sk-container-id-4 label.sk-toggleable__label-arrow:before {content: \"▸\";float: left;margin-right: 0.25em;color: #696969;}#sk-container-id-4 label.sk-toggleable__label-arrow:hover:before {color: black;}#sk-container-id-4 div.sk-estimator:hover label.sk-toggleable__label-arrow:before {color: black;}#sk-container-id-4 div.sk-toggleable__content {max-height: 0;max-width: 0;overflow: hidden;text-align: left;background-color: #f0f8ff;}#sk-container-id-4 div.sk-toggleable__content pre {margin: 0.2em;color: black;border-radius: 0.25em;background-color: #f0f8ff;}#sk-container-id-4 input.sk-toggleable__control:checked~div.sk-toggleable__content {max-height: 200px;max-width: 100%;overflow: auto;}#sk-container-id-4 input.sk-toggleable__control:checked~label.sk-toggleable__label-arrow:before {content: \"▾\";}#sk-container-id-4 div.sk-estimator input.sk-toggleable__control:checked~label.sk-toggleable__label {background-color: #d4ebff;}#sk-container-id-4 div.sk-label input.sk-toggleable__control:checked~label.sk-toggleable__label {background-color: #d4ebff;}#sk-container-id-4 input.sk-hidden--visually {border: 0;clip: rect(1px 1px 1px 1px);clip: rect(1px, 1px, 1px, 1px);height: 1px;margin: -1px;overflow: hidden;padding: 0;position: absolute;width: 1px;}#sk-container-id-4 div.sk-estimator {font-family: monospace;background-color: #f0f8ff;border: 1px dotted black;border-radius: 0.25em;box-sizing: border-box;margin-bottom: 0.5em;}#sk-container-id-4 div.sk-estimator:hover {background-color: #d4ebff;}#sk-container-id-4 div.sk-parallel-item::after {content: \"\";width: 100%;border-bottom: 1px solid gray;flex-grow: 1;}#sk-container-id-4 div.sk-label:hover label.sk-toggleable__label {background-color: #d4ebff;}#sk-container-id-4 div.sk-serial::before {content: \"\";position: absolute;border-left: 1px solid gray;box-sizing: border-box;top: 0;bottom: 0;left: 50%;z-index: 0;}#sk-container-id-4 div.sk-serial {display: flex;flex-direction: column;align-items: center;background-color: white;padding-right: 0.2em;padding-left: 0.2em;position: relative;}#sk-container-id-4 div.sk-item {position: relative;z-index: 1;}#sk-container-id-4 div.sk-parallel {display: flex;align-items: stretch;justify-content: center;background-color: white;position: relative;}#sk-container-id-4 div.sk-item::before, #sk-container-id-4 div.sk-parallel-item::before {content: \"\";position: absolute;border-left: 1px solid gray;box-sizing: border-box;top: 0;bottom: 0;left: 50%;z-index: -1;}#sk-container-id-4 div.sk-parallel-item {display: flex;flex-direction: column;z-index: 1;position: relative;background-color: white;}#sk-container-id-4 div.sk-parallel-item:first-child::after {align-self: flex-end;width: 50%;}#sk-container-id-4 div.sk-parallel-item:last-child::after {align-self: flex-start;width: 50%;}#sk-container-id-4 div.sk-parallel-item:only-child::after {width: 0;}#sk-container-id-4 div.sk-dashed-wrapped {border: 1px dashed gray;margin: 0 0.4em 0.5em 0.4em;box-sizing: border-box;padding-bottom: 0.4em;background-color: white;}#sk-container-id-4 div.sk-label label {font-family: monospace;font-weight: bold;display: inline-block;line-height: 1.2em;}#sk-container-id-4 div.sk-label-container {text-align: center;}#sk-container-id-4 div.sk-container {/* jupyter's `normalize.less` sets `[hidden] { display: none; }` but bootstrap.min.css set `[hidden] { display: none !important; }` so we also need the `!important` here to be able to override the default hidden behavior on the sphinx rendered scikit-learn.org. See: https://github.com/scikit-learn/scikit-learn/issues/21755 */display: inline-block !important;position: relative;}#sk-container-id-4 div.sk-text-repr-fallback {display: none;}</style><div id=\"sk-container-id-4\" class=\"sk-top-container\"><div class=\"sk-text-repr-fallback\"><pre>DecisionTreeRegressor(min_samples_leaf=10, random_state=42)</pre><b>In a Jupyter environment, please rerun this cell to show the HTML representation or trust the notebook. <br />On GitHub, the HTML representation is unable to render, please try loading this page with nbviewer.org.</b></div><div class=\"sk-container\" hidden><div class=\"sk-item\"><div class=\"sk-estimator sk-toggleable\"><input class=\"sk-toggleable__control sk-hidden--visually\" id=\"sk-estimator-id-4\" type=\"checkbox\" checked><label for=\"sk-estimator-id-4\" class=\"sk-toggleable__label sk-toggleable__label-arrow\">DecisionTreeRegressor</label><div class=\"sk-toggleable__content\"><pre>DecisionTreeRegressor(min_samples_leaf=10, random_state=42)</pre></div></div></div></div></div>"
      ],
      "text/plain": [
       "DecisionTreeRegressor(min_samples_leaf=10, random_state=42)"
      ]
     },
     "execution_count": 27,
     "metadata": {},
     "output_type": "execute_result"
    }
   ],
   "source": [
    "## without any regularization, tree reg looks overfitting\n",
    "tree_reg1 = DecisionTreeRegressor(random_state=42)\n",
    "tree_reg2 = DecisionTreeRegressor(min_samples_leaf=10, random_state=42)\n",
    "tree_reg1.fit(X, y)\n",
    "tree_reg2.fit(X, y)"
   ]
  },
  {
   "cell_type": "code",
   "execution_count": 28,
   "id": "319e43d0-21ca-4a89-a9af-8266356ee10a",
   "metadata": {},
   "outputs": [
    {
     "data": {
      "text/plain": [
       "(500, 1)"
      ]
     },
     "execution_count": 28,
     "metadata": {},
     "output_type": "execute_result"
    }
   ],
   "source": [
    "## randomly some test set\n",
    "x1 = np.linspace(-0.5, 0.5, 500).reshape(-1, 1)\n",
    "x1.shape"
   ]
  },
  {
   "cell_type": "code",
   "execution_count": 30,
   "id": "bee16769-5460-4f1d-9933-1e56072ae849",
   "metadata": {},
   "outputs": [
    {
     "data": {
      "image/png": "[encoded data removed]",
      "text/plain": [
       "<Figure size 1000x400 with 2 Axes>"
      ]
     },
     "metadata": {},
     "output_type": "display_data"
    }
   ],
   "source": [
    "y_pred1 = tree_reg1.predict(x1)\n",
    "y_pred2 = tree_reg2.predict(x1)\n",
    "\n",
    "fig, axes = plt.subplots(ncols=2, figsize=(10, 4), sharey=True)\n",
    "\n",
    "plt.sca(axes[0])\n",
    "plt.plot(X, y, 'b.')\n",
    "plt.plot(x1, y_pred1, 'r.-', label=r'$\\hat{y}$')\n",
    "plt.axis([-0.5, 0.5, -0.05, 0.25])\n",
    "plt.xlabel('x1')\n",
    "plt.ylabel('y_predict')\n",
    "plt.legend()\n",
    "plt.title('No restriction')\n",
    "\n",
    "plt.sca(axes[1])\n",
    "plt.plot(X, y, 'b.')\n",
    "plt.plot(x1, y_pred2, 'r.-')\n",
    "plt.axis([-0.5, 0.5, -0.05, 0.25])\n",
    "plt.xlabel('x1')\n",
    "plt.title(f'min_samples_leaf= {tree_reg2.min_samples_leaf}')\n",
    "plt.show()"
   ]
  },
  {
   "cell_type": "code",
   "execution_count": 32,
   "id": "0503c7a1-c2e6-413a-8812-5b904623b5af",
   "metadata": {},
   "outputs": [
    {
     "data": {
      "text/plain": [
       "(399,)"
      ]
     },
     "execution_count": 32,
     "metadata": {},
     "output_type": "execute_result"
    }
   ],
   "source": [
    "tree_reg1.tree_.threshold.shape"
   ]
  },
  {
   "cell_type": "code",
   "execution_count": 33,
   "id": "ee8fa631-3793-4a3b-a557-c0d9433a5c11",
   "metadata": {},
   "outputs": [
    {
     "data": {
      "text/plain": [
       "(29,)"
      ]
     },
     "execution_count": 33,
     "metadata": {},
     "output_type": "execute_result"
    }
   ],
   "source": [
    "tree_reg2.tree_.threshold.shape"
   ]
  },
  {
   "cell_type": "markdown",
   "id": "a28ea809-0a96-4db6-8bf7-52ac7e2da3b7",
   "metadata": {},
   "source": [
    "Which `min_samples_leaf` hyperparameter, the result is in much more reasonable model.\n",
    "\n",
    "However, the tree regression has a few limitations:\n",
    "- It is an orthogonal decision boundaries (all splits are prependicular to an axis), which make them to sensitive to the data's orientation (sometime, the tree has splitted data in unnecessary when data is changed to another dimensional position). One way to limit this problem is to scale the data then apply a Pricipal Component Analysis (PCA) tranformation.\n",
    "\n",
    "### 3.1. Decision Tree have a high Variance\n",
    "The main issue with the tree is that it has quite a high variance: small changes to the hyperparameters or to the data may produce very different models. For example, randomly select the set of features to evaluate at each node (`random_state=`), even retraining the same model on exact same data may produce very different model.\n",
    "\n",
    "Luckily, the `Random Forest` class provides an average predictions over many trees. \n",
    "\n",
    "## Exercises\n",
    "1. The depth of a well-balanced binary tree containing m leaf is equal to $log_2(m)$, rounded up. \n",
    "2. A node's Gini impurity generally is lower than its parent's (CART training algorithm's cost function, splits node in the way that minimize the weighted sum of its children's Gini). But, sometime it is greater than its parent (increase when compensated for by a decrease in the other child's impurity)\n",
    "3. If the tree is overfitting, may be a good idea to decrease the `max_depth`.\n",
    "4. Decision Trees don't care about the features are scaled or centered. So if Tree is underfitting, scaling features that is waste time.\n",
    "5. Training time is double when we have double features in training set."
   ]
  },
  {
   "cell_type": "code",
   "execution_count": 35,
   "id": "991f42ac-8a96-4324-86d2-0dacfed4c345",
   "metadata": {},
   "outputs": [],
   "source": [
    "X, y = make_moons(n_samples=10000, noise=0.4, random_state=42)\n",
    "\n",
    "Xtrain, Xtest, ytrain, ytest = train_test_split(X, y, test_size=0.2, random_state=42)"
   ]
  },
  {
   "cell_type": "code",
   "execution_count": 36,
   "id": "25916acc-54bb-46c2-b127-019f52df41c7",
   "metadata": {},
   "outputs": [
    {
     "data": {
      "text/html": [
       "<style>#sk-container-id-5 {color: black;background-color: white;}#sk-container-id-5 pre{padding: 0;}#sk-container-id-5 div.sk-toggleable {background-color: white;}#sk-container-id-5 label.sk-toggleable__label {cursor: pointer;display: block;width: 100%;margin-bottom: 0;padding: 0.3em;box-sizing: border-box;text-align: center;}#sk-container-id-5 label.sk-toggleable__label-arrow:before {content: \"▸\";float: left;margin-right: 0.25em;color: #696969;}#sk-container-id-5 label.sk-toggleable__label-arrow:hover:before {color: black;}#sk-container-id-5 div.sk-estimator:hover label.sk-toggleable__label-arrow:before {color: black;}#sk-container-id-5 div.sk-toggleable__content {max-height: 0;max-width: 0;overflow: hidden;text-align: left;background-color: #f0f8ff;}#sk-container-id-5 div.sk-toggleable__content pre {margin: 0.2em;color: black;border-radius: 0.25em;background-color: #f0f8ff;}#sk-container-id-5 input.sk-toggleable__control:checked~div.sk-toggleable__content {max-height: 200px;max-width: 100%;overflow: auto;}#sk-container-id-5 input.sk-toggleable__control:checked~label.sk-toggleable__label-arrow:before {content: \"▾\";}#sk-container-id-5 div.sk-estimator input.sk-toggleable__control:checked~label.sk-toggleable__label {background-color: #d4ebff;}#sk-container-id-5 div.sk-label input.sk-toggleable__control:checked~label.sk-toggleable__label {background-color: #d4ebff;}#sk-container-id-5 input.sk-hidden--visually {border: 0;clip: rect(1px 1px 1px 1px);clip: rect(1px, 1px, 1px, 1px);height: 1px;margin: -1px;overflow: hidden;padding: 0;position: absolute;width: 1px;}#sk-container-id-5 div.sk-estimator {font-family: monospace;background-color: #f0f8ff;border: 1px dotted black;border-radius: 0.25em;box-sizing: border-box;margin-bottom: 0.5em;}#sk-container-id-5 div.sk-estimator:hover {background-color: #d4ebff;}#sk-container-id-5 div.sk-parallel-item::after {content: \"\";width: 100%;border-bottom: 1px solid gray;flex-grow: 1;}#sk-container-id-5 div.sk-label:hover label.sk-toggleable__label {background-color: #d4ebff;}#sk-container-id-5 div.sk-serial::before {content: \"\";position: absolute;border-left: 1px solid gray;box-sizing: border-box;top: 0;bottom: 0;left: 50%;z-index: 0;}#sk-container-id-5 div.sk-serial {display: flex;flex-direction: column;align-items: center;background-color: white;padding-right: 0.2em;padding-left: 0.2em;position: relative;}#sk-container-id-5 div.sk-item {position: relative;z-index: 1;}#sk-container-id-5 div.sk-parallel {display: flex;align-items: stretch;justify-content: center;background-color: white;position: relative;}#sk-container-id-5 div.sk-item::before, #sk-container-id-5 div.sk-parallel-item::before {content: \"\";position: absolute;border-left: 1px solid gray;box-sizing: border-box;top: 0;bottom: 0;left: 50%;z-index: -1;}#sk-container-id-5 div.sk-parallel-item {display: flex;flex-direction: column;z-index: 1;position: relative;background-color: white;}#sk-container-id-5 div.sk-parallel-item:first-child::after {align-self: flex-end;width: 50%;}#sk-container-id-5 div.sk-parallel-item:last-child::after {align-self: flex-start;width: 50%;}#sk-container-id-5 div.sk-parallel-item:only-child::after {width: 0;}#sk-container-id-5 div.sk-dashed-wrapped {border: 1px dashed gray;margin: 0 0.4em 0.5em 0.4em;box-sizing: border-box;padding-bottom: 0.4em;background-color: white;}#sk-container-id-5 div.sk-label label {font-family: monospace;font-weight: bold;display: inline-block;line-height: 1.2em;}#sk-container-id-5 div.sk-label-container {text-align: center;}#sk-container-id-5 div.sk-container {/* jupyter's `normalize.less` sets `[hidden] { display: none; }` but bootstrap.min.css set `[hidden] { display: none !important; }` so we also need the `!important` here to be able to override the default hidden behavior on the sphinx rendered scikit-learn.org. See: https://github.com/scikit-learn/scikit-learn/issues/21755 */display: inline-block !important;position: relative;}#sk-container-id-5 div.sk-text-repr-fallback {display: none;}</style><div id=\"sk-container-id-5\" class=\"sk-top-container\"><div class=\"sk-text-repr-fallback\"><pre>GridSearchCV(cv=3, estimator=DecisionTreeClassifier(random_state=42),\n",
       "             param_grid={&#x27;max_depth&#x27;: [1, 2, 3, 4, 5, 6],\n",
       "                         &#x27;max_leaf_nodes&#x27;: [2, 3, 4, 5, 6, 7, 8, 9, 10, 11, 12,\n",
       "                                            13, 14, 15, 16, 17, 18, 19, 20, 21,\n",
       "                                            22, 23, 24, 25, 26, 27, 28, 29, 30,\n",
       "                                            31, ...],\n",
       "                         &#x27;min_samples_split&#x27;: [2, 3, 4]})</pre><b>In a Jupyter environment, please rerun this cell to show the HTML representation or trust the notebook. <br />On GitHub, the HTML representation is unable to render, please try loading this page with nbviewer.org.</b></div><div class=\"sk-container\" hidden><div class=\"sk-item sk-dashed-wrapped\"><div class=\"sk-label-container\"><div class=\"sk-label sk-toggleable\"><input class=\"sk-toggleable__control sk-hidden--visually\" id=\"sk-estimator-id-5\" type=\"checkbox\" ><label for=\"sk-estimator-id-5\" class=\"sk-toggleable__label sk-toggleable__label-arrow\">GridSearchCV</label><div class=\"sk-toggleable__content\"><pre>GridSearchCV(cv=3, estimator=DecisionTreeClassifier(random_state=42),\n",
       "             param_grid={&#x27;max_depth&#x27;: [1, 2, 3, 4, 5, 6],\n",
       "                         &#x27;max_leaf_nodes&#x27;: [2, 3, 4, 5, 6, 7, 8, 9, 10, 11, 12,\n",
       "                                            13, 14, 15, 16, 17, 18, 19, 20, 21,\n",
       "                                            22, 23, 24, 25, 26, 27, 28, 29, 30,\n",
       "                                            31, ...],\n",
       "                         &#x27;min_samples_split&#x27;: [2, 3, 4]})</pre></div></div></div><div class=\"sk-parallel\"><div class=\"sk-parallel-item\"><div class=\"sk-item\"><div class=\"sk-label-container\"><div class=\"sk-label sk-toggleable\"><input class=\"sk-toggleable__control sk-hidden--visually\" id=\"sk-estimator-id-6\" type=\"checkbox\" ><label for=\"sk-estimator-id-6\" class=\"sk-toggleable__label sk-toggleable__label-arrow\">estimator: DecisionTreeClassifier</label><div class=\"sk-toggleable__content\"><pre>DecisionTreeClassifier(random_state=42)</pre></div></div></div><div class=\"sk-serial\"><div class=\"sk-item\"><div class=\"sk-estimator sk-toggleable\"><input class=\"sk-toggleable__control sk-hidden--visually\" id=\"sk-estimator-id-7\" type=\"checkbox\" ><label for=\"sk-estimator-id-7\" class=\"sk-toggleable__label sk-toggleable__label-arrow\">DecisionTreeClassifier</label><div class=\"sk-toggleable__content\"><pre>DecisionTreeClassifier(random_state=42)</pre></div></div></div></div></div></div></div></div></div></div>"
      ],
      "text/plain": [
       "GridSearchCV(cv=3, estimator=DecisionTreeClassifier(random_state=42),\n",
       "             param_grid={'max_depth': [1, 2, 3, 4, 5, 6],\n",
       "                         'max_leaf_nodes': [2, 3, 4, 5, 6, 7, 8, 9, 10, 11, 12,\n",
       "                                            13, 14, 15, 16, 17, 18, 19, 20, 21,\n",
       "                                            22, 23, 24, 25, 26, 27, 28, 29, 30,\n",
       "                                            31, ...],\n",
       "                         'min_samples_split': [2, 3, 4]})"
      ]
     },
     "execution_count": 36,
     "metadata": {},
     "output_type": "execute_result"
    }
   ],
   "source": [
    "# use grid-search with cross-validation to find the best hyperparameter values for tree classifier.\n",
    "from sklearn.model_selection import GridSearchCV\n",
    "\n",
    "## setup searching hyperparameters\n",
    "params = {'max_leaf_nodes' : list(range(2, 100)),\n",
    "          'max_depth' : list(range(1, 7)),\n",
    "          'min_samples_split' : [2, 3, 4]}\n",
    "\n",
    "grid_searchcv = GridSearchCV(DecisionTreeClassifier(random_state=42),\n",
    "                             params,\n",
    "                             cv=3)\n",
    "\n",
    "grid_searchcv.fit(Xtrain, ytrain)"
   ]
  },
  {
   "cell_type": "code",
   "execution_count": 37,
   "id": "ce297bcc-b840-4e84-ae9c-3277ce7f3897",
   "metadata": {},
   "outputs": [
    {
     "data": {
      "text/html": [
       "<style>#sk-container-id-6 {color: black;background-color: white;}#sk-container-id-6 pre{padding: 0;}#sk-container-id-6 div.sk-toggleable {background-color: white;}#sk-container-id-6 label.sk-toggleable__label {cursor: pointer;display: block;width: 100%;margin-bottom: 0;padding: 0.3em;box-sizing: border-box;text-align: center;}#sk-container-id-6 label.sk-toggleable__label-arrow:before {content: \"▸\";float: left;margin-right: 0.25em;color: #696969;}#sk-container-id-6 label.sk-toggleable__label-arrow:hover:before {color: black;}#sk-container-id-6 div.sk-estimator:hover label.sk-toggleable__label-arrow:before {color: black;}#sk-container-id-6 div.sk-toggleable__content {max-height: 0;max-width: 0;overflow: hidden;text-align: left;background-color: #f0f8ff;}#sk-container-id-6 div.sk-toggleable__content pre {margin: 0.2em;color: black;border-radius: 0.25em;background-color: #f0f8ff;}#sk-container-id-6 input.sk-toggleable__control:checked~div.sk-toggleable__content {max-height: 200px;max-width: 100%;overflow: auto;}#sk-container-id-6 input.sk-toggleable__control:checked~label.sk-toggleable__label-arrow:before {content: \"▾\";}#sk-container-id-6 div.sk-estimator input.sk-toggleable__control:checked~label.sk-toggleable__label {background-color: #d4ebff;}#sk-container-id-6 div.sk-label input.sk-toggleable__control:checked~label.sk-toggleable__label {background-color: #d4ebff;}#sk-container-id-6 input.sk-hidden--visually {border: 0;clip: rect(1px 1px 1px 1px);clip: rect(1px, 1px, 1px, 1px);height: 1px;margin: -1px;overflow: hidden;padding: 0;position: absolute;width: 1px;}#sk-container-id-6 div.sk-estimator {font-family: monospace;background-color: #f0f8ff;border: 1px dotted black;border-radius: 0.25em;box-sizing: border-box;margin-bottom: 0.5em;}#sk-container-id-6 div.sk-estimator:hover {background-color: #d4ebff;}#sk-container-id-6 div.sk-parallel-item::after {content: \"\";width: 100%;border-bottom: 1px solid gray;flex-grow: 1;}#sk-container-id-6 div.sk-label:hover label.sk-toggleable__label {background-color: #d4ebff;}#sk-container-id-6 div.sk-serial::before {content: \"\";position: absolute;border-left: 1px solid gray;box-sizing: border-box;top: 0;bottom: 0;left: 50%;z-index: 0;}#sk-container-id-6 div.sk-serial {display: flex;flex-direction: column;align-items: center;background-color: white;padding-right: 0.2em;padding-left: 0.2em;position: relative;}#sk-container-id-6 div.sk-item {position: relative;z-index: 1;}#sk-container-id-6 div.sk-parallel {display: flex;align-items: stretch;justify-content: center;background-color: white;position: relative;}#sk-container-id-6 div.sk-item::before, #sk-container-id-6 div.sk-parallel-item::before {content: \"\";position: absolute;border-left: 1px solid gray;box-sizing: border-box;top: 0;bottom: 0;left: 50%;z-index: -1;}#sk-container-id-6 div.sk-parallel-item {display: flex;flex-direction: column;z-index: 1;position: relative;background-color: white;}#sk-container-id-6 div.sk-parallel-item:first-child::after {align-self: flex-end;width: 50%;}#sk-container-id-6 div.sk-parallel-item:last-child::after {align-self: flex-start;width: 50%;}#sk-container-id-6 div.sk-parallel-item:only-child::after {width: 0;}#sk-container-id-6 div.sk-dashed-wrapped {border: 1px dashed gray;margin: 0 0.4em 0.5em 0.4em;box-sizing: border-box;padding-bottom: 0.4em;background-color: white;}#sk-container-id-6 div.sk-label label {font-family: monospace;font-weight: bold;display: inline-block;line-height: 1.2em;}#sk-container-id-6 div.sk-label-container {text-align: center;}#sk-container-id-6 div.sk-container {/* jupyter's `normalize.less` sets `[hidden] { display: none; }` but bootstrap.min.css set `[hidden] { display: none !important; }` so we also need the `!important` here to be able to override the default hidden behavior on the sphinx rendered scikit-learn.org. See: https://github.com/scikit-learn/scikit-learn/issues/21755 */display: inline-block !important;position: relative;}#sk-container-id-6 div.sk-text-repr-fallback {display: none;}</style><div id=\"sk-container-id-6\" class=\"sk-top-container\"><div class=\"sk-text-repr-fallback\"><pre>DecisionTreeClassifier(max_depth=6, max_leaf_nodes=17, random_state=42)</pre><b>In a Jupyter environment, please rerun this cell to show the HTML representation or trust the notebook. <br />On GitHub, the HTML representation is unable to render, please try loading this page with nbviewer.org.</b></div><div class=\"sk-container\" hidden><div class=\"sk-item\"><div class=\"sk-estimator sk-toggleable\"><input class=\"sk-toggleable__control sk-hidden--visually\" id=\"sk-estimator-id-8\" type=\"checkbox\" checked><label for=\"sk-estimator-id-8\" class=\"sk-toggleable__label sk-toggleable__label-arrow\">DecisionTreeClassifier</label><div class=\"sk-toggleable__content\"><pre>DecisionTreeClassifier(max_depth=6, max_leaf_nodes=17, random_state=42)</pre></div></div></div></div></div>"
      ],
      "text/plain": [
       "DecisionTreeClassifier(max_depth=6, max_leaf_nodes=17, random_state=42)"
      ]
     },
     "execution_count": 37,
     "metadata": {},
     "output_type": "execute_result"
    }
   ],
   "source": [
    "grid_searchcv.best_estimator_"
   ]
  },
  {
   "cell_type": "code",
   "execution_count": 38,
   "id": "be33c1dd-66c4-4e9a-bd6b-1000c61e9d55",
   "metadata": {},
   "outputs": [
    {
     "data": {
      "text/plain": [
       "0.8595"
      ]
     },
     "execution_count": 38,
     "metadata": {},
     "output_type": "execute_result"
    }
   ],
   "source": [
    "from sklearn.metrics import accuracy_score\n",
    "\n",
    "y_pred = grid_searchcv.predict(Xtest)\n",
    "\n",
    "accuracy_score(ytest, y_pred)"
   ]
  },
  {
   "cell_type": "code",
   "execution_count": 39,
   "id": "999342af-3d66-45af-b211-7d230b483c53",
   "metadata": {},
   "outputs": [
    {
     "data": {
      "text/plain": [
       "0.8595"
      ]
     },
     "execution_count": 39,
     "metadata": {},
     "output_type": "execute_result"
    }
   ],
   "source": [
    "best_model = grid_searchcv.best_estimator_\n",
    "y_pred = best_model.predict(Xtest)\n",
    "accuracy_score(ytest, y_pred)"
   ]
  },
  {
   "cell_type": "code",
   "execution_count": 40,
   "id": "030a965e-a065-46b0-8161-4386d0a52f10",
   "metadata": {},
   "outputs": [
    {
     "data": {
      "text/plain": [
       "0.8541253704877287"
      ]
     },
     "execution_count": 40,
     "metadata": {},
     "output_type": "execute_result"
    }
   ],
   "source": [
    "grid_searchcv.best_score_"
   ]
  },
  {
   "cell_type": "code",
   "execution_count": 41,
   "id": "88c44843-e303-4ee3-8439-df910bba9e0a",
   "metadata": {},
   "outputs": [
    {
     "data": {
      "text/plain": [
       "array([0, 1])"
      ]
     },
     "execution_count": 41,
     "metadata": {},
     "output_type": "execute_result"
    }
   ],
   "source": [
    "grid_searchcv.classes_"
   ]
  },
  {
   "cell_type": "code",
   "execution_count": null,
   "id": "2ce7ef84-53c8-4034-a27f-dfd80a6373f5",
   "metadata": {},
   "outputs": [],
   "source": []
  }
 ],
 "metadata": {
  "kernelspec": {
   "display_name": "Python 3 (ipykernel)",
   "language": "python",
   "name": "python3"
  },
  "language_info": {
   "codemirror_mode": {
    "name": "ipython",
    "version": 3
   },
   "file_extension": ".py",
   "mimetype": "text/x-python",
   "name": "python",
   "nbconvert_exporter": "python",
   "pygments_lexer": "ipython3",
   "version": "3.9.16"
  }
 },
 "nbformat": 4,
 "nbformat_minor": 5
}
